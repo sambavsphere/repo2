{
 "cells": [
  {
   "cell_type": "code",
   "execution_count": 11,
   "metadata": {
    "collapsed": true
   },
   "outputs": [],
   "source": [
    "import re"
   ]
  },
  {
   "cell_type": "code",
   "execution_count": 12,
   "metadata": {
    "collapsed": false
   },
   "outputs": [
    {
     "name": "stdout",
     "output_type": "stream",
     "text": [
      "samba 23 9676622023 askeld@gmail.com\n",
      "24 9700934793 dsajljds@yahoo.com Anil\n",
      "sfskfjf@redif.com  9441991679 shiva 25\n",
      "\n",
      "\n"
     ]
    }
   ],
   "source": [
    "f=open(\"readme.txt\")\n",
    "data = f.read()\n",
    "print data"
   ]
  },
  {
   "cell_type": "code",
   "execution_count": 13,
   "metadata": {
    "collapsed": false
   },
   "outputs": [
    {
     "name": "stdout",
     "output_type": "stream",
     "text": [
      "['9676622023', '9700934793', '9441991679']\n"
     ]
    }
   ],
   "source": [
    "print re.findall(\"[0-9]{10}\",data)"
   ]
  },
  {
   "cell_type": "code",
   "execution_count": 8,
   "metadata": {
    "collapsed": false
   },
   "outputs": [
    {
     "name": "stdout",
     "output_type": "stream",
     "text": [
      "['s', 'a', 'm', 'b', 'a', ' ', ' ', ' ', ' ', 'A', 'n', 'i', 'l', ' ', 's', 'h', 'i', 'v', 'a', ' ']\n"
     ]
    }
   ],
   "source": [
    "print re.findall(\"[a-z A-z]\",data)"
   ]
  },
  {
   "cell_type": "code",
   "execution_count": 9,
   "metadata": {
    "collapsed": true
   },
   "outputs": [],
   "source": [
    "s=\"python program\""
   ]
  },
  {
   "cell_type": "code",
   "execution_count": 10,
   "metadata": {
    "collapsed": false
   },
   "outputs": [
    {
     "data": {
      "text/plain": [
       "<_sre.SRE_Match at 0x7fe648c6ae68>"
      ]
     },
     "execution_count": 10,
     "metadata": {},
     "output_type": "execute_result"
    }
   ],
   "source": [
    "re.match(\"py\",s)"
   ]
  },
  {
   "cell_type": "code",
   "execution_count": 11,
   "metadata": {
    "collapsed": false
   },
   "outputs": [
    {
     "data": {
      "text/plain": [
       "<_sre.SRE_Match at 0x7fe648c6aed0>"
      ]
     },
     "execution_count": 11,
     "metadata": {},
     "output_type": "execute_result"
    }
   ],
   "source": [
    "re.search(\"py\",s)"
   ]
  },
  {
   "cell_type": "code",
   "execution_count": 12,
   "metadata": {
    "collapsed": false
   },
   "outputs": [
    {
     "name": "stdout",
     "output_type": "stream",
     "text": [
      "13136032\n"
     ]
    }
   ],
   "source": [
    "a=10\n",
    "print id(a)"
   ]
  },
  {
   "cell_type": "code",
   "execution_count": 13,
   "metadata": {
    "collapsed": true
   },
   "outputs": [],
   "source": [
    "a=10"
   ]
  },
  {
   "cell_type": "code",
   "execution_count": 14,
   "metadata": {
    "collapsed": false
   },
   "outputs": [
    {
     "name": "stdout",
     "output_type": "stream",
     "text": [
      "13136032\n"
     ]
    }
   ],
   "source": [
    "print id(a)"
   ]
  },
  {
   "cell_type": "code",
   "execution_count": 17,
   "metadata": {
    "collapsed": true
   },
   "outputs": [],
   "source": [
    "re.match(\"pro\",s)"
   ]
  },
  {
   "cell_type": "code",
   "execution_count": 18,
   "metadata": {
    "collapsed": false
   },
   "outputs": [
    {
     "data": {
      "text/plain": [
       "<_sre.SRE_Match at 0x7fe648c97308>"
      ]
     },
     "execution_count": 18,
     "metadata": {},
     "output_type": "execute_result"
    }
   ],
   "source": [
    "re.search(\"pro\",s)"
   ]
  },
  {
   "cell_type": "code",
   "execution_count": 15,
   "metadata": {
    "collapsed": true
   },
   "outputs": [],
   "source": [
    "s=\"aaassscccdddeeerrttyyuuuii12344567898\""
   ]
  },
  {
   "cell_type": "code",
   "execution_count": 16,
   "metadata": {
    "collapsed": false
   },
   "outputs": [
    {
     "name": "stdout",
     "output_type": "stream",
     "text": [
      "['e', 'e', 'e', 'r', 'r', '1', '2', '3']\n"
     ]
    }
   ],
   "source": [
    "print re.findall(\"[123qwer]\",s)"
   ]
  },
  {
   "cell_type": "code",
   "execution_count": 17,
   "metadata": {
    "collapsed": false
   },
   "outputs": [
    {
     "name": "stdout",
     "output_type": "stream",
     "text": [
      "[]\n"
     ]
    }
   ],
   "source": [
    "print re.findall(\"123qwer\",s)"
   ]
  },
  {
   "cell_type": "code",
   "execution_count": 18,
   "metadata": {
    "collapsed": false
   },
   "outputs": [
    {
     "name": "stdout",
     "output_type": "stream",
     "text": [
      "['a', 'a', 'a', 's', 's', 's', 'c', 'c', 'c', 'd', 'd', 'd', 't', 't', 'y', 'y', 'u', 'u', 'u', 'i', 'i', '4', '4', '5', '6', '7', '8', '9', '8']\n"
     ]
    }
   ],
   "source": [
    "print re.findall(\"[^123qwer]\",s)"
   ]
  },
  {
   "cell_type": "code",
   "execution_count": 22,
   "metadata": {
    "collapsed": false
   },
   "outputs": [
    {
     "name": "stdout",
     "output_type": "stream",
     "text": [
      "['a', 'a', 'a', 's', 's', 's', 'c', 'c', 'c', 'd', 'd', 'd', 'e', 'e', 'e', 'r', 'r', 't', 't', 'y', 'y', 'u', 'u', 'u', 'i', 'i']\n"
     ]
    }
   ],
   "source": [
    "print re.findall(\"[a-z]\",s)"
   ]
  },
  {
   "cell_type": "code",
   "execution_count": 23,
   "metadata": {
    "collapsed": false
   },
   "outputs": [
    {
     "name": "stdout",
     "output_type": "stream",
     "text": [
      "['a', 'a', 'a', 's', 's', 's', 'c', 'c', 'c', 'd', 'd', 'd', 'e', 'e', 'e', 'r', 'r', 't', 't', 'y', 'y', 'u', 'u', 'u', 'i', 'i', '1', '2', '3', '4', '4', '5', '6', '7', '8', '9', '8']\n"
     ]
    }
   ],
   "source": [
    "print re.findall(\"[a-z 0-9]\",s)"
   ]
  },
  {
   "cell_type": "code",
   "execution_count": 19,
   "metadata": {
    "collapsed": false
   },
   "outputs": [
    {
     "name": "stdout",
     "output_type": "stream",
     "text": [
      "['i1']\n"
     ]
    }
   ],
   "source": [
    "print re.findall(\"[a-z][0-9]\",s)"
   ]
  },
  {
   "cell_type": "code",
   "execution_count": 24,
   "metadata": {
    "collapsed": false
   },
   "outputs": [
    {
     "name": "stdout",
     "output_type": "stream",
     "text": [
      "[]\n"
     ]
    }
   ],
   "source": [
    "print re.findall(\"[^a-z 0-9]\",s)"
   ]
  },
  {
   "cell_type": "code",
   "execution_count": 20,
   "metadata": {
    "collapsed": false
   },
   "outputs": [
    {
     "name": "stdout",
     "output_type": "stream",
     "text": [
      "['aa', 'as', 'ss', 'cc', 'cd', 'dd', 'ee', 'er', 'rt', 'ty', 'yu', 'uu', 'ii']\n"
     ]
    }
   ],
   "source": [
    "print re.findall(\"[a-z][a-z]\",s)"
   ]
  },
  {
   "cell_type": "code",
   "execution_count": 21,
   "metadata": {
    "collapsed": false
   },
   "outputs": [
    {
     "name": "stdout",
     "output_type": "stream",
     "text": [
      "['aa', 'as', 'ss', 'cc', 'cd', 'dd', 'ee', 'er', 'rt', 'ty', 'yu', 'uu', 'ii']\n"
     ]
    }
   ],
   "source": [
    "print re.findall(\"[a-z]{2}\",s)"
   ]
  },
  {
   "cell_type": "code",
   "execution_count": 22,
   "metadata": {
    "collapsed": true
   },
   "outputs": [],
   "source": [
    "s=\"aaassscccdddeeerrttyyuuu#$.\\n\\tii123445$%678AWERDFTT %^%&&***98\""
   ]
  },
  {
   "cell_type": "code",
   "execution_count": 23,
   "metadata": {
    "collapsed": false
   },
   "outputs": [
    {
     "name": "stdout",
     "output_type": "stream",
     "text": [
      "['a', 'a', 'a', 's', 's', 's', 'c', 'c', 'c', 'd', 'd', 'd', 'e', 'e', 'e', 'r', 'r', 't', 't', 'y', 'y', 'u', 'u', 'u', 'i', 'i', '1', '2', '3', '4', '4', '5', '6', '7', '8', ' ', '9', '8']\n"
     ]
    }
   ],
   "source": [
    "print re.findall(\"[a-z 0-9]\",s)"
   ]
  },
  {
   "cell_type": "code",
   "execution_count": 25,
   "metadata": {
    "collapsed": false
   },
   "outputs": [
    {
     "name": "stdout",
     "output_type": "stream",
     "text": [
      "['a', 'a', 'a', 's', 's', 's', 'c', 'c', 'c', 'd', 'd', 'd', 'e', 'e', 'e', 'r', 'r', 't', 't', 'y', 'y', 'u', 'u', 'u', 'i', 'i', '1', '2', '3', '4', '4', '5', '6', '7', '8', 'A', 'W', 'E', 'R', 'D', 'F', 'T', 'T', ' ', '9', '8']\n"
     ]
    }
   ],
   "source": [
    "print re.findall(\"[a-z 0-9]\",s,re.I)"
   ]
  },
  {
   "cell_type": "code",
   "execution_count": 27,
   "metadata": {
    "collapsed": true
   },
   "outputs": [],
   "source": [
    "s=\"aaassscccdddeeerrttyyuuu#$.\\n\\tii123445$%67898ABCDwerrWERTYUIUO\""
   ]
  },
  {
   "cell_type": "code",
   "execution_count": 28,
   "metadata": {
    "collapsed": false
   },
   "outputs": [
    {
     "name": "stdout",
     "output_type": "stream",
     "text": [
      "['a', 'a', 'a', 's', 's', 's', 'c', 'c', 'c', 'd', 'd', 'd', 'e', 'e', 'e', 'r', 'r', 't', 't', 'y', 'y', 'u', 'u', 'u', 'i', 'i', '1', '2', '3', '4', '4', '5', '6', '7', '8', '9', '8', 'w', 'e', 'r', 'r']\n"
     ]
    }
   ],
   "source": [
    "print re.findall(\"[a-z 0-9]\",s)"
   ]
  },
  {
   "cell_type": "code",
   "execution_count": 29,
   "metadata": {
    "collapsed": false
   },
   "outputs": [
    {
     "name": "stdout",
     "output_type": "stream",
     "text": [
      "['a', 'a', 'a', 's', 's', 's', 'c', 'c', 'c', 'd', 'd', 'd', 'e', 'e', 'e', 'r', 'r', 't', 't', 'y', 'y', 'u', 'u', 'u', 'i', 'i', '1', '2', '3', '4', '4', '5', '6', '7', '8', '9', '8', 'A', 'B', 'C', 'D', 'w', 'e', 'r', 'r', 'W', 'E', 'R', 'T', 'Y', 'U', 'I', 'U', 'O']\n"
     ]
    }
   ],
   "source": [
    "print re.findall(\"[a-z A-Z 0-9]\",s)"
   ]
  },
  {
   "cell_type": "code",
   "execution_count": 30,
   "metadata": {
    "collapsed": false
   },
   "outputs": [
    {
     "name": "stdout",
     "output_type": "stream",
     "text": [
      "['a', 'a', 'a', 's', 's', 's', 'c', 'c', 'c', 'd', 'd', 'd', 'e', 'e', 'e', 'r', 'r', 't', 't', 'y', 'y', 'u', 'u', 'u', 'i', 'i', '1', '2', '3', '4', '4', '5', '6', '7', '8', '9', '8', 'A', 'B', 'C', 'D', 'w', 'e', 'r', 'r', 'W', 'E', 'R', 'T', 'Y', 'U', 'I', 'U', 'O']\n"
     ]
    }
   ],
   "source": [
    "print re.findall(\"[a-z 0-9]\",s,re.I)"
   ]
  },
  {
   "cell_type": "code",
   "execution_count": 31,
   "metadata": {
    "collapsed": false
   },
   "outputs": [
    {
     "data": {
      "text/plain": [
       "'aaassscccdddeeerrttyyuuu#$.\\n\\tii123445$%67898ABCDwerrWERTYUIUO'"
      ]
     },
     "execution_count": 31,
     "metadata": {},
     "output_type": "execute_result"
    }
   ],
   "source": [
    "s"
   ]
  },
  {
   "cell_type": "code",
   "execution_count": 26,
   "metadata": {
    "collapsed": true
   },
   "outputs": [],
   "source": [
    "s=\"aaassscc*cddde+eerrttyy.uu.u#$.\\n\\tii123445$%67898\""
   ]
  },
  {
   "cell_type": "code",
   "execution_count": 27,
   "metadata": {
    "collapsed": false
   },
   "outputs": [
    {
     "data": {
      "text/plain": [
       "['a',\n",
       " 'a',\n",
       " 'a',\n",
       " 's',\n",
       " 's',\n",
       " 's',\n",
       " 'c',\n",
       " 'c',\n",
       " '*',\n",
       " 'c',\n",
       " 'd',\n",
       " 'd',\n",
       " 'd',\n",
       " 'e',\n",
       " '+',\n",
       " 'e',\n",
       " 'e',\n",
       " 'r',\n",
       " 'r',\n",
       " 't',\n",
       " 't',\n",
       " 'y',\n",
       " 'y',\n",
       " '.',\n",
       " 'u',\n",
       " 'u',\n",
       " '.',\n",
       " 'u',\n",
       " '#',\n",
       " '$',\n",
       " '.',\n",
       " '\\t',\n",
       " 'i',\n",
       " 'i',\n",
       " '1',\n",
       " '2',\n",
       " '3',\n",
       " '4',\n",
       " '4',\n",
       " '5',\n",
       " '$',\n",
       " '%',\n",
       " '6',\n",
       " '7',\n",
       " '8',\n",
       " '9',\n",
       " '8']"
      ]
     },
     "execution_count": 27,
     "metadata": {},
     "output_type": "execute_result"
    }
   ],
   "source": [
    "re.findall(\".\",s)"
   ]
  },
  {
   "cell_type": "code",
   "execution_count": 28,
   "metadata": {
    "collapsed": false
   },
   "outputs": [
    {
     "data": {
      "text/plain": [
       "['a',\n",
       " 'a',\n",
       " 'a',\n",
       " 's',\n",
       " 's',\n",
       " 's',\n",
       " 'c',\n",
       " 'c',\n",
       " '*',\n",
       " 'c',\n",
       " 'd',\n",
       " 'd',\n",
       " 'd',\n",
       " 'e',\n",
       " '+',\n",
       " 'e',\n",
       " 'e',\n",
       " 'r',\n",
       " 'r',\n",
       " 't',\n",
       " 't',\n",
       " 'y',\n",
       " 'y',\n",
       " '.',\n",
       " 'u',\n",
       " 'u',\n",
       " '.',\n",
       " 'u',\n",
       " '#',\n",
       " '$',\n",
       " '.',\n",
       " '\\n',\n",
       " '\\t',\n",
       " 'i',\n",
       " 'i',\n",
       " '1',\n",
       " '2',\n",
       " '3',\n",
       " '4',\n",
       " '4',\n",
       " '5',\n",
       " '$',\n",
       " '%',\n",
       " '6',\n",
       " '7',\n",
       " '8',\n",
       " '9',\n",
       " '8']"
      ]
     },
     "execution_count": 28,
     "metadata": {},
     "output_type": "execute_result"
    }
   ],
   "source": [
    "re.findall(\".\",s,re.DOTALL)"
   ]
  },
  {
   "cell_type": "code",
   "execution_count": 29,
   "metadata": {
    "collapsed": false
   },
   "outputs": [
    {
     "data": {
      "text/plain": [
       "['.', '.', '.']"
      ]
     },
     "execution_count": 29,
     "metadata": {},
     "output_type": "execute_result"
    }
   ],
   "source": [
    "re.findall(\"\\.\",s,re.DOTALL)"
   ]
  },
  {
   "cell_type": "code",
   "execution_count": 32,
   "metadata": {
    "collapsed": true
   },
   "outputs": [],
   "source": [
    "s=\"aaabbbcccdddeeffgggaassdderrtqawretfdsaaaaaaaawwwweerr\""
   ]
  },
  {
   "cell_type": "code",
   "execution_count": 33,
   "metadata": {
    "collapsed": false
   },
   "outputs": [
    {
     "data": {
      "text/plain": [
       "['aaa',\n",
       " '',\n",
       " '',\n",
       " '',\n",
       " '',\n",
       " '',\n",
       " '',\n",
       " '',\n",
       " '',\n",
       " '',\n",
       " '',\n",
       " '',\n",
       " '',\n",
       " '',\n",
       " '',\n",
       " '',\n",
       " '',\n",
       " 'aa',\n",
       " '',\n",
       " '',\n",
       " '',\n",
       " '',\n",
       " '',\n",
       " '',\n",
       " '',\n",
       " '',\n",
       " '',\n",
       " 'a',\n",
       " '',\n",
       " '',\n",
       " '',\n",
       " '',\n",
       " '',\n",
       " '',\n",
       " '',\n",
       " 'aaaaaaaa',\n",
       " '',\n",
       " '',\n",
       " '',\n",
       " '',\n",
       " '',\n",
       " '',\n",
       " '',\n",
       " '',\n",
       " '']"
      ]
     },
     "execution_count": 33,
     "metadata": {},
     "output_type": "execute_result"
    }
   ],
   "source": [
    "re.findall(\"a*\",s)"
   ]
  },
  {
   "cell_type": "code",
   "execution_count": 38,
   "metadata": {
    "collapsed": false
   },
   "outputs": [
    {
     "data": {
      "text/plain": [
       "['aaa', 'aa', 'a', 'aaaaaaaa']"
      ]
     },
     "execution_count": 38,
     "metadata": {},
     "output_type": "execute_result"
    }
   ],
   "source": [
    "re.findall(\"a+\",s)"
   ]
  },
  {
   "cell_type": "code",
   "execution_count": 39,
   "metadata": {
    "collapsed": false
   },
   "outputs": [
    {
     "data": {
      "text/plain": [
       "['a',\n",
       " 'a',\n",
       " 'a',\n",
       " '',\n",
       " '',\n",
       " '',\n",
       " '',\n",
       " '',\n",
       " '',\n",
       " '',\n",
       " '',\n",
       " '',\n",
       " '',\n",
       " '',\n",
       " '',\n",
       " '',\n",
       " '',\n",
       " '',\n",
       " '',\n",
       " 'a',\n",
       " 'a',\n",
       " '',\n",
       " '',\n",
       " '',\n",
       " '',\n",
       " '',\n",
       " '',\n",
       " '',\n",
       " '',\n",
       " '',\n",
       " 'a',\n",
       " '',\n",
       " '',\n",
       " '',\n",
       " '',\n",
       " '',\n",
       " '',\n",
       " '',\n",
       " 'a',\n",
       " 'a',\n",
       " 'a',\n",
       " 'a',\n",
       " 'a',\n",
       " 'a',\n",
       " 'a',\n",
       " 'a',\n",
       " '',\n",
       " '',\n",
       " '',\n",
       " '',\n",
       " '',\n",
       " '',\n",
       " '',\n",
       " '',\n",
       " '']"
      ]
     },
     "execution_count": 39,
     "metadata": {},
     "output_type": "execute_result"
    }
   ],
   "source": [
    "re.findall(\"a?\",s)"
   ]
  },
  {
   "cell_type": "code",
   "execution_count": 40,
   "metadata": {
    "collapsed": false
   },
   "outputs": [
    {
     "data": {
      "text/plain": [
       "['aaa', 'aaa', 'aaa']"
      ]
     },
     "execution_count": 40,
     "metadata": {},
     "output_type": "execute_result"
    }
   ],
   "source": [
    "re.findall(\"a{3}\",s)"
   ]
  },
  {
   "cell_type": "code",
   "execution_count": 40,
   "metadata": {
    "collapsed": false
   },
   "outputs": [
    {
     "name": "stdout",
     "output_type": "stream",
     "text": [
      "['aaa', 'aa', 'a', 'aaaaaaaa']\n"
     ]
    }
   ],
   "source": [
    "print re.findall(\"a+\",s)"
   ]
  },
  {
   "cell_type": "code",
   "execution_count": 41,
   "metadata": {
    "collapsed": false
   },
   "outputs": [
    {
     "data": {
      "text/plain": [
       "['aaaaa']"
      ]
     },
     "execution_count": 41,
     "metadata": {},
     "output_type": "execute_result"
    }
   ],
   "source": [
    "re.findall(\"a{5}\",s)"
   ]
  },
  {
   "cell_type": "code",
   "execution_count": 42,
   "metadata": {
    "collapsed": false
   },
   "outputs": [
    {
     "data": {
      "text/plain": [
       "['aaa', 'aa', 'a', 'aaaaa', 'aaa']"
      ]
     },
     "execution_count": 42,
     "metadata": {},
     "output_type": "execute_result"
    }
   ],
   "source": [
    "re.findall(\"a{1,5}\",s)"
   ]
  },
  {
   "cell_type": "code",
   "execution_count": 44,
   "metadata": {
    "collapsed": false
   },
   "outputs": [
    {
     "data": {
      "text/plain": [
       "['samba', 'Anil', 'shiva']"
      ]
     },
     "execution_count": 44,
     "metadata": {},
     "output_type": "execute_result"
    }
   ],
   "source": [
    "re.findall(\"[a-z]+\",data,re.I)"
   ]
  },
  {
   "cell_type": "code",
   "execution_count": 45,
   "metadata": {
    "collapsed": false
   },
   "outputs": [
    {
     "data": {
      "text/plain": [
       "['23',\n",
       " '96',\n",
       " '76',\n",
       " '62',\n",
       " '20',\n",
       " '23',\n",
       " '24',\n",
       " '97',\n",
       " '00',\n",
       " '93',\n",
       " '47',\n",
       " '93',\n",
       " '94',\n",
       " '41',\n",
       " '99',\n",
       " '16',\n",
       " '79',\n",
       " '25']"
      ]
     },
     "execution_count": 45,
     "metadata": {},
     "output_type": "execute_result"
    }
   ],
   "source": [
    "re.findall(\"[0-9]{2}\",data,re.I)"
   ]
  },
  {
   "cell_type": "code",
   "execution_count": 48,
   "metadata": {
    "collapsed": false
   },
   "outputs": [
    {
     "data": {
      "text/plain": [
       "[' 23 ', '\\n24 ', ' 25\\n']"
      ]
     },
     "execution_count": 48,
     "metadata": {},
     "output_type": "execute_result"
    }
   ],
   "source": [
    "re.findall(\"\\s[0-9]{2}\\s\",data,re.I)"
   ]
  },
  {
   "cell_type": "code",
   "execution_count": 53,
   "metadata": {
    "collapsed": false
   },
   "outputs": [
    {
     "data": {
      "text/plain": [
       "[]"
      ]
     },
     "execution_count": 53,
     "metadata": {},
     "output_type": "execute_result"
    }
   ],
   "source": [
    "re.findall(\"[@.]+\\s\",data)"
   ]
  },
  {
   "cell_type": "code",
   "execution_count": 54,
   "metadata": {
    "collapsed": true
   },
   "outputs": [],
   "source": [
    "f=open('readme.txt')"
   ]
  },
  {
   "cell_type": "code",
   "execution_count": 55,
   "metadata": {
    "collapsed": true
   },
   "outputs": [],
   "source": [
    "data=f.read()"
   ]
  },
  {
   "cell_type": "code",
   "execution_count": 64,
   "metadata": {
    "collapsed": false
   },
   "outputs": [
    {
     "data": {
      "text/plain": [
       "['askeld@gmail.com', 'dsajljds@yahoo.com', 'sfskfjf@redif.com']"
      ]
     },
     "execution_count": 64,
     "metadata": {},
     "output_type": "execute_result"
    }
   ],
   "source": [
    "re.findall(\"\\w+@\\w+.\\w+\",data)"
   ]
  },
  {
   "cell_type": "code",
   "execution_count": 65,
   "metadata": {
    "collapsed": false
   },
   "outputs": [
    {
     "data": {
      "text/plain": [
       "['askeld@gmail.com', 'dsajljds@yahoo.com', 'sfskfjf@redif.com']"
      ]
     },
     "execution_count": 65,
     "metadata": {},
     "output_type": "execute_result"
    }
   ],
   "source": [
    "re.findall(\"[a-z]+@[a-z]+.[a-z]+\",data)"
   ]
  },
  {
   "cell_type": "code",
   "execution_count": 66,
   "metadata": {
    "collapsed": false
   },
   "outputs": [
    {
     "data": {
      "text/plain": [
       "['askeld@gmail.com', 'dsajljds@yahoo.com', 'sfskfjf@redif.com']"
      ]
     },
     "execution_count": 66,
     "metadata": {},
     "output_type": "execute_result"
    }
   ],
   "source": [
    "reg=re.compile(\"[a-z]+@[a-z]+.[a-z]+\")\n",
    "reg.findall(data)"
   ]
  },
  {
   "cell_type": "code",
   "execution_count": 72,
   "metadata": {
    "collapsed": true
   },
   "outputs": [],
   "source": [
    "import urllib2"
   ]
  },
  {
   "cell_type": "code",
   "execution_count": 73,
   "metadata": {
    "collapsed": false
   },
   "outputs": [],
   "source": [
    "u=urllib2.urlopen('http://www.fb.com')"
   ]
  },
  {
   "cell_type": "code",
   "execution_count": 74,
   "metadata": {
    "collapsed": false
   },
   "outputs": [
    {
     "data": {
      "text/plain": [
       "<addinfourl at 140627039929192 whose fp = <socket._fileobject object at 0x7fe648c4b950>>"
      ]
     },
     "execution_count": 74,
     "metadata": {},
     "output_type": "execute_result"
    }
   ],
   "source": [
    "u"
   ]
  },
  {
   "cell_type": "code",
   "execution_count": 75,
   "metadata": {
    "collapsed": false
   },
   "outputs": [],
   "source": [
    "data=u.read()"
   ]
  },
  {
   "cell_type": "code",
   "execution_count": 76,
   "metadata": {
    "collapsed": false
   },
   "outputs": [
    {
     "data": {
      "text/plain": [
       "'<!DOCTYPE html>\\n<html lang=\"en\" id=\"facebook\" class=\"no_js\">\\n<head><meta charset=\"utf-8\" /><meta name=\"referrer\" content=\"default\" id=\"meta_referrer\" /><script>function envFlush(a){function b(c){for(var d in a)c[d]=a[d];}if(window.requireLazy){window.requireLazy([\\'Env\\'],b);}else{window.Env=window.Env||{};b(window.Env);}}envFlush({\"ajaxpipe_token\":\"AXhHbrsya5-qKwn0\",\"lhsh\":\"_AQEqklTC\",\"timeslice_heartbeat_config\":{\"pollIntervalMs\":33,\"idleGapThresholdMs\":60,\"ignoredTimesliceNames\":{\"requestAnimationFrame\":true,\"Event listenHandler mousemove\":true,\"Event listenHandler mouseover\":true,\"Event listenHandler mouseout\":true,\"Event listenHandler scroll\":true},\"enableOnRequire\":false},\"shouldLogCounters\":false,\"timeslice_categories\":{\"react_render\":true,\"reflow\":false}});</script><style></style><script>CavalryLogger=false;</script><noscript><meta http-equiv=\"refresh\" content=\"0; URL=/?_fb_noscript=1\" /></noscript><title id=\"pageTitle\">Facebook - Log In or Sign Up</title><meta property=\"og:site_name\" content=\"Facebook\" /><meta property=\"og:url\" content=\"https://www.facebook.com/\" /><meta property=\"og:image\" content=\"https://www.facebook.com/images/fb_icon_325x325.png\" /><meta property=\"og:locale\" content=\"en_GB\" /><meta property=\"og:locale:alternate\" content=\"www\" /><meta property=\"og:locale:alternate\" content=\"es_LA\" /><meta property=\"og:locale:alternate\" content=\"es_ES\" /><meta property=\"og:locale:alternate\" content=\"fr_FR\" /><meta property=\"og:locale:alternate\" content=\"it_IT\" /><meta property=\"og:locale:alternate\" content=\"id_ID\" /><meta property=\"og:locale:alternate\" content=\"th_TH\" /><meta property=\"og:locale:alternate\" content=\"vi_VN\" /><meta property=\"og:locale:alternate\" content=\"ko_KR\" /><meta property=\"og:locale:alternate\" content=\"ja_JP\" /><script type=\"application/ld+json\">{\"\\\\u0040context\":\"http:\\\\/\\\\/schema.org\",\"\\\\u0040type\":\"WebSite\",\"name\":\"Facebook\",\"url\":\"https:\\\\/\\\\/www.facebook.com\\\\/\"}</script><link rel=\"search\" type=\"application/opensearchdescription+xml\" href=\"/osd.xml\" title=\"Facebook\" /><link rel=\"canonical\" href=\"https://www.facebook.com/\" /><link rel=\"alternate\" media=\"only screen and (max-width: 640px)\" href=\"https://m.facebook.com/\" /><link rel=\"alternate\" media=\"handheld\" href=\"https://m.facebook.com/\" /><link rel=\"alternate\" hreflang=\"x-default\" href=\"https://www.facebook.com/\" /><link rel=\"alternate\" hreflang=\"en\" href=\"https://www.facebook.com/\" /><link rel=\"alternate\" hreflang=\"ar\" href=\"https://ar-ar.facebook.com/\" /><link rel=\"alternate\" hreflang=\"bg\" href=\"https://bg-bg.facebook.com/\" /><link rel=\"alternate\" hreflang=\"bs\" href=\"https://bs-ba.facebook.com/\" /><link rel=\"alternate\" hreflang=\"ca\" href=\"https://ca-es.facebook.com/\" /><link rel=\"alternate\" hreflang=\"da\" href=\"https://da-dk.facebook.com/\" /><link rel=\"alternate\" hreflang=\"el\" href=\"https://el-gr.facebook.com/\" /><link rel=\"alternate\" hreflang=\"es\" href=\"https://es-la.facebook.com/\" /><link rel=\"alternate\" hreflang=\"es-es\" href=\"https://es-es.facebook.com/\" /><link rel=\"alternate\" hreflang=\"fa\" href=\"https://fa-ir.facebook.com/\" /><link rel=\"alternate\" hreflang=\"fi\" href=\"https://fi-fi.facebook.com/\" /><link rel=\"alternate\" hreflang=\"fr\" href=\"https://fr-fr.facebook.com/\" /><link rel=\"alternate\" hreflang=\"fr-ca\" href=\"https://fr-ca.facebook.com/\" /><link rel=\"alternate\" hreflang=\"hi\" href=\"https://hi-in.facebook.com/\" /><link rel=\"alternate\" hreflang=\"hr\" href=\"https://hr-hr.facebook.com/\" /><link rel=\"alternate\" hreflang=\"id\" href=\"https://id-id.facebook.com/\" /><link rel=\"alternate\" hreflang=\"it\" href=\"https://it-it.facebook.com/\" /><link rel=\"alternate\" hreflang=\"ko\" href=\"https://ko-kr.facebook.com/\" /><link rel=\"alternate\" hreflang=\"mk\" href=\"https://mk-mk.facebook.com/\" /><link rel=\"alternate\" hreflang=\"ms\" href=\"https://ms-my.facebook.com/\" /><link rel=\"alternate\" hreflang=\"pl\" href=\"https://pl-pl.facebook.com/\" /><link rel=\"alternate\" hreflang=\"pt\" href=\"https://pt-br.facebook.com/\" /><link rel=\"alternate\" hreflang=\"pt-pt\" href=\"https://pt-pt.facebook.com/\" /><link rel=\"alternate\" hreflang=\"ro\" href=\"https://ro-ro.facebook.com/\" /><link rel=\"alternate\" hreflang=\"sl\" href=\"https://sl-si.facebook.com/\" /><link rel=\"alternate\" hreflang=\"sr\" href=\"https://sr-rs.facebook.com/\" /><link rel=\"alternate\" hreflang=\"th\" href=\"https://th-th.facebook.com/\" /><link rel=\"alternate\" hreflang=\"vi\" href=\"https://vi-vn.facebook.com/\" /><meta name=\"description\" content=\"Create an account or log in to Facebook. Connect with friends, family and other people you know. Share photos and videos, send messages and get updates.\" /><meta name=\"robots\" content=\"noodp,noydir\" /><link rel=\"shortcut icon\" href=\"https://fbstatic-a.akamaihd.net/rsrc.php/yV/r/hzMapiNYYpW.ico\" /><link type=\"text/css\" rel=\"stylesheet\" href=\"https://fbstatic-a.akamaihd.net/rsrc.php/v2/yk/r/Th_rIM_mcag.css\" data-bootloader-hash=\"lKz4h\" data-permanent=\"1\" crossorigin=\"anonymous\" />\\n<link type=\"text/css\" rel=\"stylesheet\" href=\"https://fbstatic-a.akamaihd.net/rsrc.php/v2/ym/r/5FumrON_9FN.css\" data-bootloader-hash=\"FBUmH\" data-permanent=\"1\" crossorigin=\"anonymous\" />\\n<link type=\"text/css\" rel=\"stylesheet\" href=\"https://fbstatic-a.akamaihd.net/rsrc.php/v2/yi/r/0b9cEuH7Sus.css\" data-bootloader-hash=\"bDzPH\" data-permanent=\"1\" crossorigin=\"anonymous\" />\\n<link type=\"text/css\" rel=\"stylesheet\" href=\"https://fbstatic-a.akamaihd.net/rsrc.php/v2/yP/r/gIsPhKHVtP4.css\" data-bootloader-hash=\"yrnTe\" data-permanent=\"1\" crossorigin=\"anonymous\" />\\n<script src=\"https://fbstatic-a.akamaihd.net/rsrc.php/v2/ye/r/aPHrUC_RTtd.js\" data-bootloader-hash=\"a+0FG\" crossorigin=\"anonymous\"></script>\\n<script>require(\"TimeSlice\").guard(function() {(require(\"ServerJSDefine\")).handleDefines([[\"UFISpamCountImpl\",[],{\"module\":null},72],[\"SystemEventsInitialData\",[],{\"ORIGINAL_USER_ID\":\"0\"},483],[\"UserAgentData\",[],{\"browserArchitecture\":\"32\",\"browserFullVersion\":null,\"browserMinorVersion\":null,\"browserName\":\"Unknown\",\"browserVersion\":null,\"deviceName\":\"Unknown\",\"engineName\":\"Unknown\",\"engineVersion\":null,\"platformArchitecture\":\"32\",\"platformName\":\"Unknown\",\"platformVersion\":null,\"platformFullVersion\":null},527],[\"AccessibilityConfig\",[],{\"a11yLogicalGridComponent\":false,\"a11yNewsfeedStoryEnumeration\":false,\"a11yInitialDialogFocusElement\":true},1227],[\"CurrentUserInitialData\",[],{\"USER_ID\":\"0\",\"ACCOUNT_ID\":\"0\"},270],[\"ErrorSignalConfig\",[],{\"uri\":\"https:\\\\/\\\\/error.facebook.com\\\\/common\\\\/scribe_endpoint.php\"},319],[\"AsyncRequestConfig\",[],{\"retryOnNetworkError\":\"1\",\"logAsyncRequest\":false},328],[\"SiteData\",[],{\"revision\":2520541,\"tier\":\"\",\"push_phase\":\"V3\",\"pkg_cohort\":\"PHASED:DEFAULT\",\"pkg_cohort_key\":\"__pc\",\"haste_site\":\"www\",\"be_mode\":-1,\"be_key\":\"__be\",\"is_rtl\":false,\"vip\":\"31.13.95.36\"},317],[\"CSSLoaderConfig\",[],{\"timeout\":5000,\"modulePrefix\":\"BLCSS:\"},619],[\"ISB\",[],{},330],[\"TrackingConfig\",[],{\"domain\":\"https:\\\\/\\\\/pixel.facebook.com\"},325],[\"BootloaderConfig\",[],{\"maxJsRetries\":0,\"jsRetries\":null,\"jsRetryAbortNum\":2,\"jsRetryAbortTime\":5,\"payloadEndpointURI\":\"https:\\\\/\\\\/www.facebook.com\\\\/ajax\\\\/haste-response\\\\/\"},329],[\"URLFragmentPreludeConfig\",[],{\"incorporateQuicklingFragment\":true,\"hashtagRedirect\":true},137],[\"UFIReactionTypes\",[],{\"LIKE\":1,\"ordering\":[1,2,11,4,5,3,10,12,7,8],\"NONE\":0,\"reactions\":{\"1\":{\"class_name\":\"_3j7l\",\"color\":\"#5890ff\",\"display_name\":\"Like\",\"is_deprecated\":false,\"is_visible\":true,\"name\":\"like\",\"type\":1},\"2\":{\"class_name\":\"_3j7m\",\"color\":\"#f25268\",\"display_name\":\"Love\",\"is_deprecated\":false,\"is_visible\":true,\"name\":\"love\",\"type\":2},\"11\":{\"class_name\":\"_3rya\",\"color\":\"#9c87d1\",\"display_name\":\"Thankful\",\"is_deprecated\":false,\"is_visible\":true,\"name\":\"dorothy\",\"type\":11},\"4\":{\"class_name\":\"_3j7o\",\"color\":\"#f0ba15\",\"display_name\":\"Haha\",\"is_deprecated\":false,\"is_visible\":true,\"name\":\"haha\",\"type\":4},\"5\":{\"class_name\":\"_3j7p\",\"color\":\"#f0ba15\",\"display_name\":\"Yay\",\"is_deprecated\":true,\"is_visible\":true,\"name\":\"yay\",\"type\":5},\"3\":{\"class_name\":\"_3j7n\",\"color\":\"#f0ba15\",\"display_name\":\"Wow\",\"is_deprecated\":false,\"is_visible\":true,\"name\":\"wow\",\"type\":3},\"10\":{\"class_name\":\"_3j7s\",\"color\":\"#f0ba15\",\"display_name\":\"Confused\",\"is_deprecated\":true,\"is_visible\":true,\"name\":\"confused\",\"type\":10},\"12\":{\"class_name\":null,\"color\":\"#f0ba15\",\"display_name\":\"Like\",\"is_deprecated\":false,\"is_visible\":false,\"name\":\"toto\",\"type\":12},\"7\":{\"class_name\":\"_3j7r\",\"color\":\"#f0ba15\",\"display_name\":\"Sad\",\"is_deprecated\":false,\"is_visible\":true,\"name\":\"sorry\",\"type\":7},\"8\":{\"class_name\":\"_3j7q\",\"color\":\"#f7714b\",\"display_name\":\"Angry\",\"is_deprecated\":false,\"is_visible\":true,\"name\":\"anger\",\"type\":8}}},911],[\"BigPipeExperiments\",[],{\"preparse_content\":\"\",\"link_images_to_pagelets\":false},907],[\"RTISubscriptionManagerConfig\",[],{\"config\":{\"max_subscriptions\":150,\"www_idle_unsubscribe_ms\":600000,\"www_idle_unsubscribe_ms_overrides\":{\"comment_create_subscribe\":1800000},\"autobot_tiers\":{\"latest\":\"realtime.skywalker.autobot.latest\",\"intern\":\"realtime.skywalker.autobot.intern\",\"sb\":\"realtime.skywalker.autobot.sb\"}},\"autobot\":{}},1081],[\"LSD\",[],{\"token\":\"AVqc2yt3\"},323],[\"NumberFormatConfig\",[],{\"decimalSeparator\":\".\",\"numberDelimiter\":\",\",\"minDigitsForThousandsSeparator\":0},54],[\"ServerNonce\",[],{\"ServerNonce\":\"sApI1R_u-9nFMicJ1eX9bp\"},141],[\"CoreWarningGK\",[],{\"forceWarning\":false},725],[\"LinkshimHandlerConfig\",[],{\"supports_meta_referrer\":false,\"default_meta_referrer_policy\":\"default\",\"switched_meta_referrer_policy\":\"origin\",\"render_verification_rate\":1000,\"link_react_default_hash\":\"6AQFwWHOe\",\"linkshim_host\":\"l.facebook.com\",\"use_rel_no_opener\":false},27],[\"CdnAkamaiDomainsConfig\",[],{\"fbcdnhdsvideo-vh.akamaihd.net\":0,\"fbcdn-creative-a.akamaihd.net\":1,\"fbcdn-dragon-a.akamaihd.net\":2,\"fbcdn-external-a.akamaihd.net\":3,\"fbcdn-gtvideo-a-a.akamaihd.net\":4,\"fbcdn-gtvideo-b-a.akamaihd.net\":5,\"fbcdn-gtvideo-c-a.akamaihd.net\":6,\"fbcdn-gtvideo-d-a.akamaihd.net\":7,\"fbcdn-gtvideo-e-a.akamaihd.net\":8,\"fbcdn-gtvideo-f-a.akamaihd.net\":9,\"fbcdn-gtvideo-g-a.akamaihd.net\":10,\"fbcdn-gtvideo-h-a.akamaihd.net\":11,\"fbcdn-gtvideo-i-a.akamaihd.net\":12,\"fbcdn-gtvideo-j-a.akamaihd.net\":13,\"fbcdn-gtvideo-k-a.akamaihd.net\":14,\"fbcdn-gtvideo-l-a.akamaihd.net\":15,\"fbcdn-gtvideo-m-a.akamaihd.net\":16,\"fbcdn-gtvideo-n-a.akamaihd.net\":17,\"fbcdn-gtvideo-o-a.akamaihd.net\":18,\"fbcdn-gtvideo-p-a.akamaihd.net\":19,\"fbcdn-iphotos-a-a.akamaihd.net\":20,\"fbcdn-iphotos-a.akamaihd.net\":21,\"fbcdn-iphotos-b-a.akamaihd.net\":22,\"fbcdn-iphotos-c-a.akamaihd.net\":23,\"fbcdn-iphotos-d-a.akamaihd.net\":24,\"fbcdn-iphotos-e-a.akamaihd.net\":25,\"fbcdn-iphotos-f-a.akamaihd.net\":26,\"fbcdn-iphotos-g-a.akamaihd.net\":27,\"fbcdn-iphotos-h-a.akamaihd.net\":28,\"fbcdn-photos-a-a.akamaihd.net\":29,\"fbcdn-photos-a.akamaihd.net\":30,\"fbcdn-photos-b-a.akamaihd.net\":31,\"fbcdn-photos-c-a.akamaihd.net\":32,\"fbcdn-photos-d-a.akamaihd.net\":33,\"fbcdn-photos-e-a.akamaihd.net\":34,\"fbcdn-photos-f-a.akamaihd.net\":35,\"fbcdn-photos-g-a.akamaihd.net\":36,\"fbcdn-photos-h-a.akamaihd.net\":37,\"fbcdn-profile-a.akamaihd.net\":38,\"fbcdn-sphotos-a-a.akamaihd.net\":39,\"fbcdn-sphotos-b-a.akamaihd.net\":40,\"fbcdn-sphotos-c-a.akamaihd.net\":41,\"fbcdn-sphotos-d-a.akamaihd.net\":42,\"fbcdn-sphotos-e-a.akamaihd.net\":43,\"fbcdn-sphotos-f-a.akamaihd.net\":44,\"fbcdn-sphotos-g-a.akamaihd.net\":45,\"fbcdn-sphotos-h-a.akamaihd.net\":46,\"fbcdn-static-a.akamaihd.net\":47,\"fbcdn-video-a-a.akamaihd.net\":48,\"fbcdn-video-a.akamaihd.net\":49,\"fbcdn-video-b-a.akamaihd.net\":50,\"fbcdn-video-c-a.akamaihd.net\":51,\"fbcdn-video-d-a.akamaihd.net\":52,\"fbcdn-video-e-a.akamaihd.net\":53,\"fbcdn-video-f-a.akamaihd.net\":54,\"fbcdn-video-g-a.akamaihd.net\":55,\"fbcdn-video-h-a.akamaihd.net\":56,\"fbcdn-video-i-a.akamaihd.net\":57,\"fbcdn-video-j-a.akamaihd.net\":58,\"fbcdn-video-k-a.akamaihd.net\":59,\"fbcdn-video-l-a.akamaihd.net\":60,\"fbcdn-video-m-a.akamaihd.net\":61,\"fbcdn-video-n-a.akamaihd.net\":62,\"fbcdn-video-o-a.akamaihd.net\":63,\"fbcdn-video-p-a.akamaihd.net\":64,\"fbcdn-vthumb-a.akamaihd.net\":65,\"fbexternal-a.akamaihd.net\":66,\"fbstatic-a.akamaihd.net\":67,\"lookbackvideo1-a.akamaihd.net\":68,\"lookbackvideo2-a.akamaihd.net\":69,\"lookbackvideo3-a.akamaihd.net\":70,\"lookbackvideo4-a.akamaihd.net\":71,\"lookbackvideo5-a.akamaihd.net\":72,\"lookbackvideo6-a.akamaihd.net\":73,\"lookbackvideo7-a.akamaihd.net\":74,\"lookbackvideo8-a.akamaihd.net\":75,\"igexternal-a.akamaihd.net\":76,\"fbmentionslive-a.akamaihd.net\":77,\"fblive-a.akamaihd.net\":78,\"fbcdn-static-a-a.akamaihd.net\":79,\"fbcdn-static-b-a.akamaihd.net\":80,\"fb-s-a-a.akamaihd.net\":81,\"fb-s-b-a.akamaihd.net\":82,\"fb-s-c-a.akamaihd.net\":83,\"fb-s-d-a.akamaihd.net\":84,\"fb-l-a-a.akamaihd.net\":85,\"fb-l-b-a.akamaihd.net\":86,\"fb-l-c-a.akamaihd.net\":87,\"fb-l-d-a.akamaihd.net\":88},1634],[\"VideoUploadConfig\",[],{\"videoExtensions\":{\"mov\":1,\"qt\":1,\"wmv\":1,\"avi\":1,\"mpe\":1,\"mpg\":1,\"mpeg\":1,\"asf\":1,\"mp4\":1,\"m4v\":1,\"mpeg4\":1,\"3gpp\":1,\"3gp\":1,\"3g2\":1,\"mkv\":1,\"flv\":1,\"vob\":1,\"ogm\":1,\"ogv\":1,\"nsv\":1,\"mod\":1,\"tod\":1,\"dat\":1,\"mts\":1,\"m2ts\":1,\"dv\":1,\"divx\":1,\"f4v\":1,\"ts\":1,\"tmp\":1,\"rmvb\":1,\"webm\":1},\"allowMultimedia\":false,\"showMultimediaNUX\":false},267],[\"FamilyMentionsData\",[],{\"allowFamilyNames\":false,\"hasAcceptedNUX\":false},708],[\"ZeroRewriteRules\",[],{},1478],[\"WebWorkerConfig\",[],{\"logging\":{\"enabled\":false,\"config\":\"WebWorkerLoggerConfig\"},\"evalWorkerURL\":\"\\\\/rsrc.php\\\\/v2\\\\/y0\\\\/r\\\\/rfukCScFKrW.js\"},297],[\"CanvasToBlobResource\",[],{\"url\":\"https:\\\\/\\\\/fbstatic-a.akamaihd.net\\\\/rsrc.php\\\\/v2\\\\/y8\\\\/r\\\\/ksvgaeMNKDS.js\",\"name\":\"CanvasToBlobBundle\"},864],[\"InitialServerTime\",[],{\"serverTime\":1471956815000},204],[\"LocaleInitialData\",[],{\"locale\":\"en_GB\",\"language\":\"English (UK)\"},273],[\"VideoPlayerAbortLoadingExperiment\",[],{\"canAbort\":false},824],[\"FbtLogger\",[],{\"logger\":null},288],[\"WebSpeedExperiments\",[],{\"non_blocking_tracker\":false,\"non_blocking_logger\":false},1160],[\"LinkReactUnsafeHrefConfig\",[],{\"LinkHrefChecker\":null},1182],[\"SessionNameConfig\",[],{\"seed\":\"1r7c\"},757],[\"BanzaiConfig\",[],{\"EXPIRY\":86400000,\"MAX_SIZE\":10000,\"MAX_WAIT\":150000,\"RESTORE_WAIT\":150000,\"blacklist\":[\"time_spent\"],\"gks\":{\"boosted_component\":true,\"boosted_pagelikes\":true,\"boosted_posts\":true,\"boosted_website\":true,\"jslogger\":true,\"mercury_send_error_logging\":true,\"pages_client_logging\":true,\"platform_oauth_client_events\":true,\"useraction\":true,\"videos\":true,\"visibility_tracking\":true,\"vitals\":true,\"graphexplorer\":true,\"gqls_web_logging\":true}},7],[\"ZeroCategoryHeader\",[],{},1127],[\"FluxInternalConfig\",[],{\"logOnPreInitAccess\":false,\"warnOnPreInitAccess\":false},1075],[\"ServiceWorkerBackgroundSyncGK\",[],{\"background_sync_sw\":false},1628],[\"FbtQTOverrides\",[],{\"overrides\":{\"1_65c3391ebe4a1af8364ca4fbb8cb54d1\":\"Mobile Number or Email:\",\"1_a1edc95031c72290612e117918c5da9b\":\"Billing Postcode\"}},551],[\"FbtResultGK\",[],{\"shouldReturnFbtResult\":false,\"inlineMode\":\"NO_INLINE\"},876],[\"ServiceWorkerBackgroundSyncBanzaiGK\",[],{\"sw_background_sync_banzai\":false},1621],[\"IntlViewerContext\",[],{\"GENDER\":50331648},772],[\"IntlPhonologicalRules\",[],{\"meta\":{\"\\\\/_B\\\\/\":\"([.,!?\\\\\\\\s]|^)\",\"\\\\/_E\\\\/\":\"([.,!?\\\\\\\\s]|$)\"},\"patterns\":{\"\\\\/\\\\u0001(.*)(\\'|&#039;)s\\\\u0001(?:\\'|&#039;)s(.*)\\\\/\":\"\\\\u0001$1$2s\\\\u0001$3\",\"\\\\/_\\\\u0001([^\\\\u0001]*)\\\\u0001\\\\/\":\"javascript\"}},1496],[\"FunnelLoggerConfig\",[],{\"freq\":{\"WWW_CANVAS_AD_CREATION_FUNNEL\":1,\"WWW_CANVAS_EDITOR_FUNNEL\":1,\"WWW_LINK_PICKER_DIALOG_FUNNEL\":1,\"WWW_MEME_PICKER_DIALOG_FUNNEL\":1,\"WWW_LEAD_GEN_FORM_CREATION_FUNNEL\":1,\"WWW_LEAD_GEN_DESKTOP_AD_UNIT_FUNNEL\":1,\"WWW_LEAD_GEN_MSITE_AD_UNIT_FUNNEL\":1,\"WWW_CAMPFIRE_COMPOSER_UPSELL_FUNNEL\":1,\"WWW_RECRUITING_SEARCH_FUNNEL\":1,\"WWW_EXAMPLE_FUNNEL\":1,\"WWW_REACTIONS_NUX_FUNNEL\":1,\"MSITE_EXAMPLE_FUNNEL\":10,\"WWW_FEED_SHARE_DIALOG_FUNNEL\":100,\"MSITE_FEED_SHARE_DIALOG_FUNNEL\":100,\"MSITE_COMMENT_TYPING_FUNNEL\":500,\"WWW_SEARCH_AWARENESS_LEARNING_NUX_FUNNEL\":1,\"WWW_CONSTITUENT_TITLE_UPSELL_FUNNEL\":1,\"MTOUCH_FEED_MISSED_STORIES_FUNNEL\":10,\"WWW_UFI_SHARE_LINK_FUNNEL\":1,\"WWW_CMS_SEARCH_FUNNEL\":1,\"GAMES_QUICKSILVER_FUNNEL\":1,\"SOCIAL_SEARCH_CONVERSION_WWW_FUNNEL\":1,\"SOCIAL_SEARCH_DASHBOARD_WWW_FUNNEL\":1,\"SRT_USER_FLOW_FUNNEL\":1,\"default\":1000}},1271],[\"PageNavigationStageLoggerGK\",[],{\"gk_check\":false},1434],[\"PageTransitionsConfig\",[],{\"reloadOnBootloadError\":false},1067],[\"UFICommentFileInputAcceptValues\",[],{\"both\":\"video\\\\/*, video\\\\/webm, video\\\\/x-ms-wmv, video\\\\/x-msvideo, video\\\\/3gpp, video\\\\/flv, video\\\\/mp4, video\\\\/quicktime, video\\\\/mpeg, video\\\\/ogv, image\\\\/*\",\"photos\":\"image\\\\/*\",\"videos\":\"video\\\\/*, video\\\\/webm, video\\\\/x-ms-wmv, video\\\\/x-msvideo, video\\\\/3gpp, video\\\\/flv, video\\\\/mp4, video\\\\/quicktime, video\\\\/mpeg, video\\\\/ogv\"},1317],[\"DataAttributeUtilsConfig\",[],{\"checkxt\":true},1682],[\"EmojiConfig\",[],{\"hasFBEmoji\":false,\"pixelRatio\":\"1\",\"schemaAuth\":\"https:\\\\/\\\\/fbstatic-a.akamaihd.net\\\\/images\\\\/emoji.php\\\\/v5\"},1421],[\"MarauderConfig\",[],{\"app_version\":2520541,\"gk_enabled\":false},31],[\"ReactGK\",[],{\"logTopLevelRenders\":false},998],[\"GroupsProductDetailGating\",[],{\"tuzi_dialog\":null},1461],[\"RelayAPIConfigDefaults\",[\"__inst_84473062_0_0\",\"__inst_84473062_0_1\"],{\"accessToken\":\"\",\"actorID\":\"0\",\"fetchTimeout\":30000,\"graphBatchURI\":{\"__m\":\"__inst_84473062_0_0\"},\"graphURI\":{\"__m\":\"__inst_84473062_0_1\"},\"retryDelays\":[1000,3000],\"useXController\":true,\"xhrEncoding\":null},926],[\"WWWBase\",[],{\"uri\":\"https:\\\\/\\\\/www.facebook.com\\\\/\"},318],[\"PhotoSnowliftActionsGating\",[],{\"ALLOW_MAKE_COVER_PHOTO_BUTTON\":false,\"ALLOW_MAKE_PROFILE_PICTURE_BUTTON\":false},887],[\"TypeaheadMetricsConfig\",[],{\"gkResults\":false},263],[\"VideoThumbnailConfig\",[],{\"defaultThumbnailURL\":\"https:\\\\/\\\\/fbstatic-a.akamaihd.net\\\\/rsrc.php\\\\/v2\\\\/yN\\\\/r\\\\/AAqMW82PqGg.gif\"},967],[\"CurrentCommunityInitialData\",[],{},490],[\"FileHashWorkerResource\",[],{\"url\":\"https:\\\\/\\\\/fbstatic-a.akamaihd.net\\\\/rsrc.php\\\\/v2\\\\/yn\\\\/r\\\\/Ec0hPU1zyVc.js\",\"name\":\"FileHashWorkerBundle\"},758],[\"UFIConfig\",[],{\"commentVPVD\":{\"idle_timeout\":5000,\"locations\":[]},\"defaultPageSize\":50,\"renderEmoji\":true,\"renderEmoticons\":true,\"shouldShowStickerNUX\":false,\"shouldShowVideosInCommentsNux\":false,\"shouldShowMarkdownCommentNUX\":false,\"shouldShowHideConstituentTitleNUX\":false,\"shouldShowOwnerConstituentTitleNUX\":false,\"vpvLoggingTimeout\":1000,\"facecastWWWCommentQueueThreshold\":3,\"canPublishLive\":false,\"logChangeOrderingModeUsageSampleRate\":1,\"logCommentsTimespent\":true,\"logWhetherUFISeen\":false,\"showHashtagTypeahead\":false,\"numberDelimiter\":\",\",\"reshareedu\":true,\"logCommentPost\":false,\"logCommentLoad\":false,\"reactActionLinks\":true,\"reactionsHasDirectReactTokens\":false,\"reactionsFunnelLogger\":null,\"reactionsHoverDelay\":525,\"reactionsHoverThreshold\":5,\"reactionsMultilineSocialSentence\":false,\"reactionsDisableMousemoveTrigger\":true,\"reactionsHasCommentsNux\":false,\"reactionsHasTooltipBreakdown\":false,\"reactionsHasCommentsBling\":false,\"reactionsHasMegaDock\":false,\"reactionsHasPopupDockAnimation\":false,\"reactionsPopupDockAnimationDuration\":500,\"reactionsHasAnimatedVectorDock\":false,\"reactionsHasAnimatedIconsOnHover\":false,\"reactionsHasStaticVectorDock\":false,\"reactionsHasStaticFileVectorDock\":false,\"reactionsHasThemes\":false,\"reactionsTheme\":null,\"reactionsHasDockSuggestions\":false,\"reactionsHasSuggestedReaction\":false,\"syncInitialRender\":true,\"showCommentEmbedOption\":true,\"alwaysPreviewSticker\":false,\"publicConversationsUnicornWhitelist\":false,\"typingIndicator\":{\"subscribe\":false,\"showInline\":false,\"showPill\":false,\"fromEveryone\":false},\"allowCommentCountInSocialSentenceRow\":false,\"allowExplicitPagerCount\":false,\"hasCommentTranslationPrefs\":false,\"translateAllGK\":false,\"onlyUpdateLiveUFIWhenVisible\":true,\"maxSubscriptionLiveCommentsQueueLength\":10,\"allowSeeMoreLinebreakInLongWordComments\":true,\"showWebLivePinnedComments\":false},71],[\"MercuryConfig\",[],{},35],[\"StickersConfig\",[],{\"emoticons\":{\"id\":\"1471127876485636\",\"name\":\"Emoticons\",\"isCommentsCapable\":true},\"max_mru_stickers\":40,\"mru_pack\":{\"id\":\"599061016853145\",\"name\":\"Recent\",\"isMRU\":true,\"isCommentsCapable\":true,\"isComposerCapable\":true,\"isMessengerCapable\":true,\"isPostsCapable\":true},\"oz_pack\":null},1666],[\"PresenceInitialData\",[],{\"cookiePollInterval\":500,\"cookieVersion\":3,\"serverTime\":\"1471956815000\",\"shouldSuppress\":false,\"dictEncode\":true},57],[\"WorkModeConfig\",[],{},396],[\"DTSGInitialData\",[],{},258],[\"PaddedStickerConfig\",[],{},1667]]);new (require(\"ServerJS\"))().handle({\"instances\":[[\"__inst_84473062_0_0\",[\"URI\"],[\"\\\\/api\\\\/graphqlbatch\\\\/\"],1],[\"__inst_84473062_0_1\",[\"URI\"],[\"\\\\/api\\\\/graphql\\\\/\"],1]],\"require\":[[\"TimeSlice\"],[\"markJSEnabled\"],[\"lowerDomain\"],[\"URLFragmentPrelude\"],[\"Primer\"],[\"BigPipe\"],[\"Bootloader\"],[\"TimeSlice\",\"disableHeartbeat\",[],[],[]]]});}, \"ServerJS define\", {\"root\":true})();</script></head><body class=\"fbIndex UIPage_LoggedOut _5p3y _59l x1 Locale_en_GB\" dir=\"ltr\"><div class=\"_li\"><div id=\"pagelet_bluebar\" data-referrer=\"pagelet_bluebar\"><div id=\"blueBarDOMInspector\"><div class=\"_53jh\"><div class=\"loggedout_menubar_container\"><div class=\"clearfix loggedout_menubar\"><div class=\"lfloat _ohe\"><h1><a href=\"https://www.facebook.com/\" title=\"Go to Facebook home\"><i class=\"fb_logo img sp__lkuGKPb9f- sx_df2602\"><u>Facebook</u></i></a></h1></div><div class=\"menu_login_container rfloat _ohf\"><form id=\"login_form\" action=\"https://www.facebook.com/login.php?login_attempt=1&amp;lwv=110\" method=\"post\" novalidate=\"1\" onsubmit=\"return window.Event &amp;&amp; Event.__inlineSubmit &amp;&amp; Event.__inlineSubmit(this,event)\"><input type=\"hidden\" name=\"lsd\" value=\"AVqc2yt3\" autocomplete=\"off\" /><table cellspacing=\"0\" role=\"presentation\"><tr><td class=\"html7magic\"><label for=\"email\">Email or Phone</label></td><td class=\"html7magic\"><label for=\"pass\">Password</label></td></tr><tr><td><input type=\"email\" class=\"inputtext\" name=\"email\" id=\"email\" value=\"\" tabindex=\"1\" /></td><td><input type=\"password\" class=\"inputtext\" name=\"pass\" id=\"pass\" tabindex=\"2\" /></td><td><label class=\"uiButton uiButtonConfirm\" id=\"loginbutton\" for=\"u_0_l\"><input value=\"Log In\" tabindex=\"4\" type=\"submit\" id=\"u_0_l\" /></label></td></tr><tr><td class=\"login_form_label_field\"><div><input type=\"hidden\" autocomplete=\"off\" checked=\"1\" name=\"persistent\" /><input type=\"hidden\" name=\"default_persistent\" value=\"1\" /></div></td><td class=\"login_form_label_field\"><a href=\"/recover/initiate?lwv=110\">Forgotten account?</a></td></tr></table><input type=\"hidden\" autocomplete=\"off\" name=\"timezone\" value=\"\" id=\"u_0_m\" /><input type=\"hidden\" autocomplete=\"off\" name=\"lgndim\" value=\"\" id=\"u_0_n\" /><input type=\"hidden\" name=\"lgnrnd\" value=\"055335_yfY0\" /><input type=\"hidden\" id=\"lgnjs\" name=\"lgnjs\" value=\"n\" /><input type=\"hidden\" autocomplete=\"off\" name=\"ab_test_data\" value=\"\" /><input type=\"hidden\" autocomplete=\"off\" id=\"locale\" name=\"locale\" value=\"en_GB\" /><input type=\"hidden\" autocomplete=\"off\" name=\"next\" value=\"https://www.facebook.com/\" /></form></div></div></div></div></div></div><div id=\"globalContainer\" class=\"uiContextualLayerParent\"><div class=\"fb_content clearfix \" id=\"content\" role=\"main\"><div><div class=\"gradient\"><div class=\"gradientContent\"><div class=\"clearfix\"><div class=\"lfloat _ohe\"><div class=\"_5iyy\"><div class=\"_5iyx\">Facebook helps you connect and share with the people in your life.</div><img class=\"img\" src=\"https://fbstatic-a.akamaihd.net/rsrc.php/v2/yx/r/pyNVUg5EM0j.png\" alt=\"\" width=\"537\" height=\"195\" /></div></div><div class=\"_5iyz rfloat _ohf\"><div class=\"pvl _52lp _59d-\"><div class=\"mbs _52lq fsl fwb fcb\"><span>Create an account</span></div><div class=\"_52lr fsm fwn fcg\">It&#039;s free and always will be.</div></div><div id=\"registration_container\"><div><noscript><div id=\"no_js_box\"><h2>JavaScript is disabled in your browser.</h2><p>Please enable JavaScript in your browser or upgrade to a JavaScript-capable browser to register for Facebook.</p></div></noscript><div class=\"_58mf\"><div id=\"reg_box\" class=\"registration_redesign\"><div><div id=\"reg_error\" class=\"hidden_elem _58mn\" role=\"alert\"><div class=\"_58mo\" id=\"reg_error_inner\" tabindex=\"0\">An error occurred. Please try again.</div></div><form method=\"post\" id=\"reg\" name=\"reg\" action=\"https://m.facebook.com/reg/\" onsubmit=\"return function(event)&#123;return false;&#125;.call(this,event)!==false &amp;&amp; window.Event &amp;&amp; Event.__inlineSubmit &amp;&amp; Event.__inlineSubmit(this,event)\"><input type=\"hidden\" name=\"lsd\" value=\"AVqc2yt3\" autocomplete=\"off\" /><div id=\"reg_form_box\" class=\"large_form\"><div class=\"clearfix _58mh\"><div class=\"mbm _3-90 lfloat _ohe\"><div class=\"_5dbb\" id=\"u_0_0\"><input type=\"text\" class=\"inputtext _58mg _5dba _2ph-\" data-type=\"text\" name=\"firstname\" aria-required=\"1\" placeholder=\"First name\" id=\"u_0_1\" aria-label=\"First name\" /><i class=\"_5dbc img sp_beZQzZ7Rg6Q sx_5ca7f2\"></i><i class=\"_5dbd img sp_beZQzZ7Rg6Q sx_9c246c\"></i></div></div><div class=\"mbm rfloat _ohf\"><div class=\"_5dbb\" id=\"u_0_2\"><input type=\"text\" class=\"inputtext _58mg _5dba _2ph-\" data-type=\"text\" name=\"lastname\" aria-required=\"1\" placeholder=\"Surname\" id=\"u_0_3\" aria-label=\"Surname\" /><i class=\"_5dbc img sp_beZQzZ7Rg6Q sx_5ca7f2\"></i><i class=\"_5dbd img sp_beZQzZ7Rg6Q sx_9c246c\"></i></div></div></div><div class=\"mbm\"><div class=\"_5dbb\" id=\"u_0_4\"><input type=\"text\" class=\"inputtext _58mg _5dba _2ph-\" data-type=\"text\" name=\"reg_email__\" aria-required=\"1\" placeholder=\"Mobile number or email address\" id=\"u_0_5\" aria-label=\"Mobile number or email address\" /><i class=\"_5dbc img sp_beZQzZ7Rg6Q sx_5ca7f2\"></i><i class=\"_5dbd img sp_beZQzZ7Rg6Q sx_9c246c\"></i></div></div><div class=\"mbm\" id=\"u_0_6\"><div class=\"_5dbb\" id=\"u_0_7\"><input type=\"text\" class=\"inputtext _58mg _5dba _2ph-\" data-type=\"text\" name=\"reg_email_confirmation__\" aria-required=\"1\" placeholder=\"Re-enter mobile number or email address\" id=\"u_0_8\" aria-label=\"Re-enter mobile number or email address\" /><i class=\"_5dbc img sp_beZQzZ7Rg6Q sx_5ca7f2\"></i><i class=\"_5dbd img sp_beZQzZ7Rg6Q sx_9c246c\"></i></div></div><div class=\"mbm\"><div class=\"_5dbb\" id=\"u_0_9\"><input type=\"password\" class=\"inputtext _58mg _5dba _2ph-\" data-type=\"text\" name=\"reg_passwd__\" aria-required=\"1\" placeholder=\"New password\" id=\"u_0_a\" aria-label=\"New password\" /><i class=\"_5dbc img sp_beZQzZ7Rg6Q sx_5ca7f2\"></i><i class=\"_5dbd img sp_beZQzZ7Rg6Q sx_9c246c\"></i></div></div><div class=\"_58mq _5dbb\" id=\"u_0_b\"><div class=\"mtm mbs _2_68\">Birthday</div><div class=\"_5k_5\"><span class=\"_5k_4\" data-type=\"selectors\" data-name=\"birthday_wrapper\" id=\"u_0_c\"><span><select aria-label=\"Day\" name=\"birthday_day\" id=\"day\" title=\"Day\" class=\"_5dba\"><option value=\"0\" selected=\"1\">Day</option><option value=\"1\">1</option><option value=\"2\">2</option><option value=\"3\">3</option><option value=\"4\">4</option><option value=\"5\">5</option><option value=\"6\">6</option><option value=\"7\">7</option><option value=\"8\">8</option><option value=\"9\">9</option><option value=\"10\">10</option><option value=\"11\">11</option><option value=\"12\">12</option><option value=\"13\">13</option><option value=\"14\">14</option><option value=\"15\">15</option><option value=\"16\">16</option><option value=\"17\">17</option><option value=\"18\">18</option><option value=\"19\">19</option><option value=\"20\">20</option><option value=\"21\">21</option><option value=\"22\">22</option><option value=\"23\">23</option><option value=\"24\">24</option><option value=\"25\">25</option><option value=\"26\">26</option><option value=\"27\">27</option><option value=\"28\">28</option><option value=\"29\">29</option><option value=\"30\">30</option><option value=\"31\">31</option></select><select aria-label=\"Month\" name=\"birthday_month\" id=\"month\" title=\"Month\" class=\"_5dba\"><option value=\"0\" selected=\"1\">Month</option><option value=\"1\">Jan</option><option value=\"2\">Feb</option><option value=\"3\">Mar</option><option value=\"4\">Apr</option><option value=\"5\">May</option><option value=\"6\">Jun</option><option value=\"7\">Jul</option><option value=\"8\">Aug</option><option value=\"9\">Sept</option><option value=\"10\">Oct</option><option value=\"11\">Nov</option><option value=\"12\">Dec</option></select><select aria-label=\"Year\" name=\"birthday_year\" id=\"year\" title=\"Year\" class=\"_5dba\"><option value=\"0\" selected=\"1\">Year</option><option value=\"2016\">2016</option><option value=\"2015\">2015</option><option value=\"2014\">2014</option><option value=\"2013\">2013</option><option value=\"2012\">2012</option><option value=\"2011\">2011</option><option value=\"2010\">2010</option><option value=\"2009\">2009</option><option value=\"2008\">2008</option><option value=\"2007\">2007</option><option value=\"2006\">2006</option><option value=\"2005\">2005</option><option value=\"2004\">2004</option><option value=\"2003\">2003</option><option value=\"2002\">2002</option><option value=\"2001\">2001</option><option value=\"2000\">2000</option><option value=\"1999\">1999</option><option value=\"1998\">1998</option><option value=\"1997\">1997</option><option value=\"1996\">1996</option><option value=\"1995\">1995</option><option value=\"1994\">1994</option><option value=\"1993\">1993</option><option value=\"1992\">1992</option><option value=\"1991\">1991</option><option value=\"1990\">1990</option><option value=\"1989\">1989</option><option value=\"1988\">1988</option><option value=\"1987\">1987</option><option value=\"1986\">1986</option><option value=\"1985\">1985</option><option value=\"1984\">1984</option><option value=\"1983\">1983</option><option value=\"1982\">1982</option><option value=\"1981\">1981</option><option value=\"1980\">1980</option><option value=\"1979\">1979</option><option value=\"1978\">1978</option><option value=\"1977\">1977</option><option value=\"1976\">1976</option><option value=\"1975\">1975</option><option value=\"1974\">1974</option><option value=\"1973\">1973</option><option value=\"1972\">1972</option><option value=\"1971\">1971</option><option value=\"1970\">1970</option><option value=\"1969\">1969</option><option value=\"1968\">1968</option><option value=\"1967\">1967</option><option value=\"1966\">1966</option><option value=\"1965\">1965</option><option value=\"1964\">1964</option><option value=\"1963\">1963</option><option value=\"1962\">1962</option><option value=\"1961\">1961</option><option value=\"1960\">1960</option><option value=\"1959\">1959</option><option value=\"1958\">1958</option><option value=\"1957\">1957</option><option value=\"1956\">1956</option><option value=\"1955\">1955</option><option value=\"1954\">1954</option><option value=\"1953\">1953</option><option value=\"1952\">1952</option><option value=\"1951\">1951</option><option value=\"1950\">1950</option><option value=\"1949\">1949</option><option value=\"1948\">1948</option><option value=\"1947\">1947</option><option value=\"1946\">1946</option><option value=\"1945\">1945</option><option value=\"1944\">1944</option><option value=\"1943\">1943</option><option value=\"1942\">1942</option><option value=\"1941\">1941</option><option value=\"1940\">1940</option><option value=\"1939\">1939</option><option value=\"1938\">1938</option><option value=\"1937\">1937</option><option value=\"1936\">1936</option><option value=\"1935\">1935</option><option value=\"1934\">1934</option><option value=\"1933\">1933</option><option value=\"1932\">1932</option><option value=\"1931\">1931</option><option value=\"1930\">1930</option><option value=\"1929\">1929</option><option value=\"1928\">1928</option><option value=\"1927\">1927</option><option value=\"1926\">1926</option><option value=\"1925\">1925</option><option value=\"1924\">1924</option><option value=\"1923\">1923</option><option value=\"1922\">1922</option><option value=\"1921\">1921</option><option value=\"1920\">1920</option><option value=\"1919\">1919</option><option value=\"1918\">1918</option><option value=\"1917\">1917</option><option value=\"1916\">1916</option><option value=\"1915\">1915</option><option value=\"1914\">1914</option><option value=\"1913\">1913</option><option value=\"1912\">1912</option><option value=\"1911\">1911</option><option value=\"1910\">1910</option><option value=\"1909\">1909</option><option value=\"1908\">1908</option><option value=\"1907\">1907</option><option value=\"1906\">1906</option><option value=\"1905\">1905</option></select></span></span><a class=\"mlm _58ms\" href=\"#\" ajaxify=\"/help/ajax/reg_birthday/\" title=\"Click for more information\" rel=\"async\" role=\"button\">Why do I need to provide my date of birth?</a><i class=\"_5dbc _5k_6 img sp_beZQzZ7Rg6Q sx_5ca7f2\"></i><i class=\"_5dbd _5k_7 img sp_beZQzZ7Rg6Q sx_9c246c\"></i></div></div><div class=\"mtm _5wa2 _5dbb\" id=\"u_0_f\"><span class=\"_5k_3\" data-type=\"radio\" data-name=\"gender_wrapper\" id=\"u_0_g\"><span class=\"_5k_2 _5dba\"><input type=\"radio\" name=\"sex\" value=\"1\" id=\"u_0_d\" /><label class=\"_58mt\" for=\"u_0_d\">Female</label></span><span class=\"_5k_2 _5dba\"><input type=\"radio\" name=\"sex\" value=\"2\" id=\"u_0_e\" /><label class=\"_58mt\" for=\"u_0_e\">Male</label></span></span><i class=\"_5dbc _5k_6 img sp_beZQzZ7Rg6Q sx_5ca7f2\"></i><i class=\"_5dbd _5k_7 img sp_beZQzZ7Rg6Q sx_9c246c\"></i></div><div class=\"_58mu\" data-nocookies=\"1\" id=\"u_0_h\"><p class=\"_58mv\">By clicking Create an account, you agree to our <a href=\"/legal/terms\" target=\"_blank\" rel=\"nofollow\">Terms</a> and that you have read our <a href=\"/about/privacy\" target=\"_blank\" rel=\"nofollow\">Data Policy</a>, including our <a href=\"/help/cookies\" target=\"_blank\" rel=\"nofollow\">Cookie Use</a>.</p></div><div class=\"clearfix\"><button type=\"submit\" class=\"_6j mvm _6wk _6wl _58mi _6o _6v\" name=\"websubmit\" id=\"u_0_i\">Create an account</button><span class=\"hidden_elem _58ml\" id=\"u_0_o\"><img class=\"img\" src=\"https://fbstatic-a.akamaihd.net/rsrc.php/v2/yb/r/GsNJNwuI-UM.gif\" alt=\"\" width=\"16\" height=\"11\" /></span></div></div><input type=\"hidden\" autocomplete=\"off\" id=\"referrer\" name=\"referrer\" value=\"\" /><input type=\"hidden\" autocomplete=\"off\" id=\"asked_to_login\" name=\"asked_to_login\" value=\"0\" /><input type=\"hidden\" autocomplete=\"off\" id=\"terms\" name=\"terms\" value=\"on\" /><input type=\"hidden\" autocomplete=\"off\" id=\"ab_test_data\" name=\"ab_test_data\" value=\"\" /><input type=\"hidden\" autocomplete=\"off\" id=\"contactpoint_label\" name=\"contactpoint_label\" value=\"email_or_phone\" /><input type=\"hidden\" autocomplete=\"off\" id=\"locale\" name=\"locale\" value=\"en_GB\" /><input type=\"hidden\" autocomplete=\"off\" id=\"reg_instance\" name=\"reg_instance\" value=\"T0e8V5qPq5Y1tPHz0F7NPc-s\" /><div id=\"reg_captcha\" class=\"_58mw hidden_elem\"><div><h2 id=\"security_check_header\">Security check</h2><div id=\"outer_captcha_box\"><div id=\"captcha_box\"><div class=\"field_error hidden_elem\" id=\"captcha_response_error\">This field is required.</div><div id=\"captcha\" class=\"captcha\" data-captcha-class=\"ReCaptchaCaptcha\"><input type=\"hidden\" autocomplete=\"off\" name=\"captcha_persist_data\" id=\"captcha_persist_data\" value=\"AZkFzvsb-Xos-cJp3YHfSbGTu2jgQH8gfPU4gQfDoaS0y5Rw8YJNFoV60dg-GKtZxKKVRY60hasaNzR2Os60kxj0OG2OsyPx-qieIO2sfkyGEvY4pSsVbRgD6hmfjrjQCd4w7Rpw9Ok7wWqeXhmgEPBcnGh52PFfSjbboyqba9AeQG_pjLom6X_pWFJt4x7H43u5ivx7IQ0BA4FPmvzNrmGvbdt8Y_GpQo_9Ccvh8fbg73IRBxH8iT9sKU0Huv4SsIgobtboJfzzHg_VHYBKgyApUKM54i_AALAt1SDi0apZZ3UhNU6V6EV-6-V_c__3w-w_tJ3R4iL0Qwc2lH8J1-WxHj1Qrn4LYBi97W-b1kFYI1NwgA7xy2MTKHM0qyThxO8\" /><div id=\"recaptcha_scripts\" style=\"display:none\"></div><div><input type=\"hidden\" autocomplete=\"off\" id=\"captcha_session\" name=\"captcha_session\" value=\"h54Cw4FXQTqn89InKhoC6A\" /><input type=\"hidden\" autocomplete=\"off\" id=\"extra_challenge_params\" name=\"extra_challenge_params\" value=\"authp=nonce.tt.time.new_audio_default&amp;psig=qB9O1GJwk4K71mS3dXupRRZCT58&amp;nonce=h54Cw4FXQTqn89InKhoC6A&amp;tt=TKofcuJNGuSwQLVWa2qVbviUWy8&amp;time=1471956815&amp;new_audio_default=1\" /><input type=\"hidden\" autocomplete=\"off\" id=\"recaptcha_type\" name=\"recaptcha_type\" value=\"password\" /></div><div class=\"recaptcha_text\"><div class=\"recaptcha_only_if_image\">Can&#039;t read the words below? <a href=\"#\" id=\"recaptcha_reload_btn\" onclick=\"Recaptcha.reload(); return false\" role=\"button\">Try different words</a>.</div><div class=\"recaptcha_only_if_audio\" style=\"display:none\">Please enter the words or numbers you hear.<br /><a href=\"#\" id=\"recaptcha_reload_btn\" onclick=\"Recaptcha.reload(); return false\" role=\"button\">Try different words</a> or <a href=\"#\" onclick=\"Recaptcha.switch_type(&quot;image&quot;);\\n                                     return false;\" role=\"button\">back to text</a>.</div></div><span id=\"recaptcha_play_audio\"></span><div class=\"audiocaptcha\"></div><div id=\"recaptcha_image\" class=\"captcha_image\"></div><div id=\"recaptcha_loading\">Loading...<img class=\"captcha_loading img\" src=\"https://fbstatic-a.akamaihd.net/rsrc.php/v2/yb/r/GsNJNwuI-UM.gif\" alt=\"\" width=\"16\" height=\"11\" /></div><div class=\"captcha_input\"><label>Enter the text you see above.</label><div class=\"field_container\"><input type=\"text\" class=\"inputtext\" name=\"captcha_response\" id=\"captcha_response\" autocomplete=\"off\" aria-label=\"Captcha input. Type the words listed above to continue. You may try an audio captcha by clicking the link above. Press captcha play button to play the audio, then enter the spoken words in this field.\" /></div><a class=\"mlm\" href=\"#\" onclick=\"CSS.show($(&#039;captcha_whats_this&#039;)); return false;\" role=\"button\">Why am I seeing this?</a><div id=\"captcha_whats_this\" class=\"hidden_elem\"><div class=\"fsl fwb\">Security Check</div>This is a standard security test that we use to prevent spammers from creating fake accounts and spamming users.</div></div></div></div></div><div id=\"captcha_buttons\" class=\"_58p2 clearfix hidden_elem\"><div class=\"_58mx _58mm\"><div class=\"_58mz\"> \\xc2\\xa0 </div><a class=\"_58my\" href=\"#\" role=\"button\" id=\"u_0_j\">Back</a></div><div class=\"_58mm\"><div class=\"clearfix\"><button type=\"submit\" class=\"_6j mvm _6wk _6wl _58me _58mi _6o _6v\" id=\"u_0_k\">Sign Up</button><span class=\"hidden_elem _58ml\" id=\"u_0_p\"><img class=\"img\" src=\"https://fbstatic-a.akamaihd.net/rsrc.php/v2/yb/r/GsNJNwuI-UM.gif\" alt=\"\" width=\"16\" height=\"11\" /></span></div></div></div></div></div></form></div><div id=\"reg_pages_msg\" class=\"_58mk\"><a href=\"/pages/create/?ref_type=registration_form\">Create a Page</a> for a celebrity, band or business.</div></div></div></div></div></div></div></div></div></div></div><div id=\"pageFooter\" data-referrer=\"page_footer\"><ul class=\"uiList localeSelectorList _2pid _509- _4ki _6-h _6-j _6-i\" data-nocookies=\"1\"><li>English (UK)</li><li><a dir=\"ltr\" href=\"https://hi-in.facebook.com/\" onclick=\"require(&quot;IntlUtils&quot;).setCookieLocale(&quot;hi_IN&quot;, &quot;en_GB&quot;, &quot;https:\\\\/\\\\/hi-in.facebook.com\\\\/&quot;, &quot;www_list_selector&quot;, 0); return false;\" title=\"Hindi\">\\xe0\\xa4\\xb9\\xe0\\xa4\\xbf\\xe0\\xa4\\xa8\\xe0\\xa5\\x8d\\xe0\\xa4\\xa6\\xe0\\xa5\\x80</a></li><li><a dir=\"rtl\" href=\"https://ur-pk.facebook.com/\" onclick=\"require(&quot;IntlUtils&quot;).setCookieLocale(&quot;ur_PK&quot;, &quot;en_GB&quot;, &quot;https:\\\\/\\\\/ur-pk.facebook.com\\\\/&quot;, &quot;www_list_selector&quot;, 1); return false;\" title=\"Urdu\">\\xd8\\xa7\\xd8\\xb1\\xd8\\xaf\\xd9\\x88</a></li><li><a dir=\"ltr\" href=\"https://ta-in.facebook.com/\" onclick=\"require(&quot;IntlUtils&quot;).setCookieLocale(&quot;ta_IN&quot;, &quot;en_GB&quot;, &quot;https:\\\\/\\\\/ta-in.facebook.com\\\\/&quot;, &quot;www_list_selector&quot;, 2); return false;\" title=\"Tamil\">\\xe0\\xae\\xa4\\xe0\\xae\\xae\\xe0\\xae\\xbf\\xe0\\xae\\xb4\\xe0\\xaf\\x8d</a></li><li><a dir=\"ltr\" href=\"https://bn-in.facebook.com/\" onclick=\"require(&quot;IntlUtils&quot;).setCookieLocale(&quot;bn_IN&quot;, &quot;en_GB&quot;, &quot;https:\\\\/\\\\/bn-in.facebook.com\\\\/&quot;, &quot;www_list_selector&quot;, 3); return false;\" title=\"Bengali\">\\xe0\\xa6\\xac\\xe0\\xa6\\xbe\\xe0\\xa6\\x82\\xe0\\xa6\\xb2\\xe0\\xa6\\xbe</a></li><li><a dir=\"ltr\" href=\"https://mr-in.facebook.com/\" onclick=\"require(&quot;IntlUtils&quot;).setCookieLocale(&quot;mr_IN&quot;, &quot;en_GB&quot;, &quot;https:\\\\/\\\\/mr-in.facebook.com\\\\/&quot;, &quot;www_list_selector&quot;, 4); return false;\" title=\"Marathi\">\\xe0\\xa4\\xae\\xe0\\xa4\\xb0\\xe0\\xa4\\xbe\\xe0\\xa4\\xa0\\xe0\\xa5\\x80</a></li><li><a dir=\"ltr\" href=\"https://te-in.facebook.com/\" onclick=\"require(&quot;IntlUtils&quot;).setCookieLocale(&quot;te_IN&quot;, &quot;en_GB&quot;, &quot;https:\\\\/\\\\/te-in.facebook.com\\\\/&quot;, &quot;www_list_selector&quot;, 5); return false;\" title=\"Telugu\">\\xe0\\xb0\\xa4\\xe0\\xb1\\x86\\xe0\\xb0\\xb2\\xe0\\xb1\\x81\\xe0\\xb0\\x97\\xe0\\xb1\\x81</a></li><li><a dir=\"ltr\" href=\"https://gu-in.facebook.com/\" onclick=\"require(&quot;IntlUtils&quot;).setCookieLocale(&quot;gu_IN&quot;, &quot;en_GB&quot;, &quot;https:\\\\/\\\\/gu-in.facebook.com\\\\/&quot;, &quot;www_list_selector&quot;, 6); return false;\" title=\"Gujarati\">\\xe0\\xaa\\x97\\xe0\\xab\\x81\\xe0\\xaa\\x9c\\xe0\\xaa\\xb0\\xe0\\xaa\\xbe\\xe0\\xaa\\xa4\\xe0\\xab\\x80</a></li><li><a dir=\"ltr\" href=\"https://kn-in.facebook.com/\" onclick=\"require(&quot;IntlUtils&quot;).setCookieLocale(&quot;kn_IN&quot;, &quot;en_GB&quot;, &quot;https:\\\\/\\\\/kn-in.facebook.com\\\\/&quot;, &quot;www_list_selector&quot;, 7); return false;\" title=\"Kannada\">\\xe0\\xb2\\x95\\xe0\\xb2\\xa8\\xe0\\xb3\\x8d\\xe0\\xb2\\xa8\\xe0\\xb2\\xa1</a></li><li><a dir=\"ltr\" href=\"https://ml-in.facebook.com/\" onclick=\"require(&quot;IntlUtils&quot;).setCookieLocale(&quot;ml_IN&quot;, &quot;en_GB&quot;, &quot;https:\\\\/\\\\/ml-in.facebook.com\\\\/&quot;, &quot;www_list_selector&quot;, 8); return false;\" title=\"Malayalam\">\\xe0\\xb4\\xae\\xe0\\xb4\\xb2\\xe0\\xb4\\xaf\\xe0\\xb4\\xbe\\xe0\\xb4\\xb3\\xe0\\xb4\\x82</a></li><li><a dir=\"ltr\" href=\"https://es-la.facebook.com/\" onclick=\"require(&quot;IntlUtils&quot;).setCookieLocale(&quot;es_LA&quot;, &quot;en_GB&quot;, &quot;https:\\\\/\\\\/es-la.facebook.com\\\\/&quot;, &quot;www_list_selector&quot;, 9); return false;\" title=\"Spanish\">Espa\\xc3\\xb1ol</a></li><li><a class=\"_42ft _4jy0 _517i _517h _51sy\" role=\"button\" href=\"#\" rel=\"dialog\" ajaxify=\"/settings/language/language/?uri=https%3A%2F%2Fes-la.facebook.com%2F&amp;source=www_list_selector_more\" title=\"Show more languages\"><i class=\"img sp__lkuGKPb9f- sx_e8790e\"></i></a></li></ul><div id=\"contentCurve\"></div><div role=\"contentinfo\" aria-label=\"Facebook site links\"><table class=\"uiGrid _51mz navigationGrid\" cellspacing=\"0\" cellpadding=\"0\"><tbody><tr class=\"_51mx\"><td class=\"_51m- hLeft plm\"><a href=\"/r.php\" title=\"Sign up for Facebook\">Sign Up</a></td><td class=\"_51m- hLeft plm\"><a href=\"/login/\" title=\"Log in to Facebook\">Log In</a></td><td class=\"_51m- hLeft plm\"><a href=\"https://messenger.com/\" title=\"Check out Messenger.\">Messenger</a></td><td class=\"_51m- hLeft plm\"><a href=\"/lite/\" title=\"Facebook Lite for Android.\">Facebook Lite</a></td><td class=\"_51m- hLeft plm\"><a href=\"/mobile/?ref=pf\" title=\"Check out Facebook Mobile.\">Mobile</a></td><td class=\"_51m- hLeft plm\"><a href=\"/find-friends?ref=pf\" title=\"Find anyone on the web.\">Find Friends</a></td><td class=\"_51m- hLeft plm\"><a href=\"/badges/?ref=pf\" title=\"Embed a Facebook badge on your website.\">Badges</a></td><td class=\"_51m- hLeft plm\"><a href=\"/directory/people/\" title=\"Browse our people directory.\">People</a></td><td class=\"_51m- hLeft plm\"><a href=\"/directory/pages/\" title=\"Browse our Pages directory.\">Pages</a></td><td class=\"_51m- hLeft plm\"><a href=\"/places/\" title=\"Check out popular places on Facebook.\">Places</a></td><td class=\"_51m- hLeft plm _51mw\"><a href=\"/games/\" title=\"Check out Facebook games.\">Games</a></td></tr><tr class=\"_51mx\"><td class=\"_51m- hLeft plm\"><a href=\"/directory/places/\" title=\"Browse our places directory.\">Locations</a></td><td class=\"_51m- hLeft plm\"><a href=\"/directory/celebrities/\" title=\"Browse our Public figures &amp; celebrities directory.\">Celebrities</a></td><td class=\"_51m- hLeft plm\"><a href=\"/directory/groups/\" title=\"Browse our Groups directory.\">Groups</a></td><td class=\"_51m- hLeft plm\"><a href=\"/facebook\" accesskey=\"8\" title=\"Read our blog, discover the resource centre and find job opportunities.\">About</a></td><td class=\"_51m- hLeft plm\"><a href=\"/campaign/landing.php?placement=pflo&amp;campaign_id=402047449186&amp;extra_1=auto\" title=\"Advertise on Facebook\">Create Advert</a></td><td class=\"_51m- hLeft plm\"><a href=\"/pages/create/?ref_type=sitefooter\" title=\"Create a Page\">Create Page</a></td><td class=\"_51m- hLeft plm\"><a href=\"https://developers.facebook.com/?ref=pf\" title=\"Develop on our platform.\">Developers</a></td><td class=\"_51m- hLeft plm\"><a href=\"/careers/?ref=pf\" title=\"Make your next career move to our brilliant company.\">Careers</a></td><td class=\"_51m- hLeft plm\"><a data-nocookies=\"1\" href=\"/privacy/explanation\" title=\"Learn about your privacy and Facebook.\">Privacy</a></td><td class=\"_51m- hLeft plm\"><a href=\"/help/cookies/?ref=sitefooter\" title=\"Learn about cookies and Facebook.\" data-nocookies=\"1\">Cookies</a></td><td class=\"_51m- hLeft plm _51mw\"><a class=\"_41ug\" data-nocookies=\"1\" href=\"https://www.facebook.com/help/568137493302217\" title=\"Learn about Ad Choices.\">AdChoices<i class=\"img sp__lkuGKPb9f- sx_efdd53\"></i></a></td></tr><tr class=\"_51mx\"><td class=\"_51m- hLeft plm\"><a data-nocookies=\"1\" href=\"/policies/?ref=pf\" accesskey=\"9\" title=\"Review our terms and policies.\">Terms</a></td><td class=\"_51m- hLeft plm\"><a href=\"/help/?ref=pf\" accesskey=\"0\" title=\"Visit our Help Centre.\">Help</a></td><td class=\"_51m- hLeft plm\"><a class=\"accessible_elem\" accesskey=\"6\" href=\"/settings\" title=\"View and edit your Facebook settings.\">Settings</a></td><td class=\"_51m- hLeft plm\"><a class=\"accessible_elem\" accesskey=\"7\" href=\"/allactivity?privacy_source=activity_log_top_menu\" title=\"View your activity log\">Activity Log</a></td></tr></tbody></table></div><div class=\"mvl copyright\"><div><span> Facebook \\xc2\\xa9 2016</span></div></div></div></div></div>\\n<script>requireLazy([\"Bootloader\"], function(Bootloader) {Bootloader.setResourceMap({\"kwYHi\":{\"type\":\"js\",\"src\":\"https:\\\\/\\\\/fbstatic-a.akamaihd.net\\\\/rsrc.php\\\\/v2iWxT4\\\\/y4\\\\/l\\\\/en_GB\\\\/6rO2cjggRVk.js\",\"crossOrigin\":1},\"oeUXN\":{\"type\":\"js\",\"src\":\"https:\\\\/\\\\/fbstatic-a.akamaihd.net\\\\/rsrc.php\\\\/v2\\\\/y5\\\\/r\\\\/47uHGzMUrOd.js\",\"crossOrigin\":1},\"Zb8GQ\":{\"type\":\"js\",\"src\":\"https:\\\\/\\\\/fbstatic-a.akamaihd.net\\\\/rsrc.php\\\\/v2i58P4\\\\/y9\\\\/l\\\\/en_GB\\\\/YhKdLAYF-Cj.js\",\"crossOrigin\":1},\"wnODy\":{\"type\":\"js\",\"src\":\"https:\\\\/\\\\/fbstatic-a.akamaihd.net\\\\/rsrc.php\\\\/v2iS-44\\\\/yi\\\\/l\\\\/en_GB\\\\/VmWX0anVlnc.js\",\"crossOrigin\":1},\"B11nu\":{\"type\":\"js\",\"src\":\"https:\\\\/\\\\/fbstatic-a.akamaihd.net\\\\/rsrc.php\\\\/v2\\\\/yh\\\\/r\\\\/X8aJQPpjIC5.js\",\"crossOrigin\":1},\"hpDX0\":{\"type\":\"js\",\"src\":\"https:\\\\/\\\\/fbstatic-a.akamaihd.net\\\\/rsrc.php\\\\/v2iIoS4\\\\/yt\\\\/l\\\\/en_GB\\\\/m1d4kWMef6l.js\",\"crossOrigin\":1},\"Pc5vd\":{\"type\":\"js\",\"src\":\"https:\\\\/\\\\/fbstatic-a.akamaihd.net\\\\/rsrc.php\\\\/v2io3i4\\\\/yv\\\\/l\\\\/en_GB\\\\/qZNtGwyMJj9.js\",\"crossOrigin\":1},\"7zFHv\":{\"type\":\"js\",\"src\":\"https:\\\\/\\\\/fbstatic-a.akamaihd.net\\\\/rsrc.php\\\\/v2ilew4\\\\/y9\\\\/l\\\\/en_GB\\\\/29Boo-i-Utr.js\",\"crossOrigin\":1},\"d25Q1\":{\"type\":\"js\",\"src\":\"https:\\\\/\\\\/fbstatic-a.akamaihd.net\\\\/rsrc.php\\\\/v2\\\\/yp\\\\/r\\\\/cQcrnZcSHAs.js\",\"crossOrigin\":1},\"oE4Do\":{\"type\":\"js\",\"src\":\"https:\\\\/\\\\/fbstatic-a.akamaihd.net\\\\/rsrc.php\\\\/v2\\\\/yd\\\\/r\\\\/01HD1Cy8Toh.js\",\"crossOrigin\":1},\"gHZav\":{\"type\":\"js\",\"src\":\"https:\\\\/\\\\/fbstatic-a.akamaihd.net\\\\/rsrc.php\\\\/v2iUwt4\\\\/yS\\\\/l\\\\/en_GB\\\\/eSFXKEFX9_a.js\",\"crossOrigin\":1},\"ET71A\":{\"type\":\"js\",\"src\":\"https:\\\\/\\\\/fbstatic-a.akamaihd.net\\\\/rsrc.php\\\\/v2irU_4\\\\/yS\\\\/l\\\\/en_GB\\\\/6qaYqjKdx5P.js\",\"crossOrigin\":1},\"ccpBO\":{\"type\":\"js\",\"src\":\"https:\\\\/\\\\/fbstatic-a.akamaihd.net\\\\/rsrc.php\\\\/v2\\\\/yJ\\\\/r\\\\/SN6qBmEx4ek.js\",\"crossOrigin\":1},\"2W9MF\":{\"type\":\"js\",\"src\":\"https:\\\\/\\\\/fbstatic-a.akamaihd.net\\\\/rsrc.php\\\\/v2\\\\/yH\\\\/r\\\\/Iy3zh5EfqHW.js\",\"crossOrigin\":1},\"elcL7\":{\"type\":\"js\",\"src\":\"https:\\\\/\\\\/fbstatic-a.akamaihd.net\\\\/rsrc.php\\\\/v2iNAM4\\\\/yf\\\\/l\\\\/en_GB\\\\/4otJRU00mqx.js\",\"crossOrigin\":1},\"nyvCJ\":{\"type\":\"js\",\"src\":\"https:\\\\/\\\\/fbstatic-a.akamaihd.net\\\\/rsrc.php\\\\/v2iWVb4\\\\/yL\\\\/l\\\\/en_GB\\\\/f94xRpETpOC.js\",\"crossOrigin\":1},\"ZG21n\":{\"type\":\"js\",\"src\":\"https:\\\\/\\\\/fbstatic-a.akamaihd.net\\\\/rsrc.php\\\\/v2\\\\/yx\\\\/r\\\\/X2OgRhYgRBe.js\",\"crossOrigin\":1},\"MQOl4\":{\"type\":\"js\",\"src\":\"https:\\\\/\\\\/fbstatic-a.akamaihd.net\\\\/rsrc.php\\\\/v2i1cS4\\\\/yV\\\\/l\\\\/en_GB\\\\/L1NK_0NrUvN.js\",\"crossOrigin\":1},\"gmtRL\":{\"type\":\"css\",\"src\":\"https:\\\\/\\\\/fbstatic-a.akamaihd.net\\\\/rsrc.php\\\\/v2\\\\/yX\\\\/r\\\\/qgkBty8qxP4.css\",\"permanent\":1,\"crossOrigin\":1},\"Uu+Ir\":{\"type\":\"js\",\"src\":\"https:\\\\/\\\\/fbstatic-a.akamaihd.net\\\\/rsrc.php\\\\/v2if3Y4\\\\/yy\\\\/l\\\\/en_GB\\\\/9wzvJBD5bia.js\",\"crossOrigin\":1},\"pxUXG\":{\"type\":\"js\",\"src\":\"https:\\\\/\\\\/fbstatic-a.akamaihd.net\\\\/rsrc.php\\\\/v2ilA54\\\\/yb\\\\/l\\\\/en_GB\\\\/QCSK0HPeJI1.js\",\"crossOrigin\":1},\"cxJYu\":{\"type\":\"js\",\"src\":\"https:\\\\/\\\\/fbstatic-a.akamaihd.net\\\\/rsrc.php\\\\/v2iHpv4\\\\/ys\\\\/l\\\\/en_GB\\\\/nkNrnVsitZy.js\",\"crossOrigin\":1},\"5o5Mz\":{\"type\":\"css\",\"src\":\"https:\\\\/\\\\/fbstatic-a.akamaihd.net\\\\/rsrc.php\\\\/v2\\\\/yB\\\\/r\\\\/39VogGrhlcy.css\",\"permanent\":1,\"crossOrigin\":1},\"1oSdv\":{\"type\":\"js\",\"src\":\"https:\\\\/\\\\/fbstatic-a.akamaihd.net\\\\/rsrc.php\\\\/v2ihfZ4\\\\/yO\\\\/l\\\\/en_GB\\\\/jJqYhOy4zeg.js\",\"crossOrigin\":1},\"7unvu\":{\"type\":\"js\",\"src\":\"https:\\\\/\\\\/fbstatic-a.akamaihd.net\\\\/rsrc.php\\\\/v2\\\\/y-\\\\/r\\\\/GXNHL59M6Y9.js\",\"crossOrigin\":1},\"gqCHl\":{\"type\":\"js\",\"src\":\"https:\\\\/\\\\/fbstatic-a.akamaihd.net\\\\/rsrc.php\\\\/v2\\\\/ys\\\\/r\\\\/k-HPVpb35tp.js\",\"crossOrigin\":1},\"GDDQh\":{\"type\":\"js\",\"src\":\"https:\\\\/\\\\/fbstatic-a.akamaihd.net\\\\/rsrc.php\\\\/v2\\\\/yr\\\\/r\\\\/0FUuVixI8Q4.js\",\"crossOrigin\":1},\"a9HaU\":{\"type\":\"js\",\"src\":\"https:\\\\/\\\\/fbstatic-a.akamaihd.net\\\\/rsrc.php\\\\/v2\\\\/yM\\\\/r\\\\/IrrYq6ZDar3.js\",\"crossOrigin\":1},\"lrduD\":{\"type\":\"js\",\"src\":\"https:\\\\/\\\\/fbstatic-a.akamaihd.net\\\\/rsrc.php\\\\/v2icMq4\\\\/yW\\\\/l\\\\/en_GB\\\\/SFHJ1PgLIUr.js\",\"crossOrigin\":1},\"5D6Pr\":{\"type\":\"js\",\"src\":\"https:\\\\/\\\\/fbstatic-a.akamaihd.net\\\\/rsrc.php\\\\/v2\\\\/yY\\\\/r\\\\/I_NoFBHB640.js\",\"crossOrigin\":1},\"cNZDj\":{\"type\":\"js\",\"src\":\"https:\\\\/\\\\/fbstatic-a.akamaihd.net\\\\/rsrc.php\\\\/v2\\\\/yX\\\\/r\\\\/e7uRZCwkgl2.js\",\"crossOrigin\":1},\"U+RLg\":{\"type\":\"js\",\"src\":\"https:\\\\/\\\\/fbstatic-a.akamaihd.net\\\\/rsrc.php\\\\/v2\\\\/yr\\\\/r\\\\/2PcpuMLZYS5.js\",\"crossOrigin\":1},\"XjZM4\":{\"type\":\"js\",\"src\":\"https:\\\\/\\\\/fbstatic-a.akamaihd.net\\\\/rsrc.php\\\\/v2iWas4\\\\/yb\\\\/l\\\\/en_GB\\\\/eTKUv8N2Kcz.js\",\"crossOrigin\":1},\"jxx9h\":{\"type\":\"js\",\"src\":\"https:\\\\/\\\\/fbstatic-a.akamaihd.net\\\\/rsrc.php\\\\/v2\\\\/ys\\\\/r\\\\/bGQ496U02PT.js\",\"crossOrigin\":1},\"h5gHf\":{\"type\":\"js\",\"src\":\"https:\\\\/\\\\/fbstatic-a.akamaihd.net\\\\/rsrc.php\\\\/v2iYSt4\\\\/yX\\\\/l\\\\/en_GB\\\\/5JWlwEKtnqs.js\",\"crossOrigin\":1},\"3vMSC\":{\"type\":\"js\",\"src\":\"https:\\\\/\\\\/fbstatic-a.akamaihd.net\\\\/rsrc.php\\\\/v2\\\\/y0\\\\/r\\\\/DJW5HaH6Hre.js\",\"crossOrigin\":1},\"dgZ1i\":{\"type\":\"css\",\"src\":\"https:\\\\/\\\\/fbstatic-a.akamaihd.net\\\\/rsrc.php\\\\/v2\\\\/yS\\\\/r\\\\/NfSI1LTkF8p.css\",\"permanent\":1,\"crossOrigin\":1},\"b0Fa8\":{\"type\":\"js\",\"src\":\"https:\\\\/\\\\/fbstatic-a.akamaihd.net\\\\/rsrc.php\\\\/v2\\\\/yZ\\\\/r\\\\/bQPKbGeaIht.js\",\"crossOrigin\":1},\"EY\\\\/gY\":{\"type\":\"js\",\"src\":\"https:\\\\/\\\\/fbstatic-a.akamaihd.net\\\\/rsrc.php\\\\/v2\\\\/y4\\\\/r\\\\/GISYmR4ezMX.js\",\"crossOrigin\":1},\"Rqeg+\":{\"type\":\"js\",\"src\":\"https:\\\\/\\\\/fbstatic-a.akamaihd.net\\\\/rsrc.php\\\\/v2\\\\/yn\\\\/r\\\\/DDUGPWYifdb.js\",\"crossOrigin\":1},\"vjymE\":{\"type\":\"js\",\"src\":\"https:\\\\/\\\\/fbstatic-a.akamaihd.net\\\\/rsrc.php\\\\/v2iEIA4\\\\/yr\\\\/l\\\\/en_GB\\\\/YHMQ612WRxt.js\",\"crossOrigin\":1},\"ED3ln\":{\"type\":\"js\",\"src\":\"https:\\\\/\\\\/fbstatic-a.akamaihd.net\\\\/rsrc.php\\\\/v2il_Q4\\\\/yH\\\\/l\\\\/en_GB\\\\/T8Zc_64bQ8P.js\",\"crossOrigin\":1},\"9bRNK\":{\"type\":\"js\",\"src\":\"https:\\\\/\\\\/fbstatic-a.akamaihd.net\\\\/rsrc.php\\\\/v2ibMl4\\\\/yM\\\\/l\\\\/en_GB\\\\/bHpFqKIfunq.js\",\"crossOrigin\":1},\"4JYwZ\":{\"type\":\"js\",\"src\":\"https:\\\\/\\\\/fbstatic-a.akamaihd.net\\\\/rsrc.php\\\\/v2iiIs4\\\\/yZ\\\\/l\\\\/en_GB\\\\/kkAB_20BnqJ.js\",\"crossOrigin\":1},\"typPq\":{\"type\":\"js\",\"src\":\"https:\\\\/\\\\/fbstatic-a.akamaihd.net\\\\/rsrc.php\\\\/v2\\\\/yZ\\\\/r\\\\/vsrZZeWK4yZ.js\",\"crossOrigin\":1},\"uayAm\":{\"type\":\"js\",\"src\":\"https:\\\\/\\\\/fbstatic-a.akamaihd.net\\\\/rsrc.php\\\\/v2\\\\/yn\\\\/r\\\\/V4OdHfcG7t1.js\",\"crossOrigin\":1},\"65zo9\":{\"type\":\"js\",\"src\":\"https:\\\\/\\\\/fbstatic-a.akamaihd.net\\\\/rsrc.php\\\\/v2\\\\/yV\\\\/r\\\\/YxptV4V74Rn.js\",\"crossOrigin\":1},\"qio9T\":{\"type\":\"js\",\"src\":\"https:\\\\/\\\\/fbstatic-a.akamaihd.net\\\\/rsrc.php\\\\/v2iI464\\\\/yr\\\\/l\\\\/en_GB\\\\/NQycOolL3TS.js\",\"crossOrigin\":1},\"LJdos\":{\"type\":\"js\",\"src\":\"https:\\\\/\\\\/fbstatic-a.akamaihd.net\\\\/rsrc.php\\\\/v2\\\\/yp\\\\/r\\\\/60rpdMHQdh_.js\",\"crossOrigin\":1},\"FnhD7\":{\"type\":\"js\",\"src\":\"https:\\\\/\\\\/fbstatic-a.akamaihd.net\\\\/rsrc.php\\\\/v2i-C14\\\\/yK\\\\/l\\\\/en_GB\\\\/1Dh2Hb3y1Nm.js\",\"crossOrigin\":1},\"gUdxc\":{\"type\":\"css\",\"src\":\"https:\\\\/\\\\/fbstatic-a.akamaihd.net\\\\/rsrc.php\\\\/v2\\\\/yB\\\\/r\\\\/tXsIqRfs2_e.css\",\"permanent\":1,\"crossOrigin\":1},\"kcaCA\":{\"type\":\"js\",\"src\":\"https:\\\\/\\\\/fbstatic-a.akamaihd.net\\\\/rsrc.php\\\\/v2i5XH4\\\\/yf\\\\/l\\\\/en_GB\\\\/vMWrW2iDocm.js\",\"crossOrigin\":1},\"0adyZ\":{\"type\":\"js\",\"src\":\"https:\\\\/\\\\/fbstatic-a.akamaihd.net\\\\/rsrc.php\\\\/v2\\\\/y1\\\\/r\\\\/DCAjdqx291R.js\",\"crossOrigin\":1},\"wE\\\\/xn\":{\"type\":\"js\",\"src\":\"https:\\\\/\\\\/fbstatic-a.akamaihd.net\\\\/rsrc.php\\\\/v2\\\\/yx\\\\/r\\\\/ilDXfIeRfWl.js\",\"crossOrigin\":1},\"C7A08\":{\"type\":\"js\",\"src\":\"https:\\\\/\\\\/fbstatic-a.akamaihd.net\\\\/rsrc.php\\\\/v2\\\\/y-\\\\/r\\\\/ViMKZ2VTb6Q.js\",\"crossOrigin\":1},\"YWsZK\":{\"type\":\"js\",\"src\":\"https:\\\\/\\\\/fbstatic-a.akamaihd.net\\\\/rsrc.php\\\\/v2i3_C4\\\\/yH\\\\/l\\\\/en_GB\\\\/hbfdIxVUasO.js\",\"crossOrigin\":1},\"kF1+E\":{\"type\":\"css\",\"src\":\"https:\\\\/\\\\/fbstatic-a.akamaihd.net\\\\/rsrc.php\\\\/v2\\\\/ya\\\\/r\\\\/ipIBu9zE2Ql.css\",\"permanent\":1,\"crossOrigin\":1},\"OzwIY\":{\"type\":\"css\",\"src\":\"https:\\\\/\\\\/fbstatic-a.akamaihd.net\\\\/rsrc.php\\\\/v2\\\\/yH\\\\/r\\\\/-E3qRVNYotX.css\",\"permanent\":1,\"crossOrigin\":1},\"ZMwt7\":{\"type\":\"js\",\"src\":\"https:\\\\/\\\\/fbstatic-a.akamaihd.net\\\\/rsrc.php\\\\/v2i6Z54\\\\/yZ\\\\/l\\\\/en_GB\\\\/KPXEktgqf95.js\",\"crossOrigin\":1},\"3FvOG\":{\"type\":\"css\",\"src\":\"https:\\\\/\\\\/fbstatic-a.akamaihd.net\\\\/rsrc.php\\\\/v2\\\\/yP\\\\/r\\\\/eD1tCf5qh23.css\",\"permanent\":1,\"crossOrigin\":1},\"JsZNv\":{\"type\":\"js\",\"src\":\"https:\\\\/\\\\/fbstatic-a.akamaihd.net\\\\/rsrc.php\\\\/v2\\\\/yU\\\\/r\\\\/uC_ndQgHfSn.js\",\"crossOrigin\":1},\"cfn7D\":{\"type\":\"js\",\"src\":\"https:\\\\/\\\\/fbstatic-a.akamaihd.net\\\\/rsrc.php\\\\/v2\\\\/yF\\\\/r\\\\/kDVe75PMvRY.js\",\"crossOrigin\":1},\"FjXlo\":{\"type\":\"css\",\"src\":\"https:\\\\/\\\\/fbstatic-a.akamaihd.net\\\\/rsrc.php\\\\/v2\\\\/yw\\\\/r\\\\/QUJQfA2YB6G.css\",\"permanent\":1,\"crossOrigin\":1},\"c6yOo\":{\"type\":\"js\",\"src\":\"https:\\\\/\\\\/fbstatic-a.akamaihd.net\\\\/rsrc.php\\\\/v2icVz4\\\\/yh\\\\/l\\\\/en_GB\\\\/uDdRkXZGfYY.js\",\"crossOrigin\":1},\"sJ0C+\":{\"type\":\"js\",\"src\":\"https:\\\\/\\\\/fbstatic-a.akamaihd.net\\\\/rsrc.php\\\\/v2iu9g4\\\\/yD\\\\/l\\\\/en_GB\\\\/_xIjLDjR7RL.js\",\"crossOrigin\":1},\"qh2Qr\":{\"type\":\"css\",\"src\":\"https:\\\\/\\\\/fbstatic-a.akamaihd.net\\\\/rsrc.php\\\\/v2\\\\/y6\\\\/r\\\\/xcbHaKG-VgT.css\",\"permanent\":1,\"crossOrigin\":1},\"k0pIu\":{\"type\":\"js\",\"src\":\"https:\\\\/\\\\/fbstatic-a.akamaihd.net\\\\/rsrc.php\\\\/v2iZVq4\\\\/yR\\\\/l\\\\/en_GB\\\\/JHgaTdrqTlr.js\",\"crossOrigin\":1},\"gcA6n\":{\"type\":\"js\",\"src\":\"https:\\\\/\\\\/fbstatic-a.akamaihd.net\\\\/rsrc.php\\\\/v2i3aO4\\\\/ys\\\\/l\\\\/en_GB\\\\/OWFOyGGdC8O.js\",\"crossOrigin\":1},\"PdfTS\":{\"type\":\"css\",\"src\":\"https:\\\\/\\\\/fbstatic-a.akamaihd.net\\\\/rsrc.php\\\\/v2\\\\/yb\\\\/r\\\\/cnPQpbOcyMU.css\",\"nonblocking\":1,\"crossOrigin\":1},\"rKdrQ\":{\"type\":\"css\",\"src\":\"https:\\\\/\\\\/fbstatic-a.akamaihd.net\\\\/rsrc.php\\\\/v2\\\\/ys\\\\/r\\\\/ZSkr48JVOAJ.css\",\"permanent\":1,\"crossOrigin\":1},\"G2NVg\":{\"type\":\"js\",\"src\":\"https:\\\\/\\\\/fbstatic-a.akamaihd.net\\\\/rsrc.php\\\\/v2iAwI4\\\\/yY\\\\/l\\\\/en_GB\\\\/O26M8RslFZj.js\",\"crossOrigin\":1},\"q9lxt\":{\"type\":\"css\",\"src\":\"https:\\\\/\\\\/fbstatic-a.akamaihd.net\\\\/rsrc.php\\\\/v2\\\\/yx\\\\/r\\\\/S5Lb3PmJQXu.css\",\"permanent\":1,\"crossOrigin\":1},\"MXCsw\":{\"type\":\"js\",\"src\":\"https:\\\\/\\\\/fbstatic-a.akamaihd.net\\\\/rsrc.php\\\\/v2iqaD4\\\\/y7\\\\/l\\\\/en_GB\\\\/NqvQh0MsKjH.js\",\"crossOrigin\":1},\"axQrO\":{\"type\":\"js\",\"src\":\"https:\\\\/\\\\/fbstatic-a.akamaihd.net\\\\/rsrc.php\\\\/v2\\\\/yy\\\\/r\\\\/4_zjlcLO-Ek.js\",\"crossOrigin\":1},\"IrfhN\":{\"type\":\"js\",\"src\":\"https:\\\\/\\\\/fbstatic-a.akamaihd.net\\\\/rsrc.php\\\\/v2i2yW4\\\\/yZ\\\\/l\\\\/en_GB\\\\/bQMIyVVW_bH.js\",\"crossOrigin\":1},\"mqRfW\":{\"type\":\"css\",\"src\":\"https:\\\\/\\\\/fbstatic-a.akamaihd.net\\\\/rsrc.php\\\\/v2\\\\/yZ\\\\/r\\\\/DrtiZ6zXqSM.css\",\"permanent\":1,\"crossOrigin\":1},\"cNkZZ\":{\"type\":\"css\",\"src\":\"https:\\\\/\\\\/fbstatic-a.akamaihd.net\\\\/rsrc.php\\\\/v2\\\\/yA\\\\/r\\\\/4xSVuSq8yqm.css\",\"permanent\":1,\"crossOrigin\":1},\"ZAT3T\":{\"type\":\"js\",\"src\":\"https:\\\\/\\\\/fbstatic-a.akamaihd.net\\\\/rsrc.php\\\\/v2ib_V4\\\\/yG\\\\/l\\\\/en_GB\\\\/48lh87mH-b9.js\",\"crossOrigin\":1},\"OrF6T\":{\"type\":\"css\",\"src\":\"https:\\\\/\\\\/fbstatic-a.akamaihd.net\\\\/rsrc.php\\\\/v2\\\\/yl\\\\/r\\\\/-Acnw5MrCrK.css\",\"crossOrigin\":1},\"PfISf\":{\"type\":\"js\",\"src\":\"https:\\\\/\\\\/fbstatic-a.akamaihd.net\\\\/rsrc.php\\\\/v2ibnR4\\\\/y-\\\\/l\\\\/en_GB\\\\/TqGDUNQEmIA.js\",\"crossOrigin\":1},\"EHu2Q\":{\"type\":\"css\",\"src\":\"https:\\\\/\\\\/fbstatic-a.akamaihd.net\\\\/rsrc.php\\\\/v2\\\\/yZ\\\\/r\\\\/6hvj2ClNLqc.css\",\"permanent\":1,\"crossOrigin\":1},\"0Qz\\\\/x\":{\"type\":\"js\",\"src\":\"https:\\\\/\\\\/fbstatic-a.akamaihd.net\\\\/rsrc.php\\\\/v2\\\\/yi\\\\/r\\\\/PmIa-N9xJlu.js\",\"crossOrigin\":1},\"Hnz7V\":{\"type\":\"js\",\"src\":\"https:\\\\/\\\\/fbstatic-a.akamaihd.net\\\\/rsrc.php\\\\/v2ikLT4\\\\/yn\\\\/l\\\\/en_GB\\\\/NeY03EV1E8X.js\",\"crossOrigin\":1},\"PTQ6B\":{\"type\":\"js\",\"src\":\"https:\\\\/\\\\/fbstatic-a.akamaihd.net\\\\/rsrc.php\\\\/v2\\\\/ym\\\\/r\\\\/l4yWqj0IjwJ.js\",\"crossOrigin\":1},\"dUt8u\":{\"type\":\"css\",\"src\":\"https:\\\\/\\\\/fbstatic-a.akamaihd.net\\\\/rsrc.php\\\\/v2\\\\/yW\\\\/r\\\\/XMK_pt5CV0W.css\",\"permanent\":1,\"crossOrigin\":1},\"oOyW0\":{\"type\":\"js\",\"src\":\"https:\\\\/\\\\/fbstatic-a.akamaihd.net\\\\/rsrc.php\\\\/v2i4IH4\\\\/yG\\\\/l\\\\/en_GB\\\\/SiWQrg4Of-N.js\",\"crossOrigin\":1},\"YCit7\":{\"type\":\"js\",\"src\":\"https:\\\\/\\\\/fbstatic-a.akamaihd.net\\\\/rsrc.php\\\\/v2\\\\/y2\\\\/r\\\\/hCP6i2soi-0.js\",\"crossOrigin\":1},\"hz49s\":{\"type\":\"css\",\"src\":\"https:\\\\/\\\\/fbstatic-a.akamaihd.net\\\\/rsrc.php\\\\/v2\\\\/y6\\\\/r\\\\/rAkMYkRHbDz.css\",\"permanent\":1,\"crossOrigin\":1},\"LY13N\":{\"type\":\"js\",\"src\":\"https:\\\\/\\\\/fbstatic-a.akamaihd.net\\\\/rsrc.php\\\\/v2\\\\/yi\\\\/r\\\\/NINSDmE0T3G.js\",\"crossOrigin\":1},\"YlT9g\":{\"type\":\"js\",\"src\":\"https:\\\\/\\\\/fbstatic-a.akamaihd.net\\\\/rsrc.php\\\\/v2\\\\/yT\\\\/r\\\\/epAtBc7LR8g.js\",\"crossOrigin\":1},\"+g5ut\":{\"type\":\"js\",\"src\":\"https:\\\\/\\\\/fbstatic-a.akamaihd.net\\\\/rsrc.php\\\\/v2imgv4\\\\/y9\\\\/l\\\\/en_GB\\\\/umGzRUEQftI.js\",\"crossOrigin\":1},\"KdFyq\":{\"type\":\"js\",\"src\":\"https:\\\\/\\\\/fbstatic-a.akamaihd.net\\\\/rsrc.php\\\\/v2\\\\/ym\\\\/r\\\\/8WmbnbEyjLs.js\",\"crossOrigin\":1},\"+yfb7\":{\"type\":\"css\",\"src\":\"https:\\\\/\\\\/fbstatic-a.akamaihd.net\\\\/rsrc.php\\\\/v2\\\\/yM\\\\/r\\\\/7q6fPnVnv1F.css\",\"permanent\":1,\"crossOrigin\":1},\"8aeA9\":{\"type\":\"js\",\"src\":\"https:\\\\/\\\\/fbstatic-a.akamaihd.net\\\\/rsrc.php\\\\/v2\\\\/yj\\\\/r\\\\/02On8iojhXo.js\",\"crossOrigin\":1},\"9EMwh\":{\"type\":\"js\",\"src\":\"https:\\\\/\\\\/fbstatic-a.akamaihd.net\\\\/rsrc.php\\\\/v2ieKZ4\\\\/yh\\\\/l\\\\/en_GB\\\\/XKtjIA8UYJN.js\",\"crossOrigin\":1},\"uvGxQ\":{\"type\":\"js\",\"src\":\"https:\\\\/\\\\/fbstatic-a.akamaihd.net\\\\/rsrc.php\\\\/v2iV7y4\\\\/y9\\\\/l\\\\/en_GB\\\\/ykzNlfjEkbN.js\",\"crossOrigin\":1},\"9LIbo\":{\"type\":\"css\",\"src\":\"https:\\\\/\\\\/fbstatic-a.akamaihd.net\\\\/rsrc.php\\\\/v2\\\\/ya\\\\/r\\\\/WPf4OrF6T6I.css\",\"crossOrigin\":1},\"tRXKX\":{\"type\":\"js\",\"src\":\"https:\\\\/\\\\/fbstatic-a.akamaihd.net\\\\/rsrc.php\\\\/v2if3Y4\\\\/yy\\\\/l\\\\/en_GB\\\\/GyXuJUGlTYb.js\",\"crossOrigin\":1},\"IhOkH\":{\"type\":\"js\",\"src\":\"https:\\\\/\\\\/fbstatic-a.akamaihd.net\\\\/rsrc.php\\\\/v2iOtr4\\\\/yw\\\\/l\\\\/en_GB\\\\/i0QrPdEW2qQ.js\",\"crossOrigin\":1},\"au1KI\":{\"type\":\"js\",\"src\":\"https:\\\\/\\\\/fbstatic-a.akamaihd.net\\\\/rsrc.php\\\\/v2\\\\/yM\\\\/r\\\\/cw8ihFG1O8S.js\",\"crossOrigin\":1},\"dU2br\":{\"type\":\"css\",\"src\":\"https:\\\\/\\\\/fbstatic-a.akamaihd.net\\\\/rsrc.php\\\\/v2\\\\/yO\\\\/r\\\\/RqHmFIWRQHT.css\",\"crossOrigin\":1},\"\\\\/0VkN\":{\"type\":\"css\",\"src\":\"https:\\\\/\\\\/fbstatic-a.akamaihd.net\\\\/rsrc.php\\\\/v2\\\\/yc\\\\/r\\\\/_cCQ3idrT6D.css\",\"crossOrigin\":1},\"krylL\":{\"type\":\"js\",\"src\":\"https:\\\\/\\\\/fbstatic-a.akamaihd.net\\\\/rsrc.php\\\\/v2\\\\/yT\\\\/r\\\\/W6Vtp5i8ODy.js\",\"crossOrigin\":1},\"zparn\":{\"type\":\"js\",\"src\":\"https:\\\\/\\\\/fbstatic-a.akamaihd.net\\\\/rsrc.php\\\\/v2\\\\/yy\\\\/r\\\\/vVKzbfKpJuH.js\",\"crossOrigin\":1},\"NWLyY\":{\"type\":\"css\",\"src\":\"https:\\\\/\\\\/fbstatic-a.akamaihd.net\\\\/rsrc.php\\\\/v2\\\\/yV\\\\/r\\\\/YYr9TX0NURu.css\",\"permanent\":1,\"crossOrigin\":1},\"sLq3G\":{\"type\":\"js\",\"src\":\"https:\\\\/\\\\/fbstatic-a.akamaihd.net\\\\/rsrc.php\\\\/v2iJ0Y4\\\\/y6\\\\/l\\\\/en_GB\\\\/S6TXxY4MRqe.js\",\"crossOrigin\":1},\"n8oY3\":{\"type\":\"js\",\"src\":\"https:\\\\/\\\\/fbstatic-a.akamaihd.net\\\\/rsrc.php\\\\/v2\\\\/yy\\\\/r\\\\/lpLkipv6dcL.js\",\"crossOrigin\":1},\"BkjC5\":{\"type\":\"js\",\"src\":\"https:\\\\/\\\\/fbstatic-a.akamaihd.net\\\\/rsrc.php\\\\/v2i3jl4\\\\/yd\\\\/l\\\\/en_GB\\\\/s_tOeUtNBu9.js\",\"crossOrigin\":1},\"Dueeg\":{\"type\":\"css\",\"src\":\"https:\\\\/\\\\/fbstatic-a.akamaihd.net\\\\/rsrc.php\\\\/v2\\\\/ym\\\\/r\\\\/Ynt1vLSAvoS.css\",\"crossOrigin\":1},\"zF\\\\/CS\":{\"type\":\"js\",\"src\":\"https:\\\\/\\\\/fbstatic-a.akamaihd.net\\\\/rsrc.php\\\\/v2iwIC4\\\\/yc\\\\/l\\\\/en_GB\\\\/JQZRZktIGAR.js\",\"crossOrigin\":1},\"RmAnf\":{\"type\":\"js\",\"src\":\"https:\\\\/\\\\/fbstatic-a.akamaihd.net\\\\/rsrc.php\\\\/v2\\\\/yK\\\\/r\\\\/ACpj02giJ7G.js\",\"crossOrigin\":1},\"9mgBu\":{\"type\":\"js\",\"src\":\"https:\\\\/\\\\/fbstatic-a.akamaihd.net\\\\/rsrc.php\\\\/v2\\\\/ys\\\\/r\\\\/qPyRa07XRti.js\",\"crossOrigin\":1},\"GavI7\":{\"type\":\"js\",\"src\":\"https:\\\\/\\\\/fbstatic-a.akamaihd.net\\\\/rsrc.php\\\\/v2iI1x4\\\\/yN\\\\/l\\\\/en_GB\\\\/-FGdWtght3h.js\",\"crossOrigin\":1},\"JxwE0\":{\"type\":\"js\",\"src\":\"https:\\\\/\\\\/fbstatic-a.akamaihd.net\\\\/rsrc.php\\\\/v2\\\\/y6\\\\/r\\\\/ebziPqRCXXB.js\",\"crossOrigin\":1},\"rSdpp\":{\"type\":\"js\",\"src\":\"https:\\\\/\\\\/fbstatic-a.akamaihd.net\\\\/rsrc.php\\\\/v2\\\\/yn\\\\/r\\\\/lKzVwQqdNpK.js\",\"crossOrigin\":1},\"dC1\\\\/A\":{\"type\":\"js\",\"src\":\"https:\\\\/\\\\/fbstatic-a.akamaihd.net\\\\/rsrc.php\\\\/v2\\\\/yP\\\\/r\\\\/svNS6NyYKox.js\",\"crossOrigin\":1},\"CWLma\":{\"type\":\"js\",\"src\":\"https:\\\\/\\\\/fbstatic-a.akamaihd.net\\\\/rsrc.php\\\\/v2\\\\/yg\\\\/r\\\\/BDGq0Bh776n.js\",\"crossOrigin\":1},\"zyFOp\":{\"type\":\"js\",\"src\":\"https:\\\\/\\\\/fbstatic-a.akamaihd.net\\\\/rsrc.php\\\\/v2\\\\/yt\\\\/r\\\\/LezVUUiBH8h.js\",\"crossOrigin\":1},\"WRUgD\":{\"type\":\"js\",\"src\":\"https:\\\\/\\\\/fbstatic-a.akamaihd.net\\\\/rsrc.php\\\\/v2im9F4\\\\/ye\\\\/l\\\\/en_GB\\\\/V4gZb96E45a.js\",\"crossOrigin\":1},\"ZnBMV\":{\"type\":\"js\",\"src\":\"https:\\\\/\\\\/fbstatic-a.akamaihd.net\\\\/rsrc.php\\\\/v2iK554\\\\/yO\\\\/l\\\\/en_GB\\\\/GbCU5AcpTBP.js\",\"crossOrigin\":1},\"7\\\\/Dlj\":{\"type\":\"css\",\"src\":\"https:\\\\/\\\\/fbstatic-a.akamaihd.net\\\\/rsrc.php\\\\/v2\\\\/yw\\\\/r\\\\/7EprzY-CgQn.css\",\"permanent\":1,\"crossOrigin\":1},\"eC8Db\":{\"type\":\"js\",\"src\":\"https:\\\\/\\\\/fbstatic-a.akamaihd.net\\\\/rsrc.php\\\\/v2\\\\/yw\\\\/r\\\\/xrl43KfUgZZ.js\",\"crossOrigin\":1},\"GCwbS\":{\"type\":\"css\",\"src\":\"https:\\\\/\\\\/fbstatic-a.akamaihd.net\\\\/rsrc.php\\\\/v2\\\\/yb\\\\/r\\\\/6jwzxeehyT4.css\",\"permanent\":1,\"crossOrigin\":1},\"pUSR2\":{\"type\":\"js\",\"src\":\"https:\\\\/\\\\/fbstatic-a.akamaihd.net\\\\/rsrc.php\\\\/v2iTtr4\\\\/ye\\\\/l\\\\/en_GB\\\\/5-JYDUopK2b.js\",\"crossOrigin\":1},\"AWb\\\\/8\":{\"type\":\"js\",\"src\":\"https:\\\\/\\\\/fbstatic-a.akamaihd.net\\\\/rsrc.php\\\\/v2\\\\/y8\\\\/r\\\\/GeLQkP44C-J.js\",\"crossOrigin\":1}});if (true) {Bootloader.enableBootload({\"AsyncSignal\":{\"resources\":[\"kwYHi\",\"bDzPH\"],\"module\":1},\"XLinkshimLogController\":{\"resources\":[\"kwYHi\",\"oeUXN\"],\"module\":1},\"ExceptionDialog\":{\"resources\":[\"kwYHi\",\"Zb8GQ\",\"bDzPH\",\"yrnTe\",\"wnODy\",\"B11nu\",\"FBUmH\",\"hpDX0\",\"Pc5vd\",\"7zFHv\"],\"module\":1},\"React\":{\"resources\":[\"B11nu\",\"kwYHi\",\"bDzPH\",\"wnODy\"],\"module\":1},\"AsyncDOM\":{\"resources\":[\"kwYHi\",\"bDzPH\",\"d25Q1\"],\"module\":1},\"ConfirmationDialog\":{\"resources\":[\"kwYHi\",\"bDzPH\",\"oE4Do\"],\"module\":1},\"Dialog\":{\"resources\":[\"kwYHi\",\"bDzPH\",\"Zb8GQ\",\"yrnTe\",\"FBUmH\",\"gHZav\"],\"module\":1},\"QuickSandSolver\":{\"resources\":[\"kwYHi\",\"bDzPH\",\"ET71A\",\"ccpBO\",\"2W9MF\"],\"module\":1},\"ErrorSignal\":{\"resources\":[\"kwYHi\",\"bDzPH\",\"elcL7\"],\"module\":1},\"ReactDOM\":{\"resources\":[\"B11nu\",\"kwYHi\",\"bDzPH\"],\"module\":1},\"Animation\":{\"resources\":[\"kwYHi\",\"bDzPH\",\"Zb8GQ\"],\"module\":1},\"DialogX\":{\"resources\":[\"kwYHi\",\"Zb8GQ\",\"bDzPH\",\"yrnTe\",\"wnODy\"],\"module\":1},\"XUIDialogBody.react\":{\"resources\":[\"B11nu\",\"kwYHi\",\"bDzPH\",\"wnODy\",\"FBUmH\",\"yrnTe\",\"hpDX0\"],\"module\":1},\"XUIDialogButton.react\":{\"resources\":[\"B11nu\",\"kwYHi\",\"bDzPH\",\"wnODy\",\"FBUmH\",\"Zb8GQ\"],\"module\":1},\"XUIDialogFooter.react\":{\"resources\":[\"B11nu\",\"kwYHi\",\"bDzPH\",\"wnODy\",\"FBUmH\",\"yrnTe\",\"Zb8GQ\",\"hpDX0\"],\"module\":1},\"XUIDialogTitle.react\":{\"resources\":[\"B11nu\",\"kwYHi\",\"bDzPH\",\"wnODy\",\"FBUmH\",\"yrnTe\",\"Zb8GQ\"],\"module\":1},\"XUIGrayText.react\":{\"resources\":[\"B11nu\",\"kwYHi\",\"bDzPH\",\"wnODy\",\"FBUmH\"],\"module\":1},\"PageTransitions\":{\"resources\":[\"kwYHi\",\"bDzPH\",\"wnODy\",\"Zb8GQ\",\"nyvCJ\",\"yrnTe\",\"B11nu\"],\"module\":1},\"AsyncDialog\":{\"resources\":[\"kwYHi\",\"bDzPH\",\"Zb8GQ\",\"yrnTe\",\"wnODy\",\"B11nu\",\"FBUmH\"],\"module\":1},\"AsyncRequest\":{\"resources\":[\"kwYHi\",\"bDzPH\"],\"module\":1},\"FormSubmit\":{\"resources\":[\"kwYHi\",\"bDzPH\",\"ZG21n\"],\"module\":1},\"Hovercard\":{\"resources\":[\"kwYHi\",\"bDzPH\",\"MQOl4\",\"yrnTe\",\"Zb8GQ\",\"gmtRL\",\"Uu+Ir\",\"pxUXG\"],\"module\":1},\"EncryptedImg\":{\"resources\":[\"kwYHi\",\"wnODy\",\"Uu+Ir\"],\"module\":1},\"AsyncResponse\":{\"resources\":[\"kwYHi\"],\"module\":1},\"Live\":{\"resources\":[\"kwYHi\",\"bDzPH\",\"d25Q1\",\"wnODy\"],\"module\":1},\"PhotoInlineEditor\":{\"resources\":[\"kwYHi\",\"bDzPH\",\"cxJYu\",\"ZG21n\",\"yrnTe\",\"MQOl4\",\"wnODy\",\"5o5Mz\",\"1oSdv\",\"7unvu\"],\"module\":1},\"PhotoTagApproval\":{\"resources\":[\"kwYHi\",\"bDzPH\",\"cxJYu\",\"gqCHl\"],\"module\":1},\"CompactTypeaheadRenderer\":{\"resources\":[\"kwYHi\",\"bDzPH\",\"yrnTe\",\"wnODy\",\"MQOl4\",\"5o5Mz\",\"GDDQh\",\"a9HaU\",\"lrduD\",\"5D6Pr\",\"cNZDj\",\"U+RLg\"],\"module\":1},\"ContextualTypeaheadView\":{\"resources\":[\"kwYHi\",\"bDzPH\",\"yrnTe\",\"wnODy\",\"5o5Mz\",\"XjZM4\",\"Zb8GQ\"],\"module\":1},\"InputSelection\":{\"resources\":[\"kwYHi\",\"bDzPH\",\"MQOl4\"],\"module\":1},\"HashtagParser\":{\"resources\":[\"jxx9h\",\"hpDX0\",\"h5gHf\"],\"module\":1},\"MentionsInput\":{\"resources\":[\"kwYHi\",\"bDzPH\",\"ET71A\",\"MQOl4\",\"3vMSC\",\"wnODy\",\"dgZ1i\"],\"module\":1},\"TextAreaControl\":{\"resources\":[\"kwYHi\",\"ZG21n\",\"bDzPH\"],\"module\":1},\"Typeahead\":{\"resources\":[\"kwYHi\",\"bDzPH\",\"5o5Mz\",\"XjZM4\"],\"module\":1},\"TypeaheadAreaCore\":{\"resources\":[\"kwYHi\",\"bDzPH\",\"MQOl4\",\"ZG21n\",\"yrnTe\",\"XjZM4\",\"3vMSC\"],\"module\":1},\"TypeaheadBestName\":{\"resources\":[\"wnODy\",\"3vMSC\"],\"module\":1},\"TypeaheadHoistFriends\":{\"resources\":[\"3vMSC\"],\"module\":1},\"TypeaheadMetrics\":{\"resources\":[\"kwYHi\",\"bDzPH\",\"b0Fa8\",\"3vMSC\"],\"module\":1},\"TypeaheadMetricsX\":{\"resources\":[\"kwYHi\",\"bDzPH\",\"b0Fa8\",\"EY\\\\/gY\",\"Rqeg+\"],\"module\":1},\"TypingDetector\":{\"resources\":[\"kwYHi\",\"vjymE\",\"ED3ln\"],\"module\":1},\"UFIComments\":{\"resources\":[\"wnODy\",\"kwYHi\",\"bDzPH\",\"9bRNK\",\"4JYwZ\"],\"module\":1},\"UFIAddCommentLiveTypingPublisher\":{\"resources\":[\"wnODy\",\"kwYHi\",\"4JYwZ\",\"typPq\",\"bDzPH\"],\"module\":1},\"UFIUploader\":{\"resources\":[\"kwYHi\",\"bDzPH\",\"wnODy\",\"uayAm\",\"yrnTe\",\"65zo9\",\"gHZav\",\"qio9T\",\"LJdos\",\"FnhD7\",\"gUdxc\",\"kcaCA\",\"Zb8GQ\",\"FBUmH\",\"MQOl4\",\"0adyZ\",\"wE\\\\/xn\"],\"module\":1},\"ScrollableArea\":{\"resources\":[\"kwYHi\",\"bDzPH\",\"wnODy\",\"yrnTe\"],\"module\":1},\"XUIErrorDialogImpl\":{\"resources\":[\"kwYHi\",\"bDzPH\",\"MQOl4\",\"yrnTe\",\"Zb8GQ\",\"C7A08\"],\"module\":1},\"ChatContentSearchFlyout.react\":{\"resources\":[\"kwYHi\",\"bDzPH\",\"YWsZK\",\"wnODy\",\"B11nu\",\"kF1+E\",\"OzwIY\",\"ZMwt7\",\"yrnTe\",\"9bRNK\",\"ED3ln\",\"MQOl4\",\"FBUmH\",\"3FvOG\",\"Zb8GQ\",\"JsZNv\"],\"module\":1},\"ContextualLayerAutoFlip\":{\"resources\":[\"kwYHi\",\"Zb8GQ\"],\"module\":1},\"XUIContextualDialog.react\":{\"resources\":[\"yrnTe\",\"kwYHi\",\"MQOl4\",\"B11nu\",\"bDzPH\",\"wnODy\",\"Zb8GQ\"],\"module\":1},\"RelayRootContainer\":{\"resources\":[\"B11nu\",\"kwYHi\",\"bDzPH\",\"wnODy\",\"cfn7D\",\"0adyZ\",\"MQOl4\"],\"module\":1},\"StickersStore.react\":{\"resources\":[\"kwYHi\",\"wnODy\",\"B11nu\",\"bDzPH\",\"cfn7D\",\"0adyZ\",\"MQOl4\",\"yrnTe\",\"9bRNK\",\"FBUmH\",\"Zb8GQ\",\"FjXlo\",\"c6yOo\",\"ED3ln\",\"sJ0C+\",\"qh2Qr\",\"k0pIu\",\"gcA6n\",\"PdfTS\"],\"module\":1},\"StickersStorePackDetailRoute\":{\"resources\":[\"cfn7D\",\"B11nu\",\"kwYHi\",\"bDzPH\",\"c6yOo\"],\"module\":1},\"StickersStorePackListRoute\":{\"resources\":[\"cfn7D\",\"B11nu\",\"kwYHi\",\"bDzPH\",\"c6yOo\"],\"module\":1},\"StickersFlyout.react\":{\"resources\":[\"kwYHi\",\"B11nu\",\"bDzPH\",\"wnODy\",\"hpDX0\",\"sJ0C+\",\"9bRNK\",\"U+RLg\",\"cfn7D\",\"0adyZ\",\"MQOl4\",\"ZMwt7\",\"ED3ln\",\"Zb8GQ\",\"yrnTe\",\"1oSdv\",\"vjymE\",\"JsZNv\",\"FBUmH\",\"FjXlo\",\"rKdrQ\"],\"module\":1},\"EmoticonUtils\":{\"resources\":[\"yrnTe\",\"wnODy\",\"G2NVg\"],\"module\":1},\"EmoticonsList\":{\"resources\":[\"yrnTe\",\"wnODy\"],\"module\":1},\"SelectionPosition\":{\"resources\":[\"kwYHi\",\"bDzPH\",\"MQOl4\",\"G2NVg\"],\"module\":1},\"OptimisticVideoComment.react\":{\"resources\":[\"kwYHi\",\"wnODy\",\"Uu+Ir\",\"B11nu\",\"bDzPH\",\"FBUmH\",\"Zb8GQ\",\"yrnTe\",\"q9lxt\",\"MXCsw\",\"65zo9\",\"MQOl4\",\"axQrO\",\"IrfhN\",\"mqRfW\",\"cNkZZ\"],\"module\":1},\"Sticker.react\":{\"resources\":[\"kwYHi\",\"wnODy\",\"B11nu\",\"bDzPH\",\"rKdrQ\",\"sJ0C+\",\"ZMwt7\"],\"module\":1},\"UFIAttachedMediaPreview.react\":{\"resources\":[\"B11nu\",\"kwYHi\",\"bDzPH\",\"wnODy\",\"yrnTe\",\"hpDX0\",\"FBUmH\",\"cNkZZ\",\"ZAT3T\"],\"module\":1},\"UFICommentMarkdownPreview.react\":{\"resources\":[\"B11nu\",\"kwYHi\",\"bDzPH\",\"wnODy\",\"Zb8GQ\",\"yrnTe\",\"hpDX0\",\"FBUmH\",\"OrF6T\",\"PfISf\",\"EHu2Q\",\"0Qz\\\\/x\",\"Hnz7V\"],\"module\":1},\"XUIAmbientNUX.react\":{\"resources\":[\"B11nu\",\"kwYHi\",\"bDzPH\",\"wnODy\",\"MQOl4\",\"yrnTe\",\"Zb8GQ\",\"FBUmH\"],\"module\":1},\"UFIReactionsMenuImpl.react\":{\"resources\":[\"kwYHi\",\"wnODy\",\"B11nu\",\"bDzPH\",\"FBUmH\",\"4JYwZ\",\"PTQ6B\",\"Zb8GQ\",\"dUt8u\",\"oOyW0\",\"YCit7\",\"hz49s\"],\"module\":1},\"UFIReactionsMenuWithAnimatedVectorIcons.react\":{\"resources\":[\"B11nu\",\"kwYHi\",\"bDzPH\",\"wnODy\",\"qio9T\",\"MQOl4\",\"FBUmH\",\"4JYwZ\",\"PTQ6B\",\"Zb8GQ\",\"dUt8u\",\"oOyW0\",\"YCit7\",\"hz49s\",\"LY13N\"],\"module\":1},\"UFIReactionsMenuWithStaticVectorIcons.react\":{\"resources\":[\"B11nu\",\"kwYHi\",\"bDzPH\",\"wnODy\",\"qio9T\",\"MQOl4\",\"FBUmH\",\"4JYwZ\",\"PTQ6B\",\"Zb8GQ\",\"dUt8u\",\"oOyW0\",\"YCit7\",\"hz49s\",\"YlT9g\"],\"module\":1},\"UFIReactionsNUX.react\":{\"resources\":[\"kwYHi\",\"bDzPH\",\"Zb8GQ\",\"B11nu\",\"wnODy\",\"9bRNK\",\"MQOl4\",\"yrnTe\",\"FBUmH\",\"+g5ut\"],\"module\":1},\"DOMScroll\":{\"resources\":[\"kwYHi\",\"bDzPH\",\"wnODy\"],\"module\":1},\"LegacyContextualDialog\":{\"resources\":[\"kwYHi\",\"bDzPH\",\"Zb8GQ\",\"KdFyq\",\"wnODy\",\"MQOl4\",\"yrnTe\",\"+yfb7\",\"8aeA9\"],\"module\":1},\"UFICommentMarkdownFormattedLink.react\":{\"resources\":[\"B11nu\",\"kwYHi\",\"bDzPH\",\"wnODy\",\"4JYwZ\",\"yrnTe\",\"GDDQh\",\"a9HaU\",\"lrduD\",\"5D6Pr\",\"cNZDj\",\"Zb8GQ\",\"hpDX0\",\"FBUmH\",\"Pc5vd\",\"OrF6T\",\"9EMwh\"],\"module\":1},\"UFICreatorInfo.react\":{\"resources\":[\"B11nu\",\"kwYHi\",\"bDzPH\",\"wnODy\",\"mqRfW\",\"uvGxQ\",\"FBUmH\",\"G2NVg\"],\"module\":1},\"UFIReactionsTooltipImpl.react\":{\"resources\":[\"wnODy\",\"kwYHi\",\"bDzPH\",\"B11nu\",\"Zb8GQ\",\"yrnTe\",\"Uu+Ir\",\"4JYwZ\",\"9LIbo\",\"tRXKX\"],\"module\":1},\"MultiPlacePageInfoCard.react\":{\"resources\":[\"kwYHi\",\"bDzPH\",\"B11nu\",\"wnODy\",\"JsZNv\",\"Uu+Ir\",\"IhOkH\",\"yrnTe\",\"MQOl4\",\"Zb8GQ\",\"au1KI\",\"FBUmH\",\"GDDQh\",\"a9HaU\",\"lrduD\",\"5D6Pr\",\"cNZDj\",\"dU2br\",\"b0Fa8\",\"\\\\/0VkN\",\"9bRNK\",\"krylL\"],\"module\":1},\"PlaceListLiveCommentAttachment.react\":{\"resources\":[\"IhOkH\",\"zparn\",\"kwYHi\",\"bDzPH\",\"B11nu\",\"wnODy\",\"JsZNv\",\"Uu+Ir\",\"yrnTe\",\"MQOl4\",\"Zb8GQ\",\"au1KI\",\"FBUmH\",\"GDDQh\",\"a9HaU\",\"lrduD\",\"5D6Pr\",\"cNZDj\",\"dU2br\",\"b0Fa8\",\"\\\\/0VkN\",\"9bRNK\",\"krylL\"],\"module\":1},\"UFILiveCommentLinkPreview.react\":{\"resources\":[\"B11nu\",\"kwYHi\",\"bDzPH\",\"wnODy\",\"FBUmH\",\"k0pIu\",\"yrnTe\",\"NWLyY\",\"sLq3G\"],\"module\":1},\"ContextualDialogArrow\":{\"resources\":[\"kwYHi\",\"bDzPH\",\"yrnTe\",\"Zb8GQ\"],\"module\":1},\"PopoverMenu.react\":{\"resources\":[\"B11nu\",\"kwYHi\",\"bDzPH\",\"wnODy\",\"FBUmH\",\"Zb8GQ\",\"yrnTe\"],\"module\":1},\"ReactXUIMenu\":{\"resources\":[\"kwYHi\",\"bDzPH\",\"wnODy\",\"yrnTe\",\"Zb8GQ\",\"B11nu\"],\"module\":1},\"LtgTranslationPreferences.react\":{\"resources\":[\"kwYHi\",\"bDzPH\",\"9bRNK\",\"wnODy\",\"B11nu\",\"n8oY3\",\"FBUmH\",\"yrnTe\",\"MQOl4\",\"BkjC5\",\"ZG21n\",\"Dueeg\",\"GDDQh\",\"a9HaU\",\"lrduD\",\"5D6Pr\",\"cNZDj\",\"hpDX0\",\"zF\\\\/CS\",\"NWLyY\",\"Zb8GQ\",\"RmAnf\",\"4JYwZ\",\"Uu+Ir\",\"9mgBu\"],\"module\":1},\"UFICommentRemovalControls.react\":{\"resources\":[\"B11nu\",\"kwYHi\",\"bDzPH\",\"wnODy\",\"NWLyY\",\"GavI7\"],\"module\":1},\"UFIScrollHighlight\":{\"resources\":[\"kwYHi\",\"bDzPH\",\"wnODy\",\"Zb8GQ\",\"9mgBu\",\"JxwE0\",\"rSdpp\"],\"module\":1},\"PhotoTagger\":{\"resources\":[\"kwYHi\",\"bDzPH\",\"gqCHl\",\"MQOl4\",\"yrnTe\",\"Zb8GQ\",\"gmtRL\",\"Uu+Ir\",\"pxUXG\",\"B11nu\",\"wnODy\",\"RmAnf\",\"cxJYu\",\"9bRNK\",\"4JYwZ\",\"NWLyY\",\"FBUmH\",\"GDDQh\",\"a9HaU\",\"lrduD\",\"5D6Pr\",\"cNZDj\"],\"module\":1},\"PhotoTags\":{\"resources\":[\"kwYHi\",\"bDzPH\",\"cxJYu\",\"gqCHl\"],\"module\":1},\"PhotosButtonTooltips\":{\"resources\":[\"kwYHi\",\"bDzPH\",\"Zb8GQ\",\"yrnTe\",\"Uu+Ir\",\"dC1\\\\/A\"],\"module\":1},\"SpotlightShareViewer\":{\"resources\":[\"kwYHi\",\"bDzPH\",\"wnODy\",\"CWLma\",\"Zb8GQ\",\"zyFOp\"],\"module\":1},\"TagTokenizer\":{\"resources\":[\"kwYHi\",\"bDzPH\",\"wnODy\",\"yrnTe\",\"5o5Mz\",\"1oSdv\",\"WRUgD\",\"MQOl4\",\"ZG21n\"],\"module\":1},\"VideoRotate\":{\"resources\":[\"kwYHi\",\"bDzPH\",\"Zb8GQ\",\"yrnTe\",\"FBUmH\",\"gHZav\",\"ZnBMV\"],\"module\":1},\"css:fb-photos-snowlift-fullscreen-css\":{\"resources\":[\"7\\\\/Dlj\"]},\"PhotoSnowlift\":{\"resources\":[\"kwYHi\",\"bDzPH\",\"Zb8GQ\",\"yrnTe\",\"FBUmH\",\"gHZav\",\"wnODy\",\"Uu+Ir\",\"eC8Db\",\"jxx9h\",\"9bRNK\",\"cxJYu\",\"B11nu\",\"CWLma\",\"nyvCJ\",\"GCwbS\"],\"module\":1},\"Toggler\":{\"resources\":[\"kwYHi\",\"bDzPH\",\"Zb8GQ\",\"yrnTe\"],\"module\":1},\"Tooltip\":{\"resources\":[\"kwYHi\",\"bDzPH\",\"Zb8GQ\",\"yrnTe\",\"Uu+Ir\"],\"module\":1},\"DOM\":{\"resources\":[\"kwYHi\",\"bDzPH\"],\"module\":1},\"Form\":{\"resources\":[\"kwYHi\",\"bDzPH\"],\"module\":1},\"Input\":{\"resources\":[\"kwYHi\"],\"module\":1},\"trackReferrer\":{\"resources\":[],\"module\":1}});}});\\nrequireLazy([\"ix\"], function(ix) {ix.add({\"\\\\/images\\\\/loaders\\\\/indicator_blue_small.gif\":{\"sprited\":false,\"uri\":\"https:\\\\/\\\\/fbstatic-a.akamaihd.net\\\\/rsrc.php\\\\/v2\\\\/yb\\\\/r\\\\/GsNJNwuI-UM.gif\",\"width\":16,\"height\":11},\"\\\\/images\\\\/mercury\\\\/clients\\\\/messenger\\\\/core\\\\/LoadingSpinner.png\":{\"sprited\":true,\"spriteMapCssClass\":\"sp_zF4h68WKjlh\",\"spriteCssClass\":\"sx_ddccd2\"},\"\\\\/images\\\\/mercury\\\\/clients\\\\/messenger\\\\/core\\\\/LoadingSpinnerExtraLarge.png\":{\"sprited\":true,\"spriteMapCssClass\":\"sp_zF4h68WKjlh\",\"spriteCssClass\":\"sx_e640d0\"},\"\\\\/images\\\\/mercury\\\\/clients\\\\/messenger\\\\/core\\\\/LoadingSpinnerGrey.png\":{\"sprited\":true,\"spriteMapCssClass\":\"sp_zF4h68WKjlh\",\"spriteCssClass\":\"sx_731d9f\"},\"\\\\/images\\\\/chat\\\\/composer\\\\/composerSearchTrending.png\":{\"sprited\":false,\"uri\":\"https:\\\\/\\\\/fbstatic-a.akamaihd.net\\\\/rsrc.php\\\\/v2\\\\/yL\\\\/r\\\\/MVLY03UaITD.png\",\"width\":16,\"height\":16},\"\\\\/images\\\\/messaging\\\\/stickers\\\\/store\\\\/basket.png\":{\"sprited\":true,\"spriteMapCssClass\":\"sp_avtVGZ81hWA\",\"spriteCssClass\":\"sx_ff93dd\"},\"\\\\/images\\\\/messaging\\\\/stickers\\\\/store\\\\/characters.png\":{\"sprited\":true,\"spriteMapCssClass\":\"sp_avtVGZ81hWA\",\"spriteCssClass\":\"sx_5c8a4d\"},\"\\\\/images\\\\/messaging\\\\/stickers\\\\/store\\\\/backarrow.png\":{\"sprited\":true,\"spriteMapCssClass\":\"sp_avtVGZ81hWA\",\"spriteCssClass\":\"sx_0933da\"},\"\\\\/images\\\\/messaging\\\\/stickers\\\\/icons\\\\/emoji.png\":{\"sprited\":true,\"spriteMapCssClass\":\"sp_JLG2GzFjOvY\",\"spriteCssClass\":\"sx_97bee0\"},\"\\\\/images\\\\/messaging\\\\/stickers\\\\/icons\\\\/recent.png\":{\"sprited\":true,\"spriteMapCssClass\":\"sp_JLG2GzFjOvY\",\"spriteCssClass\":\"sx_fde6e5\"},\"\\\\/images\\\\/messaging\\\\/stickers\\\\/icons\\\\/search.png\":{\"sprited\":true,\"spriteMapCssClass\":\"sp_JLG2GzFjOvY\",\"spriteCssClass\":\"sx_dc5b45\"},\"\\\\/images\\\\/messaging\\\\/stickers\\\\/selector\\\\/left.png\":{\"sprited\":true,\"spriteMapCssClass\":\"sp_JLG2GzFjOvY\",\"spriteCssClass\":\"sx_99b0fc\"},\"\\\\/images\\\\/messaging\\\\/stickers\\\\/selector\\\\/right.png\":{\"sprited\":true,\"spriteMapCssClass\":\"sp_JLG2GzFjOvY\",\"spriteCssClass\":\"sx_0bf6c4\"},\"\\\\/images\\\\/messaging\\\\/stickers\\\\/selector\\\\/sticker_store.png\":{\"sprited\":true,\"spriteMapCssClass\":\"sp_JLG2GzFjOvY\",\"spriteCssClass\":\"sx_46ec79\"},\"\\\\/images\\\\/messaging\\\\/stickers\\\\/icons\\\\/sad_face.png\":{\"sprited\":true,\"spriteMapCssClass\":\"sp_JLG2GzFjOvY\",\"spriteCssClass\":\"sx_d29967\"},\"\\\\/images\\\\/loaders\\\\/indicator_black.gif\":{\"sprited\":false,\"uri\":\"https:\\\\/\\\\/fbstatic-a.akamaihd.net\\\\/rsrc.php\\\\/v2\\\\/y7\\\\/r\\\\/pgEFhPxsWZX.gif\",\"width\":32,\"height\":32},\"\\\\/images\\\\/loaders\\\\/indicator_blue_large.gif\":{\"sprited\":false,\"uri\":\"https:\\\\/\\\\/fbstatic-a.akamaihd.net\\\\/rsrc.php\\\\/v2\\\\/y9\\\\/r\\\\/jKEcVPZFk-2.gif\",\"width\":32,\"height\":32},\"\\\\/images\\\\/loaders\\\\/indicator_blue_medium.gif\":{\"sprited\":false,\"uri\":\"https:\\\\/\\\\/fbstatic-a.akamaihd.net\\\\/rsrc.php\\\\/v2\\\\/yk\\\\/r\\\\/LOOn0JtHNzb.gif\",\"width\":16,\"height\":16},\"\\\\/images\\\\/loaders\\\\/indicator_white_large.gif\":{\"sprited\":false,\"uri\":\"https:\\\\/\\\\/fbstatic-a.akamaihd.net\\\\/rsrc.php\\\\/v2\\\\/yG\\\\/r\\\\/b53Ajb4ihCP.gif\",\"width\":32,\"height\":32},\"\\\\/images\\\\/loaders\\\\/indicator_white_small.gif\":{\"sprited\":false,\"uri\":\"https:\\\\/\\\\/fbstatic-a.akamaihd.net\\\\/rsrc.php\\\\/v2\\\\/y-\\\\/r\\\\/AGUNXgX_Wx3.gif\",\"width\":16,\"height\":11},\"\\\\/images\\\\/assets_DO_NOT_HARDCODE\\\\/fb_glyphs\\\\/hide_20_fig-dark-50.png\":{\"sprited\":true,\"spriteMapCssClass\":\"sp_Y2eZDPtvAlm\",\"spriteCssClass\":\"sx_4c232f\"},\"\\\\/images\\\\/assets_DO_NOT_HARDCODE\\\\/fb_glyphs\\\\/gear_20_fig-dark-50.png\":{\"sprited\":true,\"spriteMapCssClass\":\"sp_Y2eZDPtvAlm\",\"spriteCssClass\":\"sx_721a23\"},\"\\\\/images\\\\/assets_DO_NOT_HARDCODE\\\\/fb_glyphs\\\\/cross_20_fig-dark-50.png\":{\"sprited\":true,\"spriteMapCssClass\":\"sp_Y2eZDPtvAlm\",\"spriteCssClass\":\"sx_acbbd3\"},\"\\\\/images\\\\/assets_DO_NOT_HARDCODE\\\\/fb_glyphs\\\\/star_12_fig-light-20.png\":{\"sprited\":true,\"spriteMapCssClass\":\"sp_E7Ma7Mgwdra\",\"spriteCssClass\":\"sx_7da327\"},\"\\\\/images\\\\/assets_DO_NOT_HARDCODE\\\\/fb_glyphs\\\\/star_16_fig-light-20.png\":{\"sprited\":true,\"spriteMapCssClass\":\"sp_E7Ma7Mgwdra\",\"spriteCssClass\":\"sx_9da3e1\"},\"\\\\/images\\\\/assets_DO_NOT_HARDCODE\\\\/fb_glyphs\\\\/star_20_fig-light-20.png\":{\"sprited\":true,\"spriteMapCssClass\":\"sp_E7Ma7Mgwdra\",\"spriteCssClass\":\"sx_2d7f11\"},\"\\\\/images\\\\/assets_DO_NOT_HARDCODE\\\\/fb_glyphs\\\\/star_24_fig-light-20.png\":{\"sprited\":true,\"spriteMapCssClass\":\"sp_E7Ma7Mgwdra\",\"spriteCssClass\":\"sx_99b871\"},\"\\\\/images\\\\/assets_DO_NOT_HARDCODE\\\\/fb_glyphs\\\\/star_12_accent-blue.png\":{\"sprited\":true,\"spriteMapCssClass\":\"sp_E7Ma7Mgwdra\",\"spriteCssClass\":\"sx_c4c9c9\"},\"\\\\/images\\\\/assets_DO_NOT_HARDCODE\\\\/fb_glyphs\\\\/star_16_accent-blue.png\":{\"sprited\":true,\"spriteMapCssClass\":\"sp_E7Ma7Mgwdra\",\"spriteCssClass\":\"sx_4964ce\"},\"\\\\/images\\\\/assets_DO_NOT_HARDCODE\\\\/fb_glyphs\\\\/star_20_accent-blue.png\":{\"sprited\":true,\"spriteMapCssClass\":\"sp_E7Ma7Mgwdra\",\"spriteCssClass\":\"sx_005f00\"},\"\\\\/images\\\\/assets_DO_NOT_HARDCODE\\\\/fb_glyphs\\\\/star_24_accent-blue.png\":{\"sprited\":true,\"spriteMapCssClass\":\"sp_E7Ma7Mgwdra\",\"spriteCssClass\":\"sx_ca34d3\"},\"\\\\/images\\\\/assets_DO_NOT_HARDCODE\\\\/fb_glyphs\\\\/rotate_20_fig-dark-50.png\":{\"sprited\":true,\"spriteMapCssClass\":\"sp_Y2eZDPtvAlm\",\"spriteCssClass\":\"sx_048107\"},\"\\\\/images\\\\/browse\\\\/smurfbar\\\\/gear-icon.png\":{\"sprited\":true,\"spriteMapCssClass\":\"sp_Y2eZDPtvAlm\",\"spriteCssClass\":\"sx_2cb7d1\"},\"\\\\/images\\\\/translations\\\\/gear_icon_gray.png\":{\"sprited\":true,\"spriteMapCssClass\":\"sp_Y2eZDPtvAlm\",\"spriteCssClass\":\"sx_d1acd3\"},\"\\\\/images\\\\/assets_DO_NOT_HARDCODE\\\\/fb_glyphs\\\\/chevron-down_16_fig-light-20.png\":{\"sprited\":true,\"spriteMapCssClass\":\"sp_aEWSb7kqeOP\",\"spriteCssClass\":\"sx_4c0467\"},\"\\\\/images\\\\/assets_DO_NOT_HARDCODE\\\\/fb_glyphs\\\\/pushpin_12_fig-blue.png\":{\"sprited\":true,\"spriteMapCssClass\":\"sp_aEWSb7kqeOP\",\"spriteCssClass\":\"sx_05e33d\"},\"\\\\/images\\\\/assets_DO_NOT_HARDCODE\\\\/fb_glyphs\\\\/pushpin_16_bluegray-10.png\":{\"sprited\":true,\"spriteMapCssClass\":\"sp_aEWSb7kqeOP\",\"spriteCssClass\":\"sx_2e6863\"},\"arrow-right:white:small\":{\"sprited\":true,\"spriteMapCssClass\":\"sp_dzQ0-J7EIY9\",\"spriteCssClass\":\"sx_4e8d4f\"}});});</script>\\n<script>requireLazy([\"InitialJSLoader\"], function(InitialJSLoader) {InitialJSLoader.loadOnDOMContentReady([\"kwYHi\",\"pUSR2\",\"ET71A\",\"ccpBO\",\"2W9MF\",\"Zb8GQ\",\"AWb\\\\/8\",\"MQOl4\"]);});</script>\\n<script>require(\"TimeSlice\").guard(function() {require(\"ServerJSDefine\").handleDefines([]);require(\"InitialJSLoader\").handleServerJS({\"markup\":[[\"__markup_a588f507_0_0\",{\"__html\":\"\\\\u003Cdiv class=\\\\\"_5633 _5634\\\\\">You must fill in all of the fields.\\\\u003C\\\\/div>\"},1],[\"__markup_9f5fac15_0_0\",{\"__html\":\"\\\\u003Cdiv class=\\\\\"_5633 _5634\\\\\">What&#039;s your name?\\\\u003C\\\\/div>\"},1],[\"__markup_9f5fac15_0_1\",{\"__html\":\"\\\\u003Cdiv class=\\\\\"_5633 _5634\\\\\">You&#039;ll use this when you log in and if you ever need to reset your password.\\\\u003C\\\\/div>\"},1],[\"__markup_9f5fac15_0_2\",{\"__html\":\"\\\\u003Cdiv class=\\\\\"_5633 _5634\\\\\">Enter a combination of at least six numbers, letters and punctuation marks (like ! and &amp;).\\\\u003C\\\\/div>\"},1],[\"__markup_9f5fac15_0_3\",{\"__html\":\"\\\\u003Cdiv class=\\\\\"_5633 _5634\\\\\">Please enter a valid email address or mobile number.\\\\u003C\\\\/div>\"},1],[\"__markup_a588f507_0_1\",{\"__html\":\"\\\\u003Cdiv class=\\\\\"_5633 _5634\\\\\">Please enter a valid mobile number or email address.\\\\u003C\\\\/div>\"},1],[\"__markup_9f5fac15_0_4\",{\"__html\":\"\\\\u003Cdiv class=\\\\\"_5633 _5634\\\\\">Please re-enter your mobile number or email address.\\\\u003C\\\\/div>\"},1],[\"__markup_a588f507_0_2\",{\"__html\":\"\\\\u003Cdiv class=\\\\\"_5633 _5634\\\\\">Your email addresses or mobile numbers do not match. Please try again.\\\\u003C\\\\/div>\"},1],[\"__markup_9f5fac15_0_5\",{\"__html\":\"\\\\u003Cdiv class=\\\\\"_5633 _5634\\\\\">Select your date of birth. You can change who can see this later.\\\\u003C\\\\/div>\"},1],[\"__markup_9f5fac15_0_6\",{\"__html\":\"\\\\u003Cdiv class=\\\\\"_5633 _5634\\\\\">Please choose a gender. You can change who can see this later.\\\\u003C\\\\/div>\"},1]],\"elements\":[[\"__elem_835c633a_0_0\",\"reg\",1],[\"__elem_9ae3fd6f_0_0\",\"u_0_0\",1],[\"__elem_3f8a34cc_0_0\",\"u_0_1\",2],[\"__elem_9ae3fd6f_0_1\",\"u_0_2\",1],[\"__elem_3f8a34cc_0_1\",\"u_0_3\",2],[\"__elem_9ae3fd6f_0_2\",\"u_0_4\",1],[\"__elem_3f8a34cc_0_2\",\"u_0_5\",2],[\"__elem_9f5fac15_0_0\",\"u_0_6\",1],[\"__elem_9ae3fd6f_0_3\",\"u_0_7\",1],[\"__elem_3f8a34cc_0_3\",\"u_0_8\",2],[\"__elem_9ae3fd6f_0_4\",\"u_0_9\",1],[\"__elem_3f8a34cc_0_4\",\"u_0_a\",2],[\"__elem_ffa3c607_0_0\",\"u_0_b\",1],[\"__elem_2a23d31e_0_0\",\"u_0_c\",1],[\"__elem_97e096cf_0_0\",\"u_0_f\",1],[\"__elem_2a23d31e_0_1\",\"u_0_g\",1],[\"__elem_5d172255_0_0\",\"u_0_h\",1],[\"__elem_ddac73b6_0_0\",\"u_0_i\",1],[\"__elem_072b8e64_0_0\",\"u_0_j\",1],[\"__elem_ddac73b6_0_1\",\"u_0_k\",1],[\"__elem_835c633a_0_1\",\"login_form\",1],[\"__elem_1edd4980_0_0\",\"loginbutton\",1],[\"__elem_f46f4946_0_0\",\"u_0_m\",1],[\"__elem_f46f4946_0_1\",\"u_0_n\",1],[\"__elem_85b7cbf7_0_1\",\"login_form\",1],[\"__elem_a6f65671_0_0\",\"pagelet_bluebar\",1],[\"__elem_a588f507_0_2\",\"globalContainer\",2],[\"__elem_85b7cbf7_0_0\",\"reg\",1],[\"__elem_da4ef9a3_0_0\",\"u_0_o\",1],[\"__elem_a588f507_0_1\",\"captcha_buttons\",1],[\"__elem_da4ef9a3_0_1\",\"u_0_p\",1],[\"__elem_a588f507_0_0\",\"reg_pages_msg\",1]],\"require\":[[\"WebPixelRatio\",\"startDetecting\",[],[1],[]],[\"FocusListener\"],[\"FlipDirectionOnKeypress\"],[\"QuickSandSolver\",\"solveAndUpdateForm\",[],[1,\"??>???Y\\\\n?4??y??L?\\\\u052a?=?\\\\u003CQ\\\\b4?h???\\\\\\\\\",10,42,100,\"reg\",\"AZmWIXymsIYX21hnPs5IvHbtvO8SUa0Dm4y-n_XgWEkjAXaGIBPmH7KnVO1J6Zy12aDKZp5lazBzQOH6iKDydhXIpUJhZhX8SjNRrhy9k7XHVSo7T5ydB4LDvdtF62wFZTqMryL6o2VhsxWeMXjdjopBoaOohxYYu2QxcnfQ5UooekvRWPvjWOKKmYSWjd3El1a8z0glI8f1Np4RbmLBmFkC\"],[]],[\"RegistrationController\",\"init\",[\"__elem_835c633a_0_0\",\"__elem_ddac73b6_0_0\",\"__elem_ddac73b6_0_1\",\"__elem_072b8e64_0_0\",\"__elem_5d172255_0_0\",\"__elem_a588f507_0_0\",\"__elem_a588f507_0_1\",\"__elem_da4ef9a3_0_0\",\"__elem_da4ef9a3_0_1\",\"__elem_9f5fac15_0_0\"],[{\"__m\":\"__elem_835c633a_0_0\"},false,\"form_focus\",{\"__m\":\"__elem_ddac73b6_0_0\"},{\"__m\":\"__elem_ddac73b6_0_1\"},{\"__m\":\"__elem_072b8e64_0_0\"},{\"__m\":\"__elem_5d172255_0_0\"},{\"__m\":\"__elem_a588f507_0_0\"},{\"__m\":\"__elem_a588f507_0_1\"},{\"__m\":\"__elem_da4ef9a3_0_0\"},{\"__m\":\"__elem_da4ef9a3_0_1\"},\"show\",{\"__m\":\"__elem_9f5fac15_0_0\"}],[]],[\"RegistrationInlineValidations\",\"register\",[\"__elem_9ae3fd6f_0_0\",\"__elem_3f8a34cc_0_0\"],[{\"__m\":\"__elem_9ae3fd6f_0_0\"},{\"__m\":\"__elem_3f8a34cc_0_0\"},\"left\",false],[]],[\"StickyPlaceholderInput\",\"registerInput\",[\"__elem_3f8a34cc_0_0\"],[{\"__m\":\"__elem_3f8a34cc_0_0\"}],[]],[\"RegistrationInlineValidations\",\"register\",[\"__elem_9ae3fd6f_0_1\",\"__elem_3f8a34cc_0_1\"],[{\"__m\":\"__elem_9ae3fd6f_0_1\"},{\"__m\":\"__elem_3f8a34cc_0_1\"},\"below\",false],[]],[\"StickyPlaceholderInput\",\"registerInput\",[\"__elem_3f8a34cc_0_1\"],[{\"__m\":\"__elem_3f8a34cc_0_1\"}],[]],[\"RegistrationInlineValidations\",\"register\",[\"__elem_9ae3fd6f_0_2\",\"__elem_3f8a34cc_0_2\"],[{\"__m\":\"__elem_9ae3fd6f_0_2\"},{\"__m\":\"__elem_3f8a34cc_0_2\"},\"left\",false],[]],[\"StickyPlaceholderInput\",\"registerInput\",[\"__elem_3f8a34cc_0_2\"],[{\"__m\":\"__elem_3f8a34cc_0_2\"}],[]],[\"RegistrationInlineValidations\",\"register\",[\"__elem_9ae3fd6f_0_3\",\"__elem_3f8a34cc_0_3\"],[{\"__m\":\"__elem_9ae3fd6f_0_3\"},{\"__m\":\"__elem_3f8a34cc_0_3\"},\"left\",false],[]],[\"StickyPlaceholderInput\",\"registerInput\",[\"__elem_3f8a34cc_0_3\"],[{\"__m\":\"__elem_3f8a34cc_0_3\"}],[]],[\"RegistrationInlineValidations\",\"register\",[\"__elem_9ae3fd6f_0_4\",\"__elem_3f8a34cc_0_4\"],[{\"__m\":\"__elem_9ae3fd6f_0_4\"},{\"__m\":\"__elem_3f8a34cc_0_4\"},\"left\",false],[]],[\"StickyPlaceholderInput\",\"registerInput\",[\"__elem_3f8a34cc_0_4\"],[{\"__m\":\"__elem_3f8a34cc_0_4\"}],[]],[\"RegistrationInlineValidations\",\"register\",[\"__elem_ffa3c607_0_0\",\"__elem_2a23d31e_0_0\"],[{\"__m\":\"__elem_ffa3c607_0_0\"},{\"__m\":\"__elem_2a23d31e_0_0\"},\"left\"],[]],[\"RegistrationInlineValidations\",\"register\",[\"__elem_97e096cf_0_0\",\"__elem_2a23d31e_0_1\"],[{\"__m\":\"__elem_97e096cf_0_0\"},{\"__m\":\"__elem_2a23d31e_0_1\"},\"left\"],[]],[\"ScriptPath\",\"set\",[],[\"WebIndexReduxController\",\"b2227d82\",{\"imp_id\":\"afc135ee\"}],[]],[\"UITinyViewportAction\",\"init\",[],[],[]],[\"ResetScrollOnUnload\",\"init\",[\"__elem_a588f507_0_2\"],[{\"__m\":\"__elem_a588f507_0_2\"}],[]],[\"AccessibilityWebVirtualCursorClickLogger\",\"init\",[\"__elem_a6f65671_0_0\",\"__elem_a588f507_0_2\"],[[{\"__m\":\"__elem_a6f65671_0_0\"},{\"__m\":\"__elem_a588f507_0_2\"}]],[]],[\"WebStorageMonster\",\"schedule\",[],[],[]],[\"AsyncRequestNectarLogging\"],[\"IntlUtils\"],[\"TimezoneAutoset\",\"setInputValue\",[\"__elem_f46f4946_0_0\"],[{\"__m\":\"__elem_f46f4946_0_0\"},1471956815],[]],[\"ScreenDimensionsAutoSet\",\"setInputValue\",[\"__elem_f46f4946_0_1\"],[{\"__m\":\"__elem_f46f4946_0_1\"}],[]],[\"LoginFormController\",\"init\",[\"__elem_835c633a_0_1\",\"__elem_1edd4980_0_0\"],[{\"__m\":\"__elem_835c633a_0_1\"},{\"__m\":\"__elem_1edd4980_0_0\"},null,true],[]],[\"QuickSandSolver\",\"solveAndUpdateForm\",[],[1,\"???t\\\\u001ej??????q?? ?T\\\\u0004\\\\u0011??tU?\\\\u0011??\\\\u001f??E\",10,42,100,\"login_form\",\"AZm046sUdfVvYr4Qsgu0vICdDOZQiDVn5eQ7sRPYn6ViEhxWcSWV2C-l9uhyJXySTHTAz53CR5DunZX6KTH477l09b4XPo7ZypVtrbH1_e1WABBjWx7b-dPEg-1VXB3-d72FOdCwTCN2urfIEaHL9bJruuj6ol5tbzw752G5AugYDL4ESeiCG5psFckbEGsEvv2XWNVEPNdWfjRMvyI0UK-s3KnbVUqn5nzq2YRLf6pLOg\"],[]],[\"ModuleErrorLogger\",\"init\",[],[],[]]]});}, \"ServerJS define\", {\"root\":true})();\\n\\nonloadRegister_DEPRECATED(function (){useragentcm();});\\nonloadRegister_DEPRECATED(function (){try { $(\"email\").focus(); } catch (_ignore) { }});</script>\\n<!-- BigPipe construction and first response -->\\n<script>var bigPipe = new (require(\"BigPipe\"))({\"forceFinish\":true,\"lid\":\"6322006382630615761\"});</script>\\n<script>bigPipe.beforePageletArrive(\"first_response\")</script>\\n<script>require(\"TimeSlice\").guard((function(){bigPipe.onPageletArrive({\"id\":\"first_response\",\"phase\":0,\"jsmods\":{},\"is_last\":true,\"resource_map\":{\"P\\\\/mr5\":{\"type\":\"css\",\"src\":\"https:\\\\/\\\\/fbstatic-a.akamaihd.net\\\\/rsrc.php\\\\/v2\\\\/y-\\\\/r\\\\/Gqca1raWXAL.css\",\"crossOrigin\":1}},\"allResources\":[\"kwYHi\",\"pUSR2\",\"lKz4h\",\"FBUmH\",\"bDzPH\",\"ET71A\",\"ccpBO\",\"2W9MF\",\"Zb8GQ\",\"AWb\\\\/8\",\"MQOl4\",\"yrnTe\",\"P\\\\/mr5\"],\"displayResources\":[\"lKz4h\",\"FBUmH\",\"bDzPH\",\"yrnTe\",\"P\\\\/mr5\"]});}),\"onPageletArrive first_response\",{\"root\":true,\"pagelet\":\"first_response\"})();</script><script>bigPipe.beforePageletArrive(\"last_response\")</script>\\n<script>require(\"TimeSlice\").guard((function(){bigPipe.onPageletArrive({\"id\":\"last_response\",\"phase\":1,\"jsmods\":{\"require\":[[\"Cookie\",\"setIfFirstPartyContext\",[],[\"_js_datr\",\"T0e8V5qPq5Y1tPHz0F7NPc-s\",63072000000,\"\\\\/\",false],[]],[\"Cookie\",\"setIfFirstPartyContext\",[],[\"_js_reg_fb_ref\",\"https:\\\\/\\\\/www.facebook.com\\\\/\",0,\"\\\\/\",false],[]],[\"Cookie\",\"setIfFirstPartyContext\",[],[\"_js_reg_fb_gate\",\"https:\\\\/\\\\/www.facebook.com\\\\/\",0,\"\\\\/\",false],[]],[\"NavigationMetrics\",\"setPage\",[],[{\"page\":\"WebIndexReduxController\",\"page_type\":\"normal\",\"page_uri\":\"https:\\\\/\\\\/www.facebook.com\\\\/\",\"serverLID\":\"6322006382630615761\"}],[]],[\"DimensionTracking\"],[\"HighContrastMode\",\"init\",[],[{\"isHCM\":false,\"spacerImage\":\"https:\\\\/\\\\/fbstatic-a.akamaihd.net\\\\/rsrc.php\\\\/v2\\\\/y4\\\\/r\\\\/-PAXP-deijE.gif\"}],[]],[\"ClickRefLogger\"],[\"DetectBrokenProxyCache\",\"run\",[],[0,\"c_user\"],[]],[\"TimeSlice\",\"setLogging\",[],[false,0.01],[]],[\"NavigationClickPointHandler\"],[\"UserActionHistory\"],[\"ScriptPathLogger\",\"startLogging\",[],[],[]],[\"TimeSpentBitArrayLogger\",\"init\",[],[],[]]],\"define\":[[\"RegistrationClientConfig\",[\"__markup_a588f507_0_0\",\"__markup_9f5fac15_0_0\",\"__markup_9f5fac15_0_1\",\"__markup_9f5fac15_0_2\",\"__markup_9f5fac15_0_3\",\"__markup_a588f507_0_1\",\"__markup_9f5fac15_0_4\",\"__markup_a588f507_0_2\",\"__markup_9f5fac15_0_5\",\"__markup_9f5fac15_0_6\"],{\"fields\":{\"NAME\":\"name\",\"FIRSTNAME\":\"firstname\",\"LASTNAME\":\"lastname\",\"EMAIL\":\"reg_email__\",\"EMAIL_CONFIRMATION\":\"reg_email_confirmation__\",\"GENDER\":\"sex\",\"PASSWORD\":\"reg_passwd__\",\"BIRTHDAY_DAY\":\"birthday_day\",\"BIRTHDAY_MONTH\":\"birthday_month\",\"BIRTHDAY_YEAR\":\"birthday_year\",\"BIRTHDAY_WRAPPER\":\"birthday_wrapper\",\"GENDER_WRAPPER\":\"gender_wrapper\"},\"validators\":{\"types\":{\"TEXT\":\"text\",\"SELECTORS\":\"selectors\",\"RADIO\":\"radio\"}},\"messages\":{\"MISSING_FIELDS\":{\"__m\":\"__markup_a588f507_0_0\"},\"INCORRECT_NAME\":{\"__m\":\"__markup_9f5fac15_0_0\"},\"INCORRECT_CONTACTPOINT\":{\"__m\":\"__markup_9f5fac15_0_1\"},\"PASSWORD_BLANK\":{\"__m\":\"__markup_9f5fac15_0_2\"},\"INVALID_CONTACTPOINT\":{\"__m\":\"__markup_9f5fac15_0_3\"},\"INVALID_NUMBER_OR_EMAIL\":{\"__m\":\"__markup_a588f507_0_1\"},\"INCORRECT_NUMBER_OR_EMAIL_CONF\":{\"__m\":\"__markup_9f5fac15_0_4\"},\"CONTACTPOINT_RETYPE_DIFFERENT\":{\"__m\":\"__markup_a588f507_0_2\"},\"INCOMPLETE_BIRTHDAY\":{\"__m\":\"__markup_9f5fac15_0_5\"},\"NO_GENDER\":{\"__m\":\"__markup_9f5fac15_0_6\"}},\"logging\":{\"enabled\":false,\"categories\":{\"INLINE\":\"inline\",\"SERVER\":\"server\"},\"types\":{\"IS_EMPTY\":\"is_empty\",\"CONTACTPOINT_INVALID\":\"contactpoint_invalid\",\"CONTACTPOINT_TAKEN\":\"contactpoint_taken\",\"CONTACTPOINT_MATCH\":\"contactpoint_match\",\"PASSWORD_WEAK\":\"password_weak\",\"PASSWORD_SHORT\":\"password_short\",\"TERMS_AGREEMENT\":\"terms_agreement\",\"TOO_YOUNG\":\"too_young\",\"ACCOUNT_DISABLED\":\"account_disabled\",\"BAD_CAPTCHA\":\"bad_captcha\",\"NAME_REJECTED\":\"name_rejected\",\"SI_BLOCK\":\"si_block\",\"BIRTHDAY_INVALID\":\"birthday_invalid\"}},\"www_phone\":true},87],[\"CaptchaClientConfig\",[],{\"recaptchaPublicKey\":\"6LfDxsYSAAAAAGGLBGaRurawNnbvAGQw5UwRWYXL\"},83],[\"UACMConfig\",[],{\"ffver\":63083,\"ffid1\":\"AcECLnrgCKWusjDhfJAjkyWcZBRChDiYhP0wQ8m16iWpjn2HsJGDmpZz6F3jZEPXf2M\",\"ffid2\":\"AcFC8APFLUNOaj1xvv8z6p36EWG4y3d7pwAF8pD7o8nt02x-zw4vlf-51H9TNJAoCfQ\",\"ffid3\":\"AcHlrF2Pm5TxW3BqtTn5eYKu7yvwDCMYdO9AHnQL84lnEUz-cukPreg6ufkg-QLn0AZXvi72UUbjI0oPbUeqjbJ5\",\"ffid4\":\"AcEqLxyvRQ_dPTO70uVt0w2OjW8B5mUTu4n6JgwlejB2zG_EsYFMs-dqf7lqMu92KyU\"},308],[\"TimeSpentConfig\",[],{\"0_delay\":0,\"0_timeout\":8,\"delay\":200000,\"timeout\":64},142],[\"ImmediateActiveSecondsConfig\",[],{\"sampling_rate\":0},423]]},\"is_last\":true,\"allResources\":[\"kwYHi\",\"pUSR2\",\"lKz4h\",\"FBUmH\",\"bDzPH\",\"ET71A\",\"ccpBO\",\"2W9MF\",\"Zb8GQ\",\"AWb\\\\/8\",\"MQOl4\",\"yrnTe\",\"P\\\\/mr5\"],\"displayResources\":[\"lKz4h\",\"FBUmH\",\"bDzPH\",\"yrnTe\",\"P\\\\/mr5\"],\"the_end\":true});}),\"onPageletArrive last_response\",{\"root\":true,\"pagelet\":\"last_response\"})();</script></body></html>'"
      ]
     },
     "execution_count": 76,
     "metadata": {},
     "output_type": "execute_result"
    }
   ],
   "source": [
    "data"
   ]
  },
  {
   "cell_type": "code",
   "execution_count": 83,
   "metadata": {
    "collapsed": false
   },
   "outputs": [
    {
     "data": {
      "text/plain": [
       "['<title id=\"pageTitle\">Facebook - Log In or Sign Up</title>']"
      ]
     },
     "execution_count": 83,
     "metadata": {},
     "output_type": "execute_result"
    }
   ],
   "source": [
    "re.findall(\"<title.+?</title>\",data,re.I|re.M)"
   ]
  },
  {
   "cell_type": "code",
   "execution_count": 82,
   "metadata": {
    "collapsed": false
   },
   "outputs": [
    {
     "data": {
      "text/plain": [
       "-1"
      ]
     },
     "execution_count": 82,
     "metadata": {},
     "output_type": "execute_result"
    }
   ],
   "source": [
    "data.find(\"<title>\")"
   ]
  },
  {
   "cell_type": "code",
   "execution_count": 84,
   "metadata": {
    "collapsed": true
   },
   "outputs": [],
   "source": [
    "u=urllib2.urlopen(\"https://www.rbi.org.in/scripts/BS_DisplayReferenceRate.aspx\")"
   ]
  },
  {
   "cell_type": "code",
   "execution_count": 85,
   "metadata": {
    "collapsed": true
   },
   "outputs": [],
   "source": [
    "data=u.read()"
   ]
  },
  {
   "cell_type": "code",
   "execution_count": 86,
   "metadata": {
    "collapsed": false
   },
   "outputs": [
    {
     "data": {
      "text/plain": [
       "'\\r\\n\\r\\n<!DOCTYPE html PUBLIC \"-//W3C//DTD XHTML 1.0 Transitional//EN\" \"http://www.w3.org/TR/xhtml1/DTD/xhtml1-transitional.dtd\">\\r\\n\\r\\n<html xmlns=\"http://www.w3.org/1999/xhtml\">\\r\\n<head><meta charset=\"utf-8\" /><meta http-equiv=\"X-UA-Compatible\" content=\"IE=edge,chrome=1\" /><title>\\r\\n\\tReserve Bank of India\\r\\n</title><meta name=\"description\" /><meta name=\"author\" /><meta name=\"viewport\" content=\"width=device-width\" />\\r\\n    <script type=\"text/javascript\" src=\"/js/libs/modernizr-2.5.3.min.js\"></script>\\r\\n</head>\\r\\n<body onload=\"SetTreeStyles()\">\\r\\n    <form method=\"post\" action=\"BS_DisplayReferenceRate.aspx\" id=\"frmDisplayRates\">\\r\\n<input type=\"hidden\" name=\"__VIEWSTATE\" id=\"__VIEWSTATE\" value=\"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\" />\\r\\n\\r\\n<input type=\"hidden\" name=\"__VIEWSTATEGENERATOR\" id=\"__VIEWSTATEGENERATOR\" value=\"F4FD6FC5\" />\\r\\n<input type=\"hidden\" name=\"__EVENTVALIDATION\" id=\"__EVENTVALIDATION\" value=\"/wEdAAiaf/v7I62+uUyv8fp/X1JnlK+XrsQEVyjeDxQ0A4GYXFBwzdjZXczwplb2HKGyLlqLrBfuDtX7nV3nL+5njT0xZDpy7WJnvc3tgXY08CYLJD+rfdwJAuBoVBISURIXWlx9xf1loRXvygROM/A1O+NHJounKCGGAHd04zzVhBPZz5d1W6BpCjCQ6IjGRmBGGBocz8Sm\" />\\r\\n    <input type=\"hidden\" name=\"hdnYear\" id=\"hdnYear\" />\\r\\n    <input type=\"hidden\" name=\"hdnMonth\" id=\"hdnMonth\" value=\"0\" />\\r\\n    \\r\\n<link href=\"/JQuery/css/jquery-ui-1.8.18.custom2.css\" rel=\"stylesheet\" type=\"text/css\" />\\r\\n<link href=\"/includes/print.css\" rel=\"stylesheet\" media=\"print\" type=\"text/css\" />\\r\\n\\r\\n<link href=\"/Styles/960.css\" rel=\"stylesheet\" type=\"text/css\" />\\r\\n<link href=\"/Includes1/rbi.css\" rel=\"Stylesheet\" type=\"text/css\" />\\r\\n<script type=\"text/javascript\" src=\"/js/libs/jquery-1.7.2.min.js\"></script>\\r\\n<script type=\"text/javascript\" src=\"/JQuery/ui/jquery.ui.revampRBI.js\"></script>\\r\\n<script type=\"text/javascript\" src=\"/js/ImgSaveDisable.js\"></script>\\r\\n<script type=\"text/javascript\">\\r\\n//Redirect to mobile site start\\r\\n    function detectmob() {\\r\\n        if (screen.width <= 599 || screen.Height <= 975) {\\r\\n            return true;\\r\\n        } else {\\r\\n            return false;\\r\\n        }\\r\\n    }\\r\\n\\r\\n    if (detectmob()) {\\r\\n       window.location.href = \"https://m.rbi.org.in\" + window.location.pathname;\\r\\n\\t\\t\\r\\n       \\r\\n    }\\r\\n\\t//Redirect to mobile site End\\r\\n    $(document).ready(function () {\\r\\n        Search();\\r\\n    });\\r\\n\\r\\n    function Search() {\\r\\n        highlightTextAutocomplete();\\r\\n        $(\".autoSuggest\").autocomplete({\\r\\n\\r\\n\\r\\n            source: function (request, response) {\\r\\n                var param = { keyWord: document.getElementById(\\'txtSearch\\').value };\\r\\n\\r\\n                $.ajax({\\r\\n                    url: \"../Home.aspx/GetKeywords\",\\r\\n                    data: JSON.stringify(param),\\r\\n                    dataType: \"json\",\\r\\n                    type: \"POST\",\\r\\n                    contentType: \"application/json; charset=utf-8\",\\r\\n                    dataFilter: function (data) { return data; },\\r\\n                    success: function (data) {\\r\\n\\r\\n                        if (data.d.length > 0) {\\r\\n                            response($.map(data.d, function (item) {\\r\\n                                return {\\r\\n                                    value: RemoveSpecialChars(item)\\r\\n\\r\\n                                }\\r\\n                            }))\\r\\n                        }\\r\\n                        else {\\r\\n                            response([{ label: \"No results found\", value: \"\"}]);\\r\\n                        }\\r\\n                    },\\r\\n                    error: function (XMLHttpRequest, textStatus, errorThrown) {\\r\\n                        alert(textStatus);\\r\\n                    }\\r\\n                });\\r\\n            },\\r\\n\\r\\n            //            select: function (event, ui) {\\r\\n            //                if (ui.item.value != \"\") {\\r\\n            //                    window.open(\"/scripts/SearchResults.aspx?search=\" + ui.item.value, \\'_blank\\');\\r\\n            //                }\\r\\n            //            },\\r\\n            minLength: 3\\r\\n\\r\\n        });\\r\\n    }\\r\\n\\r\\n    function highlightTextAutocomplete() {\\r\\n\\r\\n        var oldFn = $.ui.autocomplete.prototype._renderItem;\\r\\n\\r\\n        $.ui.autocomplete.prototype._renderItem = function (ul, item) {\\r\\n\\r\\n            var t = String(item.value).replace(\\r\\n                new RegExp(this.term, \"gi\"),\\r\\n                \"<span class=\\'ui-state-highlight\\'>$&</span>\");\\r\\n            if (item.value != \"\") {\\r\\n                return $(\"<li class=\\'borderAutocomplete\\'></li>\")\\r\\n                  .data(\"item.autocomplete\", item)\\r\\n                  .append(\"<a>\" + t + \"</a>\")\\r\\n                  .appendTo(ul);\\r\\n            }\\r\\n\\r\\n            else {\\r\\n                return $(\"<li></li>\")\\r\\n                  .data(\"item.autocomplete\", item)\\r\\n                  .append(\"\")\\r\\n                  .appendTo(ul);\\r\\n            }\\r\\n        };\\r\\n    }\\r\\n\\r\\n\\r\\n    function RemoveSpecialChars(inputText) {\\r\\n        var filteredString = inputText.replace(/[\\\\*\\\\^\\\\\\'\\\\!\\\\@\\\\$\\\\.\\\\#\\\\(\\\\)\\\\-\\\\?\\\\<\\\\>\\\\;\\\\\"\\\\&\\\\+\\\\{\\\\}\\\\:]/g, \\'\\');\\r\\n        //alert(filteredString);\\r\\n        return filteredString;\\r\\n    }\\r\\n    //    jQuery(document).ready(function () {\\r\\n    //        var xmlhttp;\\r\\n    //        jQuery(\"#txtSearch\").autocomplete(\\r\\n    //                    {\\r\\n    //                        minLength: 3,\\r\\n    //                        delay: 0,\\r\\n    //                        source: function (request, response) {\\r\\n    //                            if (!xmlhttp) {\\r\\n    //                                if (window.XMLHttpRequest) {// code for IE7+, Firefox, Chrome, Opera, Safari\\r\\n    //                                    xmlhttp = new XMLHttpRequest();\\r\\n    //                                }\\r\\n    //                                else {// code for IE6, IE5\\r\\n    //                                    xmlhttp = new ActiveXObject(\"Microsoft.XMLHTTP\");\\r\\n    //                                }\\r\\n    //                            }\\r\\n    //                            else if (xmlhttp.readyState != 0) {\\r\\n    //                                xmlhttp.abort();\\r\\n    //                            }\\r\\n    //                            xmlhttp.onreadystatechange = function () {\\r\\n    //                                if (xmlhttp.readyState == 4 && xmlhttp.status == 200) {\\r\\n    //                                    fetchedKeywords = xmlhttp.responseText.split(\"\\'\");\\r\\n    //                                    \\r\\n    //                                    if (fetchedKeywords.length > 10) {\\r\\n    //                                        fetchedKeywords.splice(10, fetchedKeywords.length - 10);\\r\\n    //                                    }\\r\\n    //                                    if (fetchedKeywords != \"\") response(fetchedKeywords);\\r\\n    //                                    else response(null);\\r\\n    //                                }\\r\\n    //                            }\\r\\n    //                            var input = document.getElementById(\"txtSearch\").value;\\r\\n    //                            xmlhttp.open(\"POST\", \"/Webservice/KeywordSearch.ashx?q=\" + input, true);\\r\\n    //                            xmlhttp.send();\\r\\n    //                        }\\r\\n    //                    });\\r\\n    //    });\\r\\n\\r\\n    function LoadSearchData(id, key) {\\r\\n        if (id == \"txtSearch\") {\\r\\n            if (key == 13) {\\r\\n                validateSearchText();\\r\\n                return false;\\r\\n            }\\r\\n        }\\r\\n        else validateSearchText();\\r\\n        return true;\\r\\n    }\\r\\n    function validateSearchText() {\\r\\n        if (validation()) {\\r\\n            var strloc = new String(document.location.href.toString());\\r\\n            if (strloc.indexOf(\"SearchResults.aspx\") == -1) {//             \\r\\n                window.open(\"/scripts/SearchResults.aspx?search=\" + document.getElementById(\"txtSearch\").value);\\r\\n            }\\r\\n            else window.open(\"/scripts/SearchResults.aspx?search=\" + document.getElementById(\"txtSearch\").value, \\'_parent\\');\\r\\n        }\\r\\n    }\\r\\n    function validation() {\\r\\n        strSearch = trim(document.getElementById(\\'txtSearch\\').value);\\r\\n        if (strSearch == \"\") { alert(\\'Please enter the search text\\'); return false; }\\r\\n        else {\\r\\n            //var strFilterChars = new RegExp(\"[~`!@#$%^&*()_+-={}\\\\\\\\[\\\\\\\\]:/\\\\\\\\\\\\\\\\\\\\\";|\\'<>,.?]\");\\r\\n            var strFilterChars = new RegExp(\"^[0-9a-zA-Z ]*$\");\\r\\n            if (!strFilterChars.test(strSearch)) { alert(\"Please remove special characters from search text\"); return false; }\\r\\n        }\\r\\n        return true;\\r\\n    }\\r\\n    function trim(value) {\\r\\n        value = value.replace(/^\\\\s+/, \\'\\');\\r\\n        value = value.replace(/\\\\s+$/, \\'\\');\\r\\n        return value;\\r\\n    }\\r\\n</script>\\r\\n<div class=\"top_setting\">\\r\\n    <div class=\"container_12\">\\r\\n        <div class=\"grid_5 top_settings\">\\r\\n            <a href=\"#mainsection\">Skip to main content </a>\\r\\n        </div>\\r\\n        <div id=\"UsrFontCntr_tblThemes\" style=\"float: right\" class=\"grid_4 prefix_3 top_settings\">\\r\\n            <span class=\"fonts\">\\r\\n                <a id=\"UsrFontCntr_LinkBtnFontIncrease\" title=\"Increase Font Size\" href=\"javascript:__doPostBack(&#39;UsrFontCntr$LinkBtnFontIncrease&#39;,&#39;&#39;)\"><img src=\"/images/font-increase.gif\" alt=\"Increase Font Size\"/></a></span>\\r\\n            <span class=\"fonts\">\\r\\n                <a id=\"UsrFontCntr_LinkBtnFontRegular\" class=\"aspNetDisabled\" title=\"Regular Font Size\"><img src=\"/images/font-reset.gif\" alt=\"Regular Font Size\"/></a></span>\\r\\n            <span class=\"fonts\">\\r\\n                <a id=\"UsrFontCntr_LinkBtnFontDecrease\" title=\"Decrease Font Size\" href=\"javascript:__doPostBack(&#39;UsrFontCntr$LinkBtnFontDecrease&#39;,&#39;&#39;)\"><img src=\"/images/font-decrease.gif\" alt=\"Decrease Font Size\"/></a></span>\\r\\n            <span class=\"black\">\\r\\n                <a id=\"UsrFontCntr_LinkBtnAccessibilty\" title=\"Apply Dark Theme\" href=\"javascript:__doPostBack(&#39;UsrFontCntr$LinkBtnAccessibilty&#39;,&#39;&#39;)\"><img src=\"/images/dark-theme.gif\" alt=\"Apply Dark Theme\"/></a></span>\\r\\n            <span class=\"white\">\\r\\n                <a id=\"UsrFontCntr_LinkBtnUndoAccessibilty\" class=\"aspNetDisabled\" title=\"Apply Normal Theme\"><img src=\"/images/bright-theme.gif\" alt=\"Apply Normal Theme\"/></a></span>\\r\\n            <a onclick=\"javascript:window.print();\" id=\"A1\" title=\"Print This Page\">\\r\\n                <img src=\"/images/print-icon.png\" alt=\"Print this page\" class=\"print\" /></a>\\r\\n            <div style=\"float: right\">\\r\\n                <label style=\"margin-right: 6px;color: #000000;\">\\r\\n                    Language</label><a class=\"lnk-language\" id=\"lnkhindi\" title=\"Hindi site\" href=\"https://www.rbi.org.in/hindi/Home.aspx\">\\xe0\\xa4\\xb9\\xe0\\xa4\\xbf\\xe0\\xa4\\x82\\xe0\\xa4\\xa6\\xe0\\xa5\\x80</a></div>\\r\\n                    \\r\\n        </div>\\r\\n        <div class=\"clearfix\">\\r\\n        </div>\\r\\n    </div>\\r\\n</div>\\r\\n<div class=\"container_12\">\\r\\n    <div class=\"grid_5\" role=\"banner\">\\r\\n        <h1 class=\"logo\">\\r\\n            <a href=\"/home.aspx\">\\r\\n                <img src=\"/images/rbi-company-logo.jpg\" alt=\"Reserve Bank of India\" /></a></h1>\\r\\n    </div>\\r\\n    <div class=\"grid_5\" align=\"right\" role=\"search\" style=\"float: right\">\\r\\n        <label for=\"searchbox\" class=\"search_label\">\\r\\n            Search the Website</label>\\r\\n        <input name=\"UsrFontCntr$txtSearch\" type=\"text\" maxlength=\"103\" id=\"txtSearch\" class=\"search_box autoSuggest\" onkeydown=\"return LoadSearchData(&#39;txtSearch&#39;,event.keyCode);\" placeHolder=\"Search\" />\\r\\n        <button id=\"btnSearch\" onclick=\"return LoadSearchData(\\'btnSearch\\',event.keyCode);\"\\r\\n            type=\"button\" class=\"search_button\">\\r\\n            Search</button>\\r\\n    </div>\\r\\n    <div class=\"clearfix\">\\r\\n    </div>\\r\\n</div>\\r\\n<!--  NAVIGATION START-->\\r\\n<nav role=\"navigation\">\\r\\n    <div class=\"top_menu\">\\r\\n      <div class=\"container_12\">\\r\\n        <div class=\"grid_12\">\\r\\n          <div id=\"mydroplinemenu\" class=\"droplinebar\">\\r\\n            <ul>\\r\\n              <li><a href=\"/home.aspx\">Home</a></li>\\r\\n              <li><a href=\"/Scripts/AboutusDisplay.aspx\">About Us</a></li>\\r\\n              <li><a href=\"/Scripts/NotificationUser.aspx\">Notifications</a></li>\\r\\n              \\r\\n              <li><a href=\"/Scripts/BS_PressReleaseDisplay.aspx\">Press Releases</a></li>\\r\\n              <li><a href=\"/Scripts/BS_ViewSpeeches.aspx\">Speeches</a></li>\\r\\n              <li><a href=\"#\">Publications</a>\\r\\n                <ul>\\r\\n                  <li><a href=\"/Scripts/Publications.aspx?publication=Annual\">Annual</a></li>\\r\\n                  <li><a href=\"/Scripts/Publications.aspx?publication=HalfYearly\">Half-Yearly</a></li>\\r\\n                  <li><a href=\"/Scripts/Publications.aspx?publication=Quarterly\">Quarterly</a></li>\\r\\n\\t\\t\\t\\t  <li><a href=\"/Scripts/Publications.aspx?publication=Bimonthly\">Bi-monthly</a></li>\\r\\n                  <li><a href=\"/Scripts/Publications.aspx?publication=Monthly\">Monthly</a></li>\\r\\n                  <li><a href=\"/Scripts/Publications.aspx?publication=Weekly\">Weekly</a></li>\\r\\n                  <li><a href=\"/Scripts/Publications.aspx?publication=Occasional\">Occasional</a></li>\\r\\n                   <li><a href=\"/Scripts/Publications.aspx?publication=Reports\">Reports</a></li>\\r\\n                  <li><a href=\"/Scripts/Publications.aspx?publication=Lectures\">Lectures</a></li>\\r\\n                </ul>\\r\\n              </li>\\r\\n              <li><a href=\"#\">Statistics</a>\\r\\n                <ul>\\r\\n                  <li><a href=\"/Scripts/Statistics.aspx\">Data Releases</a></li>\\r\\n                  \\r\\n                  <li><a href=\"http://dbie.rbi.org.in/\"  target=\"_blank\">Database on Indian Economy</a></li>\\r\\n                </ul>\\r\\n              </li>\\r\\n             </ul>\\r\\n          </div>\\r\\n        </div>\\r\\n      </div>\\r\\n    </div>\\r\\n</nav>\\r\\n<!--  NAVIGATION END-->\\r\\n<!--HEADER END-->\\r\\n<input type=\"submit\" name=\"UsrFontCntr$btn\" value=\"\" id=\"btn\" style=\"visibility: hidden; height: 0px; width: 0px;\" />\\r\\n\\r\\n\\r\\n    <div>\\r\\n        <div class=\"container_12\">\\r\\n            <a id=\"mainsection\" name=\"mainsection\"></a>\\r\\n            <div class=\"grid_12 breadcrumbs\">\\r\\n                <ul>\\r\\n                    <li><a href=\"../home.aspx\">Home</a></li>\\r\\n                    <li><a href=\"Statistics.aspx\">Data Releases</a></li>\\r\\n                    \\r\\n                </ul>\\r\\n            </div>\\r\\n            <div class=\"clear\">\\r\\n            </div>\\r\\n            <div class=\"grid_11 omega right_blue_border\">\\r\\n                <div class=\"text1\">\\r\\n                    <div id=\"example-one\">\\r\\n                        <h2 class=\"page_title\">\\r\\n                            Reference Rate\\r\\n                        </h2>\\r\\n                        <div id=\"doublescroll\">\\r\\n                            <table width=\"100%\" border=\"0\" align=\"center\" cellpadding=\"0\" cellspacing=\"0\">\\r\\n                                <table class=\"tablebg\" width=\"100%\"><tr><td class=\"tableheader\"><a href=\"http://rbidocs.rbi.org.in/rdocs/PressRelease/Pdfs/PR4708A7D5F8A350445B98871AB235E706EAE.PDF\" target=\"_blank\"><img  border=\"0\" src=\"../images/Pdf.gif\"></a>(154 kb)</td></tr><tr><td class=\"tableheader\" align=\"right\"> <b>Date: </b>23 Aug 2016</td></tr><tr><td class=\"tableheader\"  align=\"center\"><b> RBI Reference Rate for US $</b></td></tr><tr><td><table width=\"100%\" border=\"0\" align=\"center\" class=\"td\">  <tr>    <td align=\"Justify\"><p>The Reserve Bank of India\\xe2\\x80\\x99s Reference Rate for the US Dollar is \\xe2\\x82\\xb9 67.0885 on August 23, 2016.</p>    <p>The corresponding rate for the previous day (August 22, 2016) was \\xe2\\x82\\xb9 67.1940.</p>    <p>Based on the reference rate for the US Dollar and the middle rates of the cross-currency quotes, the exchange rate of EUR, GBP and JPY against the Rupee are given below: </p>    <table width=\"60%\" border=\"1\" align=\"center\" cellpadding=\"0\" cellspacing=\"0\" class=\"td\">      <tr>        <td width=\"32%\" rowspan=\"2\" align=\"center\"><span class=\"head\">Currency</span></td>        <td colspan=\"2\" align=\"center\"><span class=\"head\">Date</span></td>      </tr>      <tr>        <td width=\"34%\" align=\"center\"><span class=\"head\">August 22, 2016</span></td>        <td width=\"34%\" align=\"center\"><span class=\"head\">August 23, 2016</span></td>      </tr>      <tr>        <td align=\"center\">1 EUR</td>        <td align=\"center\">75.8083</td>        <td align=\"center\">76.0381</td>      </tr>      <tr>        <td align=\"center\">1 GBP</td>        <td align=\"center\">87.6747</td>        <td align=\"center\">88.2885</td>      </tr>      <tr>        <td align=\"center\">100 YEN</td>        <td align=\"center\">66.67</td>        <td align=\"center\">67.03</td>      </tr>      <tr>        <td colspan=\"3\"><span class=\"head\">Note :</span> The SDR-Rupee rate will be based on the reference rate.</td>      </tr>    </table><p align=\"right\"><span class=\"head\">Ajit Prasad</span><br>  Assistant Adviser</p><p class=\"head\">Press Release: 2016-2017/470</p></td>  </tr></table></td></tr></table>\\r\\n                            </table>\\r\\n                        </div>\\r\\n                    </div>\\r\\n                </div>\\r\\n            </div>\\r\\n            <div class=\"grid_1 archives alpha\">\\r\\n                <span id=\"DateSettree_lbltree\"><div class=\"grid_subtree archives alpha\" id=\"treeYearMonth_PR\"><div class=\"accordionButton year\" id=\"btn2016\">2016</div><div class=\"accordionContent month\" id=\"2016\"><ul class=\"accordionlist\"><li><a href=\"#\" id=\"20160\" onclick=\\'GetYearMonth(\"2016\",\"0\")\\'>All Months</a></li><li><a href=\"#\" id=\"20161\" onclick=\\'GetYearMonth(\"2016\",\"1\")\\'>January</a></li><li><a href=\"#\" id=\"20162\" onclick=\\'GetYearMonth(\"2016\",\"2\")\\'>February</a></li><li><a href=\"#\" id=\"20163\" onclick=\\'GetYearMonth(\"2016\",\"3\")\\'>March</a></li><li><a href=\"#\" id=\"20164\" onclick=\\'GetYearMonth(\"2016\",\"4\")\\'>April</a></li><li><a href=\"#\" id=\"20165\" onclick=\\'GetYearMonth(\"2016\",\"5\")\\'>May</a></li><li><a href=\"#\" id=\"20166\" onclick=\\'GetYearMonth(\"2016\",\"6\")\\'>June</a></li><li><a href=\"#\" id=\"20167\" onclick=\\'GetYearMonth(\"2016\",\"7\")\\'>July</a></li><li><a href=\"#\" id=\"20168\" onclick=\\'GetYearMonth(\"2016\",\"8\")\\'>August</a></li><li><a href=\"#\" id=\"20169\" onclick=\\'GetYearMonth(\"2016\",\"9\")\\'>September</a></li><li><a href=\"#\" id=\"201610\" onclick=\\'GetYearMonth(\"2016\",\"10\")\\'>October</a></li><li><a href=\"#\" id=\"201611\" onclick=\\'GetYearMonth(\"2016\",\"11\")\\'>November</a></li><li><a href=\"#\" id=\"201612\" onclick=\\'GetYearMonth(\"2016\",\"12\")\\'>December</a></li></ul></div><div class=\"accordionButton year\" id=\"btn2015\">2015</div><div class=\"accordionContent month\" id=\"2015\"><ul class=\"accordionlist\"><li><a href=\"#\" id=\"20150\" onclick=\\'GetYearMonth(\"2015\",\"0\")\\'>All Months</a></li><li><a href=\"#\" id=\"20151\" onclick=\\'GetYearMonth(\"2015\",\"1\")\\'>January</a></li><li><a href=\"#\" id=\"20152\" onclick=\\'GetYearMonth(\"2015\",\"2\")\\'>February</a></li><li><a href=\"#\" id=\"20153\" onclick=\\'GetYearMonth(\"2015\",\"3\")\\'>March</a></li><li><a href=\"#\" id=\"20154\" onclick=\\'GetYearMonth(\"2015\",\"4\")\\'>April</a></li><li><a href=\"#\" id=\"20155\" onclick=\\'GetYearMonth(\"2015\",\"5\")\\'>May</a></li><li><a href=\"#\" id=\"20156\" onclick=\\'GetYearMonth(\"2015\",\"6\")\\'>June</a></li><li><a href=\"#\" id=\"20157\" onclick=\\'GetYearMonth(\"2015\",\"7\")\\'>July</a></li><li><a href=\"#\" id=\"20158\" onclick=\\'GetYearMonth(\"2015\",\"8\")\\'>August</a></li><li><a href=\"#\" id=\"20159\" onclick=\\'GetYearMonth(\"2015\",\"9\")\\'>September</a></li><li><a href=\"#\" id=\"201510\" onclick=\\'GetYearMonth(\"2015\",\"10\")\\'>October</a></li><li><a href=\"#\" id=\"201511\" onclick=\\'GetYearMonth(\"2015\",\"11\")\\'>November</a></li><li><a href=\"#\" id=\"201512\" onclick=\\'GetYearMonth(\"2015\",\"12\")\\'>December</a></li></ul></div><div class=\"accordionButton year\" id=\"btn2014\">2014</div><div class=\"accordionContent month\" id=\"2014\"><ul class=\"accordionlist\"><li><a href=\"#\" id=\"20140\" onclick=\\'GetYearMonth(\"2014\",\"0\")\\'>All Months</a></li><li><a href=\"#\" id=\"20141\" onclick=\\'GetYearMonth(\"2014\",\"1\")\\'>January</a></li><li><a href=\"#\" id=\"20142\" onclick=\\'GetYearMonth(\"2014\",\"2\")\\'>February</a></li><li><a href=\"#\" id=\"20143\" onclick=\\'GetYearMonth(\"2014\",\"3\")\\'>March</a></li><li><a href=\"#\" id=\"20144\" onclick=\\'GetYearMonth(\"2014\",\"4\")\\'>April</a></li><li><a href=\"#\" id=\"20145\" onclick=\\'GetYearMonth(\"2014\",\"5\")\\'>May</a></li><li><a href=\"#\" id=\"20146\" onclick=\\'GetYearMonth(\"2014\",\"6\")\\'>June</a></li><li><a href=\"#\" id=\"20147\" onclick=\\'GetYearMonth(\"2014\",\"7\")\\'>July</a></li><li><a href=\"#\" id=\"20148\" onclick=\\'GetYearMonth(\"2014\",\"8\")\\'>August</a></li><li><a href=\"#\" id=\"20149\" onclick=\\'GetYearMonth(\"2014\",\"9\")\\'>September</a></li><li><a href=\"#\" id=\"201410\" onclick=\\'GetYearMonth(\"2014\",\"10\")\\'>October</a></li><li><a href=\"#\" id=\"201411\" onclick=\\'GetYearMonth(\"2014\",\"11\")\\'>November</a></li><li><a href=\"#\" id=\"201412\" onclick=\\'GetYearMonth(\"2014\",\"12\")\\'>December</a></li></ul></div><div class=\"accordionButton year\" id=\"btn2013\">2013</div><div class=\"accordionContent month\" id=\"2013\"><ul class=\"accordionlist\"><li><a href=\"#\" id=\"20130\" onclick=\\'GetYearMonth(\"2013\",\"0\")\\'>All Months</a></li><li><a href=\"#\" id=\"20131\" onclick=\\'GetYearMonth(\"2013\",\"1\")\\'>January</a></li><li><a href=\"#\" id=\"20132\" onclick=\\'GetYearMonth(\"2013\",\"2\")\\'>February</a></li><li><a href=\"#\" id=\"20133\" onclick=\\'GetYearMonth(\"2013\",\"3\")\\'>March</a></li><li><a href=\"#\" id=\"20134\" onclick=\\'GetYearMonth(\"2013\",\"4\")\\'>April</a></li><li><a href=\"#\" id=\"20135\" onclick=\\'GetYearMonth(\"2013\",\"5\")\\'>May</a></li><li><a href=\"#\" id=\"20136\" onclick=\\'GetYearMonth(\"2013\",\"6\")\\'>June</a></li><li><a href=\"#\" id=\"20137\" onclick=\\'GetYearMonth(\"2013\",\"7\")\\'>July</a></li><li><a href=\"#\" id=\"20138\" onclick=\\'GetYearMonth(\"2013\",\"8\")\\'>August</a></li><li><a href=\"#\" id=\"20139\" onclick=\\'GetYearMonth(\"2013\",\"9\")\\'>September</a></li><li><a href=\"#\" id=\"201310\" onclick=\\'GetYearMonth(\"2013\",\"10\")\\'>October</a></li><li><a href=\"#\" id=\"201311\" onclick=\\'GetYearMonth(\"2013\",\"11\")\\'>November</a></li><li><a href=\"#\" id=\"201312\" onclick=\\'GetYearMonth(\"2013\",\"12\")\\'>December</a></li></ul></div><div class=\"accordionButton year\" id=\"btn2012\">2012</div><div class=\"accordionContent month\" id=\"2012\"><ul class=\"accordionlist\"><li><a href=\"#\" id=\"20120\" onclick=\\'GetYearMonth(\"2012\",\"0\")\\'>All Months</a></li><li><a href=\"#\" id=\"20121\" onclick=\\'GetYearMonth(\"2012\",\"1\")\\'>January</a></li><li><a href=\"#\" id=\"20122\" onclick=\\'GetYearMonth(\"2012\",\"2\")\\'>February</a></li><li><a href=\"#\" id=\"20123\" onclick=\\'GetYearMonth(\"2012\",\"3\")\\'>March</a></li><li><a href=\"#\" id=\"20124\" onclick=\\'GetYearMonth(\"2012\",\"4\")\\'>April</a></li><li><a href=\"#\" id=\"20125\" onclick=\\'GetYearMonth(\"2012\",\"5\")\\'>May</a></li><li><a href=\"#\" id=\"20126\" onclick=\\'GetYearMonth(\"2012\",\"6\")\\'>June</a></li><li><a href=\"#\" id=\"20127\" onclick=\\'GetYearMonth(\"2012\",\"7\")\\'>July</a></li><li><a href=\"#\" id=\"20128\" onclick=\\'GetYearMonth(\"2012\",\"8\")\\'>August</a></li><li><a href=\"#\" id=\"20129\" onclick=\\'GetYearMonth(\"2012\",\"9\")\\'>September</a></li><li><a href=\"#\" id=\"201210\" onclick=\\'GetYearMonth(\"2012\",\"10\")\\'>October</a></li><li><a href=\"#\" id=\"201211\" onclick=\\'GetYearMonth(\"2012\",\"11\")\\'>November</a></li><li><a href=\"#\" id=\"201212\" onclick=\\'GetYearMonth(\"2012\",\"12\")\\'>December</a></li></ul></div><div class=\"accordionButton year\" id=\"btn2011\">2011</div><div class=\"accordionContent month\" id=\"2011\"><ul class=\"accordionlist\"><li><a href=\"#\" id=\"20110\" onclick=\\'GetYearMonth(\"2011\",\"0\")\\'>All Months</a></li><li><a href=\"#\" id=\"20111\" onclick=\\'GetYearMonth(\"2011\",\"1\")\\'>January</a></li><li><a href=\"#\" id=\"20112\" onclick=\\'GetYearMonth(\"2011\",\"2\")\\'>February</a></li><li><a href=\"#\" id=\"20113\" onclick=\\'GetYearMonth(\"2011\",\"3\")\\'>March</a></li><li><a href=\"#\" id=\"20114\" onclick=\\'GetYearMonth(\"2011\",\"4\")\\'>April</a></li><li><a href=\"#\" id=\"20115\" onclick=\\'GetYearMonth(\"2011\",\"5\")\\'>May</a></li><li><a href=\"#\" id=\"20116\" onclick=\\'GetYearMonth(\"2011\",\"6\")\\'>June</a></li><li><a href=\"#\" id=\"20117\" onclick=\\'GetYearMonth(\"2011\",\"7\")\\'>July</a></li><li><a href=\"#\" id=\"20118\" onclick=\\'GetYearMonth(\"2011\",\"8\")\\'>August</a></li><li><a href=\"#\" id=\"20119\" onclick=\\'GetYearMonth(\"2011\",\"9\")\\'>September</a></li><li><a href=\"#\" id=\"201110\" onclick=\\'GetYearMonth(\"2011\",\"10\")\\'>October</a></li><li><a href=\"#\" id=\"201111\" onclick=\\'GetYearMonth(\"2011\",\"11\")\\'>November</a></li><li><a href=\"#\" id=\"201112\" onclick=\\'GetYearMonth(\"2011\",\"12\")\\'>December</a></li></ul></div><div class=\"accordionButton year\" id=\"btn2010\">2010</div><div class=\"accordionContent month\" id=\"2010\"><ul class=\"accordionlist\"><li><a href=\"#\" id=\"20100\" onclick=\\'GetYearMonth(\"2010\",\"0\")\\'>All Months</a></li><li><a href=\"#\" id=\"20101\" onclick=\\'GetYearMonth(\"2010\",\"1\")\\'>January</a></li><li><a href=\"#\" id=\"20102\" onclick=\\'GetYearMonth(\"2010\",\"2\")\\'>February</a></li><li><a href=\"#\" id=\"20103\" onclick=\\'GetYearMonth(\"2010\",\"3\")\\'>March</a></li><li><a href=\"#\" id=\"20104\" onclick=\\'GetYearMonth(\"2010\",\"4\")\\'>April</a></li><li><a href=\"#\" id=\"20105\" onclick=\\'GetYearMonth(\"2010\",\"5\")\\'>May</a></li><li><a href=\"#\" id=\"20106\" onclick=\\'GetYearMonth(\"2010\",\"6\")\\'>June</a></li><li><a href=\"#\" id=\"20107\" onclick=\\'GetYearMonth(\"2010\",\"7\")\\'>July</a></li><li><a href=\"#\" id=\"20108\" onclick=\\'GetYearMonth(\"2010\",\"8\")\\'>August</a></li><li><a href=\"#\" id=\"20109\" onclick=\\'GetYearMonth(\"2010\",\"9\")\\'>September</a></li><li><a href=\"#\" id=\"201010\" onclick=\\'GetYearMonth(\"2010\",\"10\")\\'>October</a></li><li><a href=\"#\" id=\"201011\" onclick=\\'GetYearMonth(\"2010\",\"11\")\\'>November</a></li><li><a href=\"#\" id=\"201012\" onclick=\\'GetYearMonth(\"2010\",\"12\")\\'>December</a></li></ul></div><div class=\"accordionButton year\" id=\"btn2009\">2009</div><div class=\"accordionContent month\" id=\"2009\"><ul class=\"accordionlist\"><li><a href=\"#\" id=\"20090\" onclick=\\'GetYearMonth(\"2009\",\"0\")\\'>All Months</a></li><li><a href=\"#\" id=\"20091\" onclick=\\'GetYearMonth(\"2009\",\"1\")\\'>January</a></li><li><a href=\"#\" id=\"20092\" onclick=\\'GetYearMonth(\"2009\",\"2\")\\'>February</a></li><li><a href=\"#\" id=\"20093\" onclick=\\'GetYearMonth(\"2009\",\"3\")\\'>March</a></li><li><a href=\"#\" id=\"20094\" onclick=\\'GetYearMonth(\"2009\",\"4\")\\'>April</a></li><li><a href=\"#\" id=\"20095\" onclick=\\'GetYearMonth(\"2009\",\"5\")\\'>May</a></li><li><a href=\"#\" id=\"20096\" onclick=\\'GetYearMonth(\"2009\",\"6\")\\'>June</a></li><li><a href=\"#\" id=\"20097\" onclick=\\'GetYearMonth(\"2009\",\"7\")\\'>July</a></li><li><a href=\"#\" id=\"20098\" onclick=\\'GetYearMonth(\"2009\",\"8\")\\'>August</a></li><li><a href=\"#\" id=\"20099\" onclick=\\'GetYearMonth(\"2009\",\"9\")\\'>September</a></li><li><a href=\"#\" id=\"200910\" onclick=\\'GetYearMonth(\"2009\",\"10\")\\'>October</a></li><li><a href=\"#\" id=\"200911\" onclick=\\'GetYearMonth(\"2009\",\"11\")\\'>November</a></li><li><a href=\"#\" id=\"200912\" onclick=\\'GetYearMonth(\"2009\",\"12\")\\'>December</a></li></ul></div><div class=\"accordionButton year\" id=\"btn2008\">2008</div><div class=\"accordionContent month\" id=\"2008\"><ul class=\"accordionlist\"><li><a href=\"#\" id=\"20080\" onclick=\\'GetYearMonth(\"2008\",\"0\")\\'>All Months</a></li><li><a href=\"#\" id=\"20081\" onclick=\\'GetYearMonth(\"2008\",\"1\")\\'>January</a></li><li><a href=\"#\" id=\"20082\" onclick=\\'GetYearMonth(\"2008\",\"2\")\\'>February</a></li><li><a href=\"#\" id=\"20083\" onclick=\\'GetYearMonth(\"2008\",\"3\")\\'>March</a></li><li><a href=\"#\" id=\"20084\" onclick=\\'GetYearMonth(\"2008\",\"4\")\\'>April</a></li><li><a href=\"#\" id=\"20085\" onclick=\\'GetYearMonth(\"2008\",\"5\")\\'>May</a></li><li><a href=\"#\" id=\"20086\" onclick=\\'GetYearMonth(\"2008\",\"6\")\\'>June</a></li><li><a href=\"#\" id=\"20087\" onclick=\\'GetYearMonth(\"2008\",\"7\")\\'>July</a></li><li><a href=\"#\" id=\"20088\" onclick=\\'GetYearMonth(\"2008\",\"8\")\\'>August</a></li><li><a href=\"#\" id=\"20089\" onclick=\\'GetYearMonth(\"2008\",\"9\")\\'>September</a></li><li><a href=\"#\" id=\"200810\" onclick=\\'GetYearMonth(\"2008\",\"10\")\\'>October</a></li><li><a href=\"#\" id=\"200811\" onclick=\\'GetYearMonth(\"2008\",\"11\")\\'>November</a></li><li><a href=\"#\" id=\"200812\" onclick=\\'GetYearMonth(\"2008\",\"12\")\\'>December</a></li></ul></div><div class=\"accordionButton year\" id=\"btn2007\">2007</div><div class=\"accordionContent month\" id=\"2007\"><ul class=\"accordionlist\"><li><a href=\"#\" id=\"20070\" onclick=\\'GetYearMonth(\"2007\",\"0\")\\'>All Months</a></li><li><a href=\"#\" id=\"20071\" onclick=\\'GetYearMonth(\"2007\",\"1\")\\'>January</a></li><li><a href=\"#\" id=\"20072\" onclick=\\'GetYearMonth(\"2007\",\"2\")\\'>February</a></li><li><a href=\"#\" id=\"20073\" onclick=\\'GetYearMonth(\"2007\",\"3\")\\'>March</a></li><li><a href=\"#\" id=\"20074\" onclick=\\'GetYearMonth(\"2007\",\"4\")\\'>April</a></li><li><a href=\"#\" id=\"20075\" onclick=\\'GetYearMonth(\"2007\",\"5\")\\'>May</a></li><li><a href=\"#\" id=\"20076\" onclick=\\'GetYearMonth(\"2007\",\"6\")\\'>June</a></li><li><a href=\"#\" id=\"20077\" onclick=\\'GetYearMonth(\"2007\",\"7\")\\'>July</a></li><li><a href=\"#\" id=\"20078\" onclick=\\'GetYearMonth(\"2007\",\"8\")\\'>August</a></li><li><a href=\"#\" id=\"20079\" onclick=\\'GetYearMonth(\"2007\",\"9\")\\'>September</a></li><li><a href=\"#\" id=\"200710\" onclick=\\'GetYearMonth(\"2007\",\"10\")\\'>October</a></li><li><a href=\"#\" id=\"200711\" onclick=\\'GetYearMonth(\"2007\",\"11\")\\'>November</a></li><li><a href=\"#\" id=\"200712\" onclick=\\'GetYearMonth(\"2007\",\"12\")\\'>December</a></li></ul></div><div id=\"divArchiveMain\" class=\"year\" onclick=\"hideshow(\\'divArchiveSub\\');\" style=\"cursor: pointer;\">Archives</div><div  id=\"divArchiveSub\" style=\"display: none;\"><div class=\"grid_subtree archives alpha\" id=\"treeYearMonth_PR\"><div class=\"accordionButton year\" id=\"btn2006\">2006</div><div class=\"accordionContent month\" id=\"2006\"><ul class=\"accordionlist\"><li><a href=\"#\" id=\"20060\" onclick=\\'GetYearMonth(\"2006\",\"0\")\\'>All Months</a></li><li><a href=\"#\" id=\"20061\" onclick=\\'GetYearMonth(\"2006\",\"1\")\\'>January</a></li><li><a href=\"#\" id=\"20062\" onclick=\\'GetYearMonth(\"2006\",\"2\")\\'>February</a></li><li><a href=\"#\" id=\"20063\" onclick=\\'GetYearMonth(\"2006\",\"3\")\\'>March</a></li><li><a href=\"#\" id=\"20064\" onclick=\\'GetYearMonth(\"2006\",\"4\")\\'>April</a></li><li><a href=\"#\" id=\"20065\" onclick=\\'GetYearMonth(\"2006\",\"5\")\\'>May</a></li><li><a href=\"#\" id=\"20066\" onclick=\\'GetYearMonth(\"2006\",\"6\")\\'>June</a></li><li><a href=\"#\" id=\"20067\" onclick=\\'GetYearMonth(\"2006\",\"7\")\\'>July</a></li><li><a href=\"#\" id=\"20068\" onclick=\\'GetYearMonth(\"2006\",\"8\")\\'>August</a></li><li><a href=\"#\" id=\"20069\" onclick=\\'GetYearMonth(\"2006\",\"9\")\\'>September</a></li><li><a href=\"#\" id=\"200610\" onclick=\\'GetYearMonth(\"2006\",\"10\")\\'>October</a></li><li><a href=\"#\" id=\"200611\" onclick=\\'GetYearMonth(\"2006\",\"11\")\\'>November</a></li><li><a href=\"#\" id=\"200612\" onclick=\\'GetYearMonth(\"2006\",\"12\")\\'>December</a></li></ul></div><div class=\"accordionButton year\" id=\"btn2005\">2005</div><div class=\"accordionContent month\" id=\"2005\"><ul class=\"accordionlist\"><li><a href=\"#\" id=\"20050\" onclick=\\'GetYearMonth(\"2005\",\"0\")\\'>All Months</a></li><li><a href=\"#\" id=\"20051\" onclick=\\'GetYearMonth(\"2005\",\"1\")\\'>January</a></li><li><a href=\"#\" id=\"20052\" onclick=\\'GetYearMonth(\"2005\",\"2\")\\'>February</a></li><li><a href=\"#\" id=\"20053\" onclick=\\'GetYearMonth(\"2005\",\"3\")\\'>March</a></li><li><a href=\"#\" id=\"20054\" onclick=\\'GetYearMonth(\"2005\",\"4\")\\'>April</a></li><li><a href=\"#\" id=\"20055\" onclick=\\'GetYearMonth(\"2005\",\"5\")\\'>May</a></li><li><a href=\"#\" id=\"20056\" onclick=\\'GetYearMonth(\"2005\",\"6\")\\'>June</a></li><li><a href=\"#\" id=\"20057\" onclick=\\'GetYearMonth(\"2005\",\"7\")\\'>July</a></li><li><a href=\"#\" id=\"20058\" onclick=\\'GetYearMonth(\"2005\",\"8\")\\'>August</a></li><li><a href=\"#\" id=\"20059\" onclick=\\'GetYearMonth(\"2005\",\"9\")\\'>September</a></li><li><a href=\"#\" id=\"200510\" onclick=\\'GetYearMonth(\"2005\",\"10\")\\'>October</a></li><li><a href=\"#\" id=\"200511\" onclick=\\'GetYearMonth(\"2005\",\"11\")\\'>November</a></li><li><a href=\"#\" id=\"200512\" onclick=\\'GetYearMonth(\"2005\",\"12\")\\'>December</a></li></ul></div><div class=\"accordionButton year\" id=\"btn2004\">2004</div><div class=\"accordionContent month\" id=\"2004\"><ul class=\"accordionlist\"><li><a href=\"#\" id=\"20040\" onclick=\\'GetYearMonth(\"2004\",\"0\")\\'>All Months</a></li><li><a href=\"#\" id=\"20041\" onclick=\\'GetYearMonth(\"2004\",\"1\")\\'>January</a></li><li><a href=\"#\" id=\"20042\" onclick=\\'GetYearMonth(\"2004\",\"2\")\\'>February</a></li><li><a href=\"#\" id=\"20043\" onclick=\\'GetYearMonth(\"2004\",\"3\")\\'>March</a></li><li><a href=\"#\" id=\"20044\" onclick=\\'GetYearMonth(\"2004\",\"4\")\\'>April</a></li><li><a href=\"#\" id=\"20045\" onclick=\\'GetYearMonth(\"2004\",\"5\")\\'>May</a></li><li><a href=\"#\" id=\"20046\" onclick=\\'GetYearMonth(\"2004\",\"6\")\\'>June</a></li><li><a href=\"#\" id=\"20047\" onclick=\\'GetYearMonth(\"2004\",\"7\")\\'>July</a></li><li><a href=\"#\" id=\"20048\" onclick=\\'GetYearMonth(\"2004\",\"8\")\\'>August</a></li><li><a href=\"#\" id=\"20049\" onclick=\\'GetYearMonth(\"2004\",\"9\")\\'>September</a></li><li><a href=\"#\" id=\"200410\" onclick=\\'GetYearMonth(\"2004\",\"10\")\\'>October</a></li><li><a href=\"#\" id=\"200411\" onclick=\\'GetYearMonth(\"2004\",\"11\")\\'>November</a></li><li><a href=\"#\" id=\"200412\" onclick=\\'GetYearMonth(\"2004\",\"12\")\\'>December</a></li></ul></div><div class=\"accordionButton year\" id=\"btn2003\">2003</div><div class=\"accordionContent month\" id=\"2003\"><ul class=\"accordionlist\"><li><a href=\"#\" id=\"20030\" onclick=\\'GetYearMonth(\"2003\",\"0\")\\'>All Months</a></li><li><a href=\"#\" id=\"20031\" onclick=\\'GetYearMonth(\"2003\",\"1\")\\'>January</a></li><li><a href=\"#\" id=\"20032\" onclick=\\'GetYearMonth(\"2003\",\"2\")\\'>February</a></li><li><a href=\"#\" id=\"20033\" onclick=\\'GetYearMonth(\"2003\",\"3\")\\'>March</a></li><li><a href=\"#\" id=\"20034\" onclick=\\'GetYearMonth(\"2003\",\"4\")\\'>April</a></li><li><a href=\"#\" id=\"20035\" onclick=\\'GetYearMonth(\"2003\",\"5\")\\'>May</a></li><li><a href=\"#\" id=\"20036\" onclick=\\'GetYearMonth(\"2003\",\"6\")\\'>June</a></li><li><a href=\"#\" id=\"20037\" onclick=\\'GetYearMonth(\"2003\",\"7\")\\'>July</a></li><li><a href=\"#\" id=\"20038\" onclick=\\'GetYearMonth(\"2003\",\"8\")\\'>August</a></li><li><a href=\"#\" id=\"20039\" onclick=\\'GetYearMonth(\"2003\",\"9\")\\'>September</a></li><li><a href=\"#\" id=\"200310\" onclick=\\'GetYearMonth(\"2003\",\"10\")\\'>October</a></li><li><a href=\"#\" id=\"200311\" onclick=\\'GetYearMonth(\"2003\",\"11\")\\'>November</a></li><li><a href=\"#\" id=\"200312\" onclick=\\'GetYearMonth(\"2003\",\"12\")\\'>December</a></li></ul></div><div class=\"accordionButton year\" id=\"btn2002\">2002</div><div class=\"accordionContent month\" id=\"2002\"><ul class=\"accordionlist\"><li><a href=\"#\" id=\"20020\" onclick=\\'GetYearMonth(\"2002\",\"0\")\\'>All Months</a></li><li><a href=\"#\" id=\"20021\" onclick=\\'GetYearMonth(\"2002\",\"1\")\\'>January</a></li><li><a href=\"#\" id=\"20022\" onclick=\\'GetYearMonth(\"2002\",\"2\")\\'>February</a></li><li><a href=\"#\" id=\"20023\" onclick=\\'GetYearMonth(\"2002\",\"3\")\\'>March</a></li><li><a href=\"#\" id=\"20024\" onclick=\\'GetYearMonth(\"2002\",\"4\")\\'>April</a></li><li><a href=\"#\" id=\"20025\" onclick=\\'GetYearMonth(\"2002\",\"5\")\\'>May</a></li><li><a href=\"#\" id=\"20026\" onclick=\\'GetYearMonth(\"2002\",\"6\")\\'>June</a></li><li><a href=\"#\" id=\"20027\" onclick=\\'GetYearMonth(\"2002\",\"7\")\\'>July</a></li><li><a href=\"#\" id=\"20028\" onclick=\\'GetYearMonth(\"2002\",\"8\")\\'>August</a></li><li><a href=\"#\" id=\"20029\" onclick=\\'GetYearMonth(\"2002\",\"9\")\\'>September</a></li><li><a href=\"#\" id=\"200210\" onclick=\\'GetYearMonth(\"2002\",\"10\")\\'>October</a></li><li><a href=\"#\" id=\"200211\" onclick=\\'GetYearMonth(\"2002\",\"11\")\\'>November</a></li><li><a href=\"#\" id=\"200212\" onclick=\\'GetYearMonth(\"2002\",\"12\")\\'>December</a></li></ul></div><div class=\"accordionButton year\" id=\"btn2001\">2001</div><div class=\"accordionContent month\" id=\"2001\"><ul class=\"accordionlist\"><li><a href=\"#\" id=\"20010\" onclick=\\'GetYearMonth(\"2001\",\"0\")\\'>All Months</a></li><li><a href=\"#\" id=\"20011\" onclick=\\'GetYearMonth(\"2001\",\"1\")\\'>January</a></li><li><a href=\"#\" id=\"20012\" onclick=\\'GetYearMonth(\"2001\",\"2\")\\'>February</a></li><li><a href=\"#\" id=\"20013\" onclick=\\'GetYearMonth(\"2001\",\"3\")\\'>March</a></li><li><a href=\"#\" id=\"20014\" onclick=\\'GetYearMonth(\"2001\",\"4\")\\'>April</a></li><li><a href=\"#\" id=\"20015\" onclick=\\'GetYearMonth(\"2001\",\"5\")\\'>May</a></li><li><a href=\"#\" id=\"20016\" onclick=\\'GetYearMonth(\"2001\",\"6\")\\'>June</a></li><li><a href=\"#\" id=\"20017\" onclick=\\'GetYearMonth(\"2001\",\"7\")\\'>July</a></li><li><a href=\"#\" id=\"20018\" onclick=\\'GetYearMonth(\"2001\",\"8\")\\'>August</a></li><li><a href=\"#\" id=\"20019\" onclick=\\'GetYearMonth(\"2001\",\"9\")\\'>September</a></li><li><a href=\"#\" id=\"200110\" onclick=\\'GetYearMonth(\"2001\",\"10\")\\'>October</a></li><li><a href=\"#\" id=\"200111\" onclick=\\'GetYearMonth(\"2001\",\"11\")\\'>November</a></li><li><a href=\"#\" id=\"200112\" onclick=\\'GetYearMonth(\"2001\",\"12\")\\'>December</a></li></ul></div><div class=\"accordionButton year\" id=\"btn2000\">2000</div><div class=\"accordionContent month\" id=\"2000\"><ul class=\"accordionlist\"><li><a href=\"#\" id=\"20000\" onclick=\\'GetYearMonth(\"2000\",\"0\")\\'>All Months</a></li><li><a href=\"#\" id=\"20001\" onclick=\\'GetYearMonth(\"2000\",\"1\")\\'>January</a></li><li><a href=\"#\" id=\"20002\" onclick=\\'GetYearMonth(\"2000\",\"2\")\\'>February</a></li><li><a href=\"#\" id=\"20003\" onclick=\\'GetYearMonth(\"2000\",\"3\")\\'>March</a></li><li><a href=\"#\" id=\"20004\" onclick=\\'GetYearMonth(\"2000\",\"4\")\\'>April</a></li><li><a href=\"#\" id=\"20005\" onclick=\\'GetYearMonth(\"2000\",\"5\")\\'>May</a></li><li><a href=\"#\" id=\"20006\" onclick=\\'GetYearMonth(\"2000\",\"6\")\\'>June</a></li><li><a href=\"#\" id=\"20007\" onclick=\\'GetYearMonth(\"2000\",\"7\")\\'>July</a></li><li><a href=\"#\" id=\"20008\" onclick=\\'GetYearMonth(\"2000\",\"8\")\\'>August</a></li><li><a href=\"#\" id=\"20009\" onclick=\\'GetYearMonth(\"2000\",\"9\")\\'>September</a></li><li><a href=\"#\" id=\"200010\" onclick=\\'GetYearMonth(\"2000\",\"10\")\\'>October</a></li><li><a href=\"#\" id=\"200011\" onclick=\\'GetYearMonth(\"2000\",\"11\")\\'>November</a></li><li><a href=\"#\" id=\"200012\" onclick=\\'GetYearMonth(\"2000\",\"12\")\\'>December</a></li></ul></div><div class=\"accordionButton year\" id=\"btn1999\">1999</div><div class=\"accordionContent month\" id=\"1999\"><ul class=\"accordionlist\"><li><a href=\"#\" id=\"19990\" onclick=\\'GetYearMonth(\"1999\",\"0\")\\'>All Months</a></li><li><a href=\"#\" id=\"19991\" onclick=\\'GetYearMonth(\"1999\",\"1\")\\'>January</a></li><li><a href=\"#\" id=\"19992\" onclick=\\'GetYearMonth(\"1999\",\"2\")\\'>February</a></li><li><a href=\"#\" id=\"19993\" onclick=\\'GetYearMonth(\"1999\",\"3\")\\'>March</a></li><li><a href=\"#\" id=\"19994\" onclick=\\'GetYearMonth(\"1999\",\"4\")\\'>April</a></li><li><a href=\"#\" id=\"19995\" onclick=\\'GetYearMonth(\"1999\",\"5\")\\'>May</a></li><li><a href=\"#\" id=\"19996\" onclick=\\'GetYearMonth(\"1999\",\"6\")\\'>June</a></li><li><a href=\"#\" id=\"19997\" onclick=\\'GetYearMonth(\"1999\",\"7\")\\'>July</a></li><li><a href=\"#\" id=\"19998\" onclick=\\'GetYearMonth(\"1999\",\"8\")\\'>August</a></li><li><a href=\"#\" id=\"19999\" onclick=\\'GetYearMonth(\"1999\",\"9\")\\'>September</a></li><li><a href=\"#\" id=\"199910\" onclick=\\'GetYearMonth(\"1999\",\"10\")\\'>October</a></li><li><a href=\"#\" id=\"199911\" onclick=\\'GetYearMonth(\"1999\",\"11\")\\'>November</a></li><li><a href=\"#\" id=\"199912\" onclick=\\'GetYearMonth(\"1999\",\"12\")\\'>December</a></li></ul></div><div class=\"accordionButton year\" id=\"btn1998\">1998</div><div class=\"accordionContent month\" id=\"1998\"><ul class=\"accordionlist\"><li><a href=\"#\" id=\"19980\" onclick=\\'GetYearMonth(\"1998\",\"0\")\\'>All Months</a></li><li><a href=\"#\" id=\"19981\" onclick=\\'GetYearMonth(\"1998\",\"1\")\\'>January</a></li><li><a href=\"#\" id=\"19982\" onclick=\\'GetYearMonth(\"1998\",\"2\")\\'>February</a></li><li><a href=\"#\" id=\"19983\" onclick=\\'GetYearMonth(\"1998\",\"3\")\\'>March</a></li><li><a href=\"#\" id=\"19984\" onclick=\\'GetYearMonth(\"1998\",\"4\")\\'>April</a></li><li><a href=\"#\" id=\"19985\" onclick=\\'GetYearMonth(\"1998\",\"5\")\\'>May</a></li><li><a href=\"#\" id=\"19986\" onclick=\\'GetYearMonth(\"1998\",\"6\")\\'>June</a></li><li><a href=\"#\" id=\"19987\" onclick=\\'GetYearMonth(\"1998\",\"7\")\\'>July</a></li><li><a href=\"#\" id=\"19988\" onclick=\\'GetYearMonth(\"1998\",\"8\")\\'>August</a></li><li><a href=\"#\" id=\"19989\" onclick=\\'GetYearMonth(\"1998\",\"9\")\\'>September</a></li><li><a href=\"#\" id=\"199810\" onclick=\\'GetYearMonth(\"1998\",\"10\")\\'>October</a></li><li><a href=\"#\" id=\"199811\" onclick=\\'GetYearMonth(\"1998\",\"11\")\\'>November</a></li><li><a href=\"#\" id=\"199812\" onclick=\\'GetYearMonth(\"1998\",\"12\")\\'>December</a></li></ul></div></div></div></span>\\r\\n\\r\\n\\r\\n\\r\\n\\r\\n            </div>\\r\\n        </div>\\r\\n    </div>\\r\\n    <div class=\"clearfix\">\\r\\n    </div>\\r\\n    <div style=\"display:none;\">Server 214</div>\\r\\n<a href=\"#top\" class=\"scrollToTop\" id=\"backToTop\">Top</a>\\r\\n<footer class=\"footer\">\\r\\n<div class=\"footer\">\\r\\n  <div class=\"container_12\">\\r\\n    <div class=\"grid_9\" style=\"width:895px !important\">\\r\\n      <h4><span class=\"blue\">More</span> Links </h4>\\r\\n      <div class=\"grid_2 alpha\" style=\"width:150px !important\">\\r\\n        <ul class=\"footerlist\">\\r\\n          <!--<li><a target=\"_blank\" href=\"/Scripts/ExternalResearchSchemes.aspx\">Research Portal</a></li>-->\\r\\n          <li><a target=\"_blank\" href=\"/FinancialEducation/Home.aspx\">Financial Education</a></li>\\r\\n          <li class=\"pbh\"><a target=\"_blank\" href=\"http://www.paisaboltahai.rbi.org.in/\">Paisa Bolta Hai</a></li>\\r\\n          <li class=\"rbc\"><a target=\"_blank\" href=\"../Scripts/RBICautions.aspx\">RBI Cautions</a></li>\\r\\n          <li><a href=\"/Scripts/FAQDisplay.aspx\">FAQs</a></li>\\r\\n          <!--<li><a href=\"/Scripts/Glossary.aspx\">Glossary</a></li>-->\\r\\n          <li><a href=\"/Scripts/IFSCMICRDetails.aspx\">IFSC/MICR Codes</a></li>\\r\\n        </ul>\\r\\n      </div>\\r\\n      <div class=\"grid_2 omega\" style=\"width:215px !important;\">\\r\\n        <ul class=\"footerlist\">\\r\\n          <li><a href=\"/Scripts/BS_ViewTenders.aspx\">Tenders</a></li>\\r\\n          <li><a target=\"_blank\" href=\"http://www.opportunities.rbi.org.in/scripts/index.aspx\">Opportunities<font>@</font>RBI</a></li>\\r\\n          <!--<li><a target=\"_blank\" href=\"http://rbirevamp.opportunities.rbi.org.in/Scripts/index.aspx\">Career@RBI</a></li>-->\\r\\n          <li><a href=\"/Scripts/HolidayMatrixDisplay.aspx\">Bank Holidays</a></li>\\r\\n          <li><a href=\"/Scripts/BS_ViewForms.aspx\">Forms</a></li>\\r\\n          <li><a target=\"_blank\" href=\"https://secweb.rbi.org.in/ats/login/Login.do?LANG+english\">Application Tracking System</a></li>\\r\\n        </ul>\\r\\n      </div>\\r\\n      <div class=\"grid_2 alpha omega\" style=\"width:215px !important;\">\\r\\n        <ul class=\"footerlist\">\\r\\n          <li><a href=\"/Scripts/EventsDisplay.aspx\">Events</a></li>\\r\\n          <li><a href=\"/Scripts/PublicEngagement.aspx\">Public Speaking Engagements</a></li>\\r\\n          <li><a href=\"/Scripts/rbi_clarification.aspx\">RBI Clarifications</a></li>\\r\\n\\t\\t  <li><a href=\"/Scripts/Righttoinfoact.aspx\">Right to Information Act</a></li>\\r\\n          <li><a href=\"/Scripts/OtherLinks.aspx\">Related Links</a></li>\\r\\n        </ul>\\r\\n      </div>\\r\\n      <div class=\"grid_2\" style=\"width:254px !important;\">\\r\\n        <ul class=\"footerlist\">\\r\\n          <li><a href=\"/scripts/BS_RBIsCorePurpose.aspx\">RBI\\'s Core Purpose, Values and Vision</a></li>\\r\\n          <li><a href=\"/Scripts/CitiChart.aspx\">Citizens\\' Charter</a></li>\\r\\n          <li><a href=\"/Scripts/Timlines.aspx\">Timelines for Regulatory Approvals</a></li>\\r\\n          <li><a href=\"/Scripts/Complaints.aspx\">Complaints</a></li>\\r\\n          <li><a href=\"/Scripts/helpdesk.aspx\">Contact Us</a></li>\\r\\n        </ul>\\r\\n      </div>\\r\\n    </div>\\r\\n    <div class=\"grid_3\" style=\"width:135px !important\">\\r\\n      <h4><span class=\"blue\">Follow</span> RBI </h4>\\r\\n      <ul class=\"footerlist\">\\r\\n        <li><a href=\"/Scripts/rss.aspx\"><img src=\"/images/rss-icon.png\" alt=\"Subscribe to RSS\" class=\"rss\"/>RSS</a></li>\\r\\n        <li><a href=\"https://twitter.com/RBI\" target=\"_blank\" class=\"twitter\"><img src=\"/images/twitter-icon.png\" alt=\"Follow RBI on Twitter\" class=\"twitter\"/>Twitter</a></li>\\r\\n        <li><a href=\"https://www.youtube.com/channel/UCIfCOl43tunZVNYafeC4RQA\" class=\"videos\" target=\"_blank\"><img src=\"/images/videos-icon.png\" alt=\"Check RBI Videos\" class=\"videos\"/>Videos</a></li>\\r\\n      </ul>\\r\\n    </div>\\r\\n    <div class=\"clearfix\"></div>\\r\\n  </div>\\r\\n  <div class=\"copyright\">\\r\\n    <div class=\"container_12\">\\r\\n      <div class=\"grid_6 pull_left\" >&copy; Reserve Bank of India. All Rights Reserved.</div>\\r\\n      <div class=\"grid_5 pull_right\" ><a href=\"/Scripts/sitemap.aspx\">Sitemap</a> | <a href=\"/Scripts/Disclaimer.aspx\">Disclaimer</a></div>\\r\\n      <div class=\"clearfix\"></div>\\r\\n    </div>\\r\\n  </div>\\r\\n  \\r\\n\\r\\n<!--Welcome note-->\\r\\n\\r\\n  <div id=\"boxesWN\">\\r\\n  <div id=\"dialogWN\" class=\"window\" style=\"top:100px;\">\\r\\n  <div> <img width=\"60\" height=\"60\" src=\"/images/Rbinote.jpeg\" alt=\"Rbi note\" /> </div>\\r\\n   <table class=\"WelcomeNote\" >\\r\\n   <tr>\\r\\n   <td style=\"float:right;\">\\r\\n\\r\\n   April 14, 2015\\r\\n   </td>\\r\\n   </tr>\\r\\n    <tr>\\r\\n  \\r\\n    <td >\\r\\n    \\r\\n   Dear All\\r\\n    </td>\\r\\n    </tr>\\r\\n     <tr>\\r\\n     <td >\\r\\n     \\r\\n  Welcome to the refurbished site of the Reserve Bank of India. \\r\\n    </td>\\r\\n   \\r\\n    </tr>\\r\\n    <tr>\\r\\n    <td >\\r\\n    \\r\\n  The two most important features of the site are: One, in addition to the default site, the refurbished site also has all the information bifurcated functionwise; two, a much improved search \\xe2\\x80\\x93 well, at least we think so but you be the judge. \\r\\n    </td>\\r\\n   \\r\\n    </tr>\\r\\n\\r\\n      <tr>\\r\\n    <td>\\r\\n   With this makeover, we also take a small step into social media. We will now use Twitter (albeit one way) to send out alerts on the announcements we make and YouTube to place in public domain our press conferences, interviews of our top management, events, such as, town halls and of course, some films aimed at consumer literacy.  \\r\\n    </td>\\r\\n   \\r\\n    </tr>\\r\\n    <tr>\\r\\n    <td>\\r\\n    The site can be accessed through most browsers and devices; it also meets accessibility standards. \\r\\n    </td>\\r\\n    </tr>\\r\\n    <tr>\\r\\n    <td>\\r\\n    Please save the url of the refurbished site in your favourites as we will give up the existing site shortly and register or re-register yourselves for receiving RSS feeds for uninterrupted alerts from the Reserve Bank. \\r\\n    </td>\\r\\n    </tr>\\r\\n    <tr>\\r\\n    <td>\\r\\n    Do feel free to give us your feedback by clicking on the feedback button on the right hand corner of the refurbished site. \\r\\n    </td>\\r\\n    </tr>\\r\\n    <tr>\\r\\n    <td>\\r\\n    Thank you for your continued support.<br /><br />\\r\\n    </td>\\r\\n    </tr>\\r\\n    <tr>\\r\\n    <td>\\r\\n    <strong>\\r\\n    Department of Communication <br />\\r\\nReserve Bank of India</strong>\\r\\n\\r\\n    </td>\\r\\n    </tr>\\r\\n\\t<tr><td id=\"popupfootWN\"><a href=\"#\" class=\"close agree\" style=\"float:right\" >Next</a></td></tr>\\r\\n    </table>\\r\\n   <!-- <div id=\"popupfootWN\"> <a href=\"#\" class=\"close agree\" style=\"float:right\" >Next</a>    </div>--><!--<img src=\"../images/button_close.gif\" alt=\"Close\" class=\"close agree\" />-->\\r\\n  </div>\\r\\n  <div id=\"maskWN\" style=\"width:100% !important\"></div>\\r\\n\\r\\n<!--<div id=\"feedbackbtn\"><a href=\"#\"><div align=\"center\" class=\"feedbacktext\">Feedback</div></a></div>-->\\r\\n\\r\\n</div>\\r\\n</div>\\r\\n</footer>\\r\\n<!--<script type=\"text/javascript\" src=\"/js/URLchange.js\"></script>-->\\r\\n<!-- For live comment out below line.-->\\r\\n\\r\\n<script src=\"../js/ReplaceURL.js\" type=\"text/javascript\"></script>\\r\\n<script src=\"/js/jquery.cookie.js\" type=\"text/javascript\"></script>\\r\\n<script type=\"text/javascript\" language=\"javascript\">\\r\\n\\r\\n\\r\\n    //this is for floating TOP link\\r\\n    \\r\\n    $(document).ready(function () {\\r\\n\\r\\n        var offset = 230;\\r\\n        var duration = 500;\\r\\n\\r\\n\\r\\n        jQuery(window).scroll(function () {\\r\\n            if (jQuery(this).scrollTop() > offset) {\\r\\n                jQuery(\\'.scrollToTop\\').fadeIn(duration);\\r\\n                // $(\\'#backToTop\\').css(\\'right\\', (diffWidth / 2) - 6);\\r\\n            } else {\\r\\n                jQuery(\\'.scrollToTop\\').fadeOut(duration);\\r\\n                //  $(\\'#backToTop\\').css(\\'right\\', (diffWidth / 2) - 6);\\r\\n            }\\r\\n        });\\r\\n\\r\\n        //        $(\\'a[href*=#]:not([href=#])\\').click(function () {\\r\\n\\r\\n        //            if (location.pathname.replace(/^\\\\//, \\'\\') == window.location.pathname.replace(/^\\\\//, \\'\\') && location.hostname == window.location.hostname) {\\r\\n\\r\\n        //                var target = $(this.hash);\\r\\n        //                target = target.length ? target : $(\\'[name=\\' + this.hash.slice(1) + \\']\\');\\r\\n        //                if (target.length) {\\r\\n        //                    $(\\'html,body\\').animate({\\r\\n        //                        scrollTop: target.offset().top\\r\\n        //                    }, 800);\\r\\n        //                    return false;\\r\\n        //                }\\r\\n        //            }\\r\\n        //        });\\r\\n\\r\\n        $(\\'.scrollToTop\\').click(function () {\\r\\n            $(\\'html, body\\').animate({ scrollTop: 0 }, 800);\\r\\n            return false;\\r\\n        });\\r\\n    });\\r\\n\\r\\n\\r\\n    //Below code is for floating left panel and floating tree structure\\r\\n    //first if condition is for functionwise pages and 2nd one for rest all\\r\\n    $(window).scroll(function () {\\r\\n\\r\\n        if ($(\\'div.banner2\\').length) {\\r\\n\\r\\n            if ($(window).scrollTop() >= 265) {\\r\\n                $(\\'#menubar\\').css(\"position\", \"fixed\");\\r\\n                $(\\'#menubar\\').css(\"width\", \"240px\");\\r\\n                $(\\'#menubar\\').css(\"margin-top\", \"-281px\");\\r\\n                $(\\'.content_area\\').css(\"margin-left\", \"252px\");\\r\\n\\r\\n                $(\\'.sidebar_nav\\').css(\"position\", \"fixed\");\\r\\n                $(\\'.sidebar_nav\\').css(\"margin-top\", \"-200px\");\\r\\n                $(\\'.sidebar_nav\\').css(\"width\", \"236px\");\\r\\n\\r\\n\\r\\n                $(\\'#DateSettree_lbltree\\').css(\\'position\\', \\'fixed\\');\\r\\n                $(\\'#DateSettree_lbltree\\').css(\\'margin-top\\', \\'-281px\\');\\r\\n\\r\\n            }\\r\\n\\r\\n            else {\\r\\n                $(\\'#menubar\\').css(\"position\", \"\");\\r\\n                $(\\'#menubar\\').css(\"width\", \"\");\\r\\n                $(\\'#menubar\\').css(\"margin-top\", \"\");\\r\\n                $(\\'.content_area\\').css(\"margin-left\", \"\");\\r\\n\\r\\n                $(\\'.sidebar_nav\\').css(\"position\", \"\");\\r\\n                $(\\'.sidebar_nav\\').css(\"margin-top\", \"\");\\r\\n                $(\\'.sidebar_nav\\').css(\"width\", \"\");\\r\\n\\r\\n\\r\\n\\r\\n                $(\\'#DateSettree_lbltree\\').css(\\'position\\', \\'\\');\\r\\n                $(\\'#DateSettree_lbltree\\').css(\\'margin-top\\', \\'\\');\\r\\n            }\\r\\n\\r\\n        }\\r\\n\\r\\n        else if ($(window).scrollTop() >= 185) {\\r\\n            $(\\'#menubar\\').css(\"position\", \"fixed\");\\r\\n            $(\\'#menubar\\').css(\"width\", \"240px\");\\r\\n            $(\\'#menubar\\').css(\"margin-top\", \"-200px\");\\r\\n            $(\\'.content_area\\').css(\"margin-left\", \"252px\");\\r\\n\\r\\n            $(\\'.sidebar_nav\\').css(\"position\", \"fixed\");\\r\\n            $(\\'.sidebar_nav\\').css(\"margin-top\", \"-200px\");\\r\\n            $(\\'.sidebar_nav\\').css(\"width\", \"236px\");\\r\\n\\r\\n\\r\\n            $(\\'#DateSettree_lbltree\\').css(\\'position\\', \\'fixed\\');\\r\\n            $(\\'#DateSettree_lbltree\\').css(\\'margin-top\\', \\'-200px\\');\\r\\n\\r\\n        }\\r\\n\\r\\n        else {\\r\\n            $(\\'#menubar\\').css(\"position\", \"\");\\r\\n            $(\\'#menubar\\').css(\"width\", \"\");\\r\\n            $(\\'#menubar\\').css(\"margin-top\", \"\");\\r\\n            $(\\'.content_area\\').css(\"margin-left\", \"\");\\r\\n\\r\\n            $(\\'.sidebar_nav\\').css(\"position\", \"\");\\r\\n            $(\\'.sidebar_nav\\').css(\"margin-top\", \"\");\\r\\n            $(\\'.sidebar_nav\\').css(\"width\", \"\");\\r\\n\\r\\n\\r\\n            $(\\'#DateSettree_lbltree\\').css(\\'position\\', \\'\\');\\r\\n            $(\\'#DateSettree_lbltree\\').css(\\'margin-top\\', \\'\\');\\r\\n        }\\r\\n//        if ($(window).scrollTop() >= 235) {\\r\\n\\r\\n//            $(\\'#DateSettree_lbltree\\').css(\\'height\\', \\'183px\\');\\r\\n//            $(\\'#DateSettree_lbltree\\').css(\\'overflow-y\\', \\'scroll\\');\\r\\n//            $(\\'#DateSettree_lbltree\\').css(\\'width\\', \\'100px\\');\\r\\n\\r\\n//        }\\r\\n//        else {\\r\\n//            $(\\'#DateSettree_lbltree\\').css(\\'height\\', \\'\\');\\r\\n//            $(\\'#DateSettree_lbltree\\').css(\\'overflow-y\\', \\'\\');\\r\\n//            $(\\'#DateSettree_lbltree\\').css(\\'width\\', \\'\\');\\r\\n\\r\\n//        }\\r\\n\\r\\n       \\r\\n    });\\r\\n\\t\\r\\n       // $(window).unload(function () {\\r\\n       //     $.cookies.del(\\'feedback_Cookie\\'); \\r\\n       // });\\r\\n    $(document).ready(function () {\\r\\n\\t\\r\\n\\t\\r\\n\\t\\t  $(\\'.window .close\\').click(function (e) {\\r\\n            //Cancel the link behavior\\r\\n            e.preventDefault();\\r\\n            $.cookie(\\'feedback_Cookie\\', \\'Yes\\', { expires: 365, path: \\'/\\' });\\r\\n            $(\\'#maskWN\\').hide();\\r\\n            $(\\'.window\\').hide();\\r\\n            var scroll = $(window).scrollTop();\\r\\n            $(\"html\").scrollTop(scroll);\\r\\n        });\\r\\n\\t\\t\\r\\n\\t\\t $(\\'#maskWN\\').click(function () {\\r\\n            $(this).hide();\\r\\n            $.cookie(\\'feedback_Cookie\\', \\'Yes\\', { expires: 365, path: \\'/\\' });\\r\\n            $(\\'.window\\').hide();\\r\\n\\r\\n        });\\r\\n\\r\\n        //        if ($.cookie(\\'feedback_Cookie\\') == null) {\\r\\n        //            var id = \\'#dialog\\';\\r\\n\\r\\n        //            //Get the screen height and width\\r\\n        //            var maskHeight = $(document).height();\\r\\n        //            var maskWidth = $(window).width();\\r\\n        //           \\r\\n\\r\\n        //            //Set heigth and width to mask to fill up the whole screen\\r\\n        //            $(\\'#mask\\').css({ \\'width\\': \\'100%\\', \\'height\\': \\'100%\\',\\'position\\':\\'fixed\\' });\\r\\n\\r\\n        //            //transition effect\\r\\n        //            $(\\'#mask\\').fadeIn(500);\\r\\n        //            $(\\'#mask\\').fadeTo(\"slow\", 0.9);\\r\\n\\r\\n        //            //Get the window height and width\\r\\n        //            var winH = $(window).height();\\r\\n        //            var winW = $(window).width();\\r\\n\\r\\n        //            //Set the popup window to center\\r\\n        //            $(id).css(\\'top\\', winH / 2 - $(id).height() / 2);\\r\\n        //            $(id).css(\\'left\\', winW / 2 - $(id).width() / 2);\\r\\n\\r\\n        //            //transition effect\\r\\n        //            $(id).fadeIn(2000);\\r\\n\\r\\n\\r\\n\\r\\n        //        }\\r\\n//        $(\\'blockquote p\\').css(\\'margin\\',\\'auto\\');\\r\\n//        $(\\'blockquote blockquote blockquote p\\').contents().contents().unwrap();\\r\\n//        $(\\'blockquote blockquote blockquote\\').contents().unwrap();\\r\\n//        $(\\'blockquote blockquote\\').contents().unwrap();\\r\\n//        $(\\'blockquote\\').contents().unwrap();\\r\\n        \\r\\n\\r\\n        //if close button is clicked\\r\\n        $(\\'.window .close\\').click(function (e) {\\r\\n            //Cancel the link behavior\\r\\n            e.preventDefault();\\r\\n            $.cookie(\\'feedback_Cookie\\', \\'Yes\\', { expires: 365, path: \\'/\\' });\\r\\n            $(\\'#mask\\').hide();\\r\\n            $(\\'.window\\').hide();\\r\\n            var scroll = $(window).scrollTop();\\r\\n            $(\"html\").scrollTop(scroll);\\r\\n        });\\r\\n\\r\\n        //if mask is clicked\\r\\n        $(\\'#mask\\').click(function () {\\r\\n            $(this).hide();\\r\\n            $(\\'.window\\').hide();\\r\\n        });\\r\\n        $(\\'#feedbackbtn\\').click(function () {\\r\\n            var id = \\'#dialog\\';\\r\\n\\r\\n            //Get the screen height and width\\r\\n            var maskHeight = $(document).height();\\r\\n            var maskWidth = $(window).width();\\r\\n\\r\\n            //Set heigth and width to mask to fill up the whole screen\\r\\n            //$(\\'#mask\\').css({ \\'width\\': maskWidth, \\'height\\': maskHeight });\\r\\n            $(\\'#mask\\').css({ \\'width\\': \\'100%\\', \\'height\\': \\'100%\\', \\'position\\': \\'fixed\\' });\\r\\n\\r\\n            //transition effect\\r\\n            $(\\'#mask\\').fadeIn(500);\\r\\n            $(\\'#mask\\').fadeTo(\"slow\", 0.9);\\r\\n\\r\\n            //Get the window height and width\\r\\n            var winH = $(window).height();\\r\\n            var winW = $(window).width();\\r\\n\\r\\n            //Set the popup window to center\\r\\n            $(id).css(\\'top\\', winH / 2 - $(id).height() / 2);\\r\\n            $(id).css(\\'left\\', winW / 2 - $(id).width() / 2);\\r\\n\\r\\n            //transition effect\\r\\n            $(id).fadeIn(2000);\\r\\n        });\\r\\n\\r\\n        $(\\'.submit\\').click(function () {\\r\\n            var Name = $(\"[id*=txtFeedbackName]\").val();\\r\\n            var Email = $(\"[id*=txtFeedbackEmail]\").val();\\r\\n            var Comments = $(\"[id*=txtFeedbackComments]\").val();\\r\\n            if (Name == \"\") {\\r\\n\\r\\n                alert(\"Please enter your name\");\\r\\n                $(\"[id*=txtFeedbackName]\").focus();\\r\\n                return false;\\r\\n            }\\r\\n            else if (Email == \"\") {\\r\\n                alert(\"Please enter your email\");\\r\\n                $(\"[id*=txtFeedbackEmail]\").focus();\\r\\n                return false;\\r\\n            }\\r\\n            else if (Email != \"\" && !ValidateEmail(Email)) {\\r\\n                alert(\"Please enter a valid email address\");\\r\\n                $(\"[id*=txtFeedbackEmail]\").focus();\\r\\n                return false;\\r\\n            }\\r\\n\\r\\n            else if (Comments == \"\") {\\r\\n\\r\\n                alert(\"Please enter some comments\");\\r\\n                $(\"[id*=txtFeedbackComments]\").focus();\\r\\n                return false;\\r\\n            }\\r\\n\\r\\n            else {\\r\\n                $(\\'[id*=Button1]\\').attr(\\'disabled\\', \\'disabled\\');\\r\\n\\r\\n                var param = { Name: Name, EmailID: Email, Comments: Comments };\\r\\n                $.ajax({\\r\\n                    type: \"POST\",\\r\\n                    url: \"../Home.aspx/SaveFeedback\",\\r\\n                    data: JSON.stringify(param),\\r\\n                    contentType: \"application/json; charset=utf-8\",\\r\\n                    dataType: \"json\",\\r\\n\\r\\n                    success: function (response) {\\r\\n\\r\\n                        if (response.d == \"0\") {\\r\\n                            alert(\"Thank you for your feedback\");\\r\\n                            $.cookie(\\'feedback_Cookie\\', \\'Yes\\', { expires: 365, path: \\'/\\' });\\r\\n                            $(\\'#mask\\').hide();\\r\\n                            $(\\'.window\\').hide();\\r\\n                            $(\\'[id*=Button1]\\').removeAttr(\\'disabled\\');\\r\\n                            $(\"[id*=txtFeedbackName]\").val(\"\");\\r\\n                            $(\"[id*=txtFeedbackEmail]\").val(\"\");\\r\\n                            $(\"[id*=txtFeedbackComments]\").val(\"\");\\r\\n                        }\\r\\n                        else {\\r\\n                            alert(\"Please try again\");\\r\\n                            $(\\'[id*=Button1]\\').removeAttr(\\'disabled\\');\\r\\n\\r\\n\\r\\n                        }\\r\\n\\r\\n                    }\\r\\n                });\\r\\n            }\\r\\n\\r\\n        });\\r\\n\\r\\n        function ValidateEmail(email) {\\r\\n            var expr = /^([\\\\w-\\\\.]+)@((\\\\[[0-9]{1,3}\\\\.[0-9]{1,3}\\\\.[0-9]{1,3}\\\\.)|(([\\\\w-]+\\\\.)+))([a-zA-Z]{2,4}|[0-9]{1,3})(\\\\]?)$/;\\r\\n            return expr.test(email);\\r\\n        };\\r\\n\\r\\n        //        $(\\'#divArchiveMain\\').click(function () {\\r\\n        //            \\r\\n        //            if ($(window).scrollTop() >= 235) {\\r\\n\\r\\n        //                $(\\'#DateSettree_lbltree\\').css(\\'height\\', \\'181px\\');\\r\\n        //                $(\\'#DateSettree_lbltree\\').css(\\'overflow-y\\', \\'scroll\\');\\r\\n        //                $(\\'#DateSettree_lbltree\\').css(\\'width\\', \\'100px\\');\\r\\n\\r\\n        //            }\\r\\n        //            else {\\r\\n        //                $(\\'#DateSettree_lbltree\\').css(\\'height\\', \\'\\');\\r\\n        //                $(\\'#DateSettree_lbltree\\').css(\\'overflow-y\\', \\'\\');\\r\\n        //                $(\\'#DateSettree_lbltree\\').css(\\'width\\', \\'\\');\\r\\n\\r\\n        //            }\\r\\n        //        });\\r\\n\\r\\n        $(\\'a.style1\\').each(function () {\\r\\n\\r\\n            var $this = $(this);\\r\\n            var aHref = $this.attr(\\'class\\');\\r\\n            $this.attr(\\'class\\', aHref.replace(\\'style1\\', \\'links\\'));\\r\\n        });\\r\\n    });\\r\\n\\r\\n</script>\\r\\n<script type=\"text/javascript\">\\r\\n  (function(i,s,o,g,r,a,m){i[\\'GoogleAnalyticsObject\\']=r;i[r]=i[r]||function(){\\r\\n  (i[r].q=i[r].q||[]).push(arguments)},i[r].l=1*new Date();a=s.createElement(o),\\r\\n  m=s.getElementsByTagName(o)[0];a.async=1;a.src=g;m.parentNode.insertBefore(a,m)\\r\\n  })(window,document,\\'script\\',\\'//www.google-analytics.com/analytics.js\\',\\'ga\\');\\r\\n\\r\\n  ga(\\'create\\', \\'UA-61369961-1\\', \\'auto\\');\\r\\n  ga(\\'send\\', \\'pageview\\');\\r\\n\\r\\n</script></form>\\r\\n</body>\\r\\n</html>\\r\\n<script type=\"text/javascript\" src=\"/js/plugins.js\"></script>\\r\\n<script type=\"text/javascript\" src=\"/js/script.js\"></script>\\r\\n<script type=\"text/javascript\" src=\"/js/Scroll.js\"></script>\\r\\n<script type=\"text/javascript\" language=\"javascript\">\\r\\n    DoubleScrollWithTree(document.getElementById(\\'doublescroll\\'));\\r\\n\\r\\n    function GetYearMonth(year, month) {\\r\\n        document.getElementById(\"hdnYear\").value = year;\\r\\n        document.getElementById(\"hdnMonth\").value = month;\\r\\n        document.getElementById(\"btn\").click();\\r\\n    }\\r\\n    //Implemented onlick for \\'archives\\' link in tree structure\\r\\n    function hideshow(divArchive) {\\r\\n        if (!document.getElementById(divArchive))\\r\\n            return\\r\\n        if (document.getElementById(divArchive).style.display == \"block\")\\r\\n            document.getElementById(divArchive).style.display = \"none\"\\r\\n        else\\r\\n            document.getElementById(divArchive).style.display = \"block\"\\r\\n    }\\r\\n    function SetTreeStyles() {\\r\\n        var strYear = document.getElementById(\"hdnYear\").value;\\r\\n        var strMonth = document.getElementById(\"hdnMonth\").value\\r\\n        if (strYear != \"\") {\\r\\n            var toDay = new Date();\\r\\n            document.getElementById(\"btn\" + strYear).setAttribute(\"class\", \"accordionButton year active_year\");\\r\\n            document.getElementById(strYear).style.display = \"block\"\\r\\n            if (strMonth) document.getElementById(strYear + strMonth).setAttribute(\"class\", \"active\");\\r\\n            if (toDay.getFullYear() - 9 > parseInt(strYear)) { document.getElementById(\"divArchiveSub\").style.display = \"block\" }\\r\\n        }\\r\\n        //        document.getElementById(document.getElementById(\"hdnYear\").value).style.display = \"block\"\\r\\n        //        document.getElementById(\"btn\" + document.getElementById(\"hdnYear\").value).setAttribute(\"class\", \"accordionButton year active_year\");\\r\\n        //        document.getElementById(document.getElementById(\"hdnYear\").value + document.getElementById(\"hdnMonth\").value).setAttribute(\"class\", \"active\");\\r\\n    }\\r\\n</script>\\r\\n'"
      ]
     },
     "execution_count": 86,
     "metadata": {},
     "output_type": "execute_result"
    }
   ],
   "source": [
    "data"
   ]
  },
  {
   "cell_type": "code",
   "execution_count": 88,
   "metadata": {
    "collapsed": false
   },
   "outputs": [
    {
     "data": {
      "text/plain": [
       "['<table class=\"tablebg\" width=\"100%\"><tr><td class=\"tableheader\"><a href=\"http://rbidocs.rbi.org.in/rdocs/PressRelease/Pdfs/PR4708A7D5F8A350445B98871AB235E706EAE.PDF\" target=\"_blank\"><img  border=\"0\" src=\"../images/Pdf.gif\"></a>(154 kb)</td></tr><tr><td class=\"tableheader\" align=\"right\"> <b>Date: </b>23 Aug 2016</td></tr><tr><td class=\"tableheader\"  align=\"center\"><b> RBI Reference Rate for US $</b></td></tr><tr><td><table width=\"100%\" border=\"0\" align=\"center\" class=\"td\">  <tr>    <td align=\"Justify\"><p>The Reserve Bank of India\\xe2\\x80\\x99s Reference Rate for the US Dollar is \\xe2\\x82\\xb9 67.0885 on August 23, 2016.</p>    <p>The corresponding rate for the previous day (August 22, 2016) was \\xe2\\x82\\xb9 67.1940.</p>    <p>Based on the reference rate for the US Dollar and the middle rates of the cross-currency quotes, the exchange rate of EUR, GBP and JPY against the Rupee are given below: </p>    <table width=\"60%\" border=\"1\" align=\"center\" cellpadding=\"0\" cellspacing=\"0\" class=\"td\">      <tr>        <td width=\"32%\" rowspan=\"2\" align=\"center\"><span class=\"head\">Currency</span></td>        <td colspan=\"2\" align=\"center\"><span class=\"head\">Date</span></td>      </tr>      <tr>        <td width=\"34%\" align=\"center\"><span class=\"head\">August 22, 2016</span></td>        <td width=\"34%\" align=\"center\"><span class=\"head\">August 23, 2016</span></td>      </tr>      <tr>        <td align=\"center\">1 EUR</td>        <td align=\"center\">75.8083</td>        <td align=\"center\">76.0381</td>      </tr>      <tr>        <td align=\"center\">1 GBP</td>        <td align=\"center\">87.6747</td>        <td align=\"center\">88.2885</td>      </tr>      <tr>        <td align=\"center\">100 YEN</td>        <td align=\"center\">66.67</td>        <td align=\"center\">67.03</td>      </tr>      <tr>        <td colspan=\"3\"><span class=\"head\">Note :</span> The SDR-Rupee rate will be based on the reference rate.</td>      </tr>    </table>']"
      ]
     },
     "execution_count": 88,
     "metadata": {},
     "output_type": "execute_result"
    }
   ],
   "source": [
    "re.findall(\"<table .+ </table>\",data)"
   ]
  },
  {
   "cell_type": "code",
   "execution_count": 1,
   "metadata": {
    "collapsed": true
   },
   "outputs": [],
   "source": [
    "import pandas as pd"
   ]
  },
  {
   "cell_type": "code",
   "execution_count": 2,
   "metadata": {
    "collapsed": false
   },
   "outputs": [],
   "source": [
    "data = pd.read_html(\"https://www.rbi.org.in/scripts/BS_DisplayReferenceRate.aspx\")"
   ]
  },
  {
   "cell_type": "code",
   "execution_count": 5,
   "metadata": {
    "collapsed": false
   },
   "outputs": [
    {
     "data": {
      "text/html": [
       "<div>\n",
       "<table border=\"1\" class=\"dataframe\">\n",
       "  <thead>\n",
       "    <tr style=\"text-align: right;\">\n",
       "      <th></th>\n",
       "      <th>0</th>\n",
       "      <th>1</th>\n",
       "      <th>2</th>\n",
       "      <th>3</th>\n",
       "      <th>4</th>\n",
       "      <th>5</th>\n",
       "      <th>6</th>\n",
       "      <th>7</th>\n",
       "      <th>8</th>\n",
       "      <th>9</th>\n",
       "      <th>10</th>\n",
       "      <th>11</th>\n",
       "      <th>12</th>\n",
       "      <th>13</th>\n",
       "      <th>14</th>\n",
       "    </tr>\n",
       "  </thead>\n",
       "  <tbody>\n",
       "    <tr>\n",
       "      <th>0</th>\n",
       "      <td>The Reserve Bank of India’s Reference Rate for...</td>\n",
       "      <td>Currency</td>\n",
       "      <td>Date</td>\n",
       "      <td>August 22, 2016</td>\n",
       "      <td>August 23, 2016</td>\n",
       "      <td>1 EUR</td>\n",
       "      <td>75.8083</td>\n",
       "      <td>76.0381</td>\n",
       "      <td>1 GBP</td>\n",
       "      <td>87.6747</td>\n",
       "      <td>88.2885</td>\n",
       "      <td>100 YEN</td>\n",
       "      <td>66.67</td>\n",
       "      <td>67.03</td>\n",
       "      <td>Note : The SDR-Rupee rate will be based on the...</td>\n",
       "    </tr>\n",
       "    <tr>\n",
       "      <th>1</th>\n",
       "      <td>Currency</td>\n",
       "      <td>Date</td>\n",
       "      <td>NaN</td>\n",
       "      <td>NaN</td>\n",
       "      <td>NaN</td>\n",
       "      <td>NaN</td>\n",
       "      <td>NaN</td>\n",
       "      <td>NaN</td>\n",
       "      <td>NaN</td>\n",
       "      <td>NaN</td>\n",
       "      <td>NaN</td>\n",
       "      <td>NaN</td>\n",
       "      <td>NaN</td>\n",
       "      <td>NaN</td>\n",
       "      <td>NaN</td>\n",
       "    </tr>\n",
       "    <tr>\n",
       "      <th>2</th>\n",
       "      <td>August 22, 2016</td>\n",
       "      <td>August 23, 2016</td>\n",
       "      <td>NaN</td>\n",
       "      <td>NaN</td>\n",
       "      <td>NaN</td>\n",
       "      <td>NaN</td>\n",
       "      <td>NaN</td>\n",
       "      <td>NaN</td>\n",
       "      <td>NaN</td>\n",
       "      <td>NaN</td>\n",
       "      <td>NaN</td>\n",
       "      <td>NaN</td>\n",
       "      <td>NaN</td>\n",
       "      <td>NaN</td>\n",
       "      <td>NaN</td>\n",
       "    </tr>\n",
       "    <tr>\n",
       "      <th>3</th>\n",
       "      <td>1 EUR</td>\n",
       "      <td>75.8083</td>\n",
       "      <td>76.0381</td>\n",
       "      <td>NaN</td>\n",
       "      <td>NaN</td>\n",
       "      <td>NaN</td>\n",
       "      <td>NaN</td>\n",
       "      <td>NaN</td>\n",
       "      <td>NaN</td>\n",
       "      <td>NaN</td>\n",
       "      <td>NaN</td>\n",
       "      <td>NaN</td>\n",
       "      <td>NaN</td>\n",
       "      <td>NaN</td>\n",
       "      <td>NaN</td>\n",
       "    </tr>\n",
       "    <tr>\n",
       "      <th>4</th>\n",
       "      <td>1 GBP</td>\n",
       "      <td>87.6747</td>\n",
       "      <td>88.2885</td>\n",
       "      <td>NaN</td>\n",
       "      <td>NaN</td>\n",
       "      <td>NaN</td>\n",
       "      <td>NaN</td>\n",
       "      <td>NaN</td>\n",
       "      <td>NaN</td>\n",
       "      <td>NaN</td>\n",
       "      <td>NaN</td>\n",
       "      <td>NaN</td>\n",
       "      <td>NaN</td>\n",
       "      <td>NaN</td>\n",
       "      <td>NaN</td>\n",
       "    </tr>\n",
       "    <tr>\n",
       "      <th>5</th>\n",
       "      <td>100 YEN</td>\n",
       "      <td>66.67</td>\n",
       "      <td>67.03</td>\n",
       "      <td>NaN</td>\n",
       "      <td>NaN</td>\n",
       "      <td>NaN</td>\n",
       "      <td>NaN</td>\n",
       "      <td>NaN</td>\n",
       "      <td>NaN</td>\n",
       "      <td>NaN</td>\n",
       "      <td>NaN</td>\n",
       "      <td>NaN</td>\n",
       "      <td>NaN</td>\n",
       "      <td>NaN</td>\n",
       "      <td>NaN</td>\n",
       "    </tr>\n",
       "    <tr>\n",
       "      <th>6</th>\n",
       "      <td>Note : The SDR-Rupee rate will be based on the...</td>\n",
       "      <td>NaN</td>\n",
       "      <td>NaN</td>\n",
       "      <td>NaN</td>\n",
       "      <td>NaN</td>\n",
       "      <td>NaN</td>\n",
       "      <td>NaN</td>\n",
       "      <td>NaN</td>\n",
       "      <td>NaN</td>\n",
       "      <td>NaN</td>\n",
       "      <td>NaN</td>\n",
       "      <td>NaN</td>\n",
       "      <td>NaN</td>\n",
       "      <td>NaN</td>\n",
       "      <td>NaN</td>\n",
       "    </tr>\n",
       "  </tbody>\n",
       "</table>\n",
       "</div>"
      ],
      "text/plain": [
       "                                                  0                1   \\\n",
       "0  The Reserve Bank of India’s Reference Rate for...         Currency   \n",
       "1                                           Currency             Date   \n",
       "2                                    August 22, 2016  August 23, 2016   \n",
       "3                                              1 EUR          75.8083   \n",
       "4                                              1 GBP          87.6747   \n",
       "5                                            100 YEN            66.67   \n",
       "6  Note : The SDR-Rupee rate will be based on the...              NaN   \n",
       "\n",
       "        2                3                4      5        6        7      8   \\\n",
       "0     Date  August 22, 2016  August 23, 2016  1 EUR  75.8083  76.0381  1 GBP   \n",
       "1      NaN              NaN              NaN    NaN      NaN      NaN    NaN   \n",
       "2      NaN              NaN              NaN    NaN      NaN      NaN    NaN   \n",
       "3  76.0381              NaN              NaN    NaN      NaN      NaN    NaN   \n",
       "4  88.2885              NaN              NaN    NaN      NaN      NaN    NaN   \n",
       "5    67.03              NaN              NaN    NaN      NaN      NaN    NaN   \n",
       "6      NaN              NaN              NaN    NaN      NaN      NaN    NaN   \n",
       "\n",
       "        9        10       11     12     13  \\\n",
       "0  87.6747  88.2885  100 YEN  66.67  67.03   \n",
       "1      NaN      NaN      NaN    NaN    NaN   \n",
       "2      NaN      NaN      NaN    NaN    NaN   \n",
       "3      NaN      NaN      NaN    NaN    NaN   \n",
       "4      NaN      NaN      NaN    NaN    NaN   \n",
       "5      NaN      NaN      NaN    NaN    NaN   \n",
       "6      NaN      NaN      NaN    NaN    NaN   \n",
       "\n",
       "                                                  14  \n",
       "0  Note : The SDR-Rupee rate will be based on the...  \n",
       "1                                                NaN  \n",
       "2                                                NaN  \n",
       "3                                                NaN  \n",
       "4                                                NaN  \n",
       "5                                                NaN  \n",
       "6                                                NaN  "
      ]
     },
     "execution_count": 5,
     "metadata": {},
     "output_type": "execute_result"
    }
   ],
   "source": [
    "data[1]"
   ]
  },
  {
   "cell_type": "code",
   "execution_count": 6,
   "metadata": {
    "collapsed": true
   },
   "outputs": [],
   "source": [
    "data = pd.read_html(\"http://www.w3schools.com/html/html_tables.asp\")"
   ]
  },
  {
   "cell_type": "code",
   "execution_count": 7,
   "metadata": {
    "collapsed": false
   },
   "outputs": [
    {
     "data": {
      "text/html": [
       "<div>\n",
       "<table border=\"1\" class=\"dataframe\">\n",
       "  <thead>\n",
       "    <tr style=\"text-align: right;\">\n",
       "      <th></th>\n",
       "      <th>0</th>\n",
       "      <th>1</th>\n",
       "      <th>2</th>\n",
       "    </tr>\n",
       "  </thead>\n",
       "  <tbody>\n",
       "    <tr>\n",
       "      <th>0</th>\n",
       "      <td>Company</td>\n",
       "      <td>Contact</td>\n",
       "      <td>Country</td>\n",
       "    </tr>\n",
       "    <tr>\n",
       "      <th>1</th>\n",
       "      <td>Alfreds Futterkiste</td>\n",
       "      <td>Maria Anders</td>\n",
       "      <td>Germany</td>\n",
       "    </tr>\n",
       "    <tr>\n",
       "      <th>2</th>\n",
       "      <td>Centro comercial Moctezuma</td>\n",
       "      <td>Francisco Chang</td>\n",
       "      <td>Mexico</td>\n",
       "    </tr>\n",
       "    <tr>\n",
       "      <th>3</th>\n",
       "      <td>Ernst Handel</td>\n",
       "      <td>Roland Mendel</td>\n",
       "      <td>Austria</td>\n",
       "    </tr>\n",
       "    <tr>\n",
       "      <th>4</th>\n",
       "      <td>Island Trading</td>\n",
       "      <td>Helen Bennett</td>\n",
       "      <td>UK</td>\n",
       "    </tr>\n",
       "    <tr>\n",
       "      <th>5</th>\n",
       "      <td>Laughing Bacchus Winecellars</td>\n",
       "      <td>Yoshi Tannamuri</td>\n",
       "      <td>Canada</td>\n",
       "    </tr>\n",
       "    <tr>\n",
       "      <th>6</th>\n",
       "      <td>Magazzini Alimentari Riuniti</td>\n",
       "      <td>Giovanni Rovelli</td>\n",
       "      <td>Italy</td>\n",
       "    </tr>\n",
       "  </tbody>\n",
       "</table>\n",
       "</div>"
      ],
      "text/plain": [
       "                              0                 1        2\n",
       "0                       Company           Contact  Country\n",
       "1           Alfreds Futterkiste      Maria Anders  Germany\n",
       "2    Centro comercial Moctezuma   Francisco Chang   Mexico\n",
       "3                  Ernst Handel     Roland Mendel  Austria\n",
       "4                Island Trading     Helen Bennett       UK\n",
       "5  Laughing Bacchus Winecellars   Yoshi Tannamuri   Canada\n",
       "6  Magazzini Alimentari Riuniti  Giovanni Rovelli    Italy"
      ]
     },
     "execution_count": 7,
     "metadata": {},
     "output_type": "execute_result"
    }
   ],
   "source": [
    "data[0]"
   ]
  },
  {
   "cell_type": "code",
   "execution_count": 8,
   "metadata": {
    "collapsed": false
   },
   "outputs": [
    {
     "name": "stdout",
     "output_type": "stream",
     "text": [
      "                              0                 1        2\n",
      "0                       Company           Contact  Country\n",
      "1           Alfreds Futterkiste      Maria Anders  Germany\n",
      "2    Centro comercial Moctezuma   Francisco Chang   Mexico\n",
      "3                  Ernst Handel     Roland Mendel  Austria\n",
      "4                Island Trading     Helen Bennett       UK\n",
      "5  Laughing Bacchus Winecellars   Yoshi Tannamuri   Canada\n",
      "6  Magazzini Alimentari Riuniti  Giovanni Rovelli    Italy\n",
      "             0                                                  1\n",
      "0          Tag                                        Description\n",
      "1      <table>                                    Defines a table\n",
      "2         <th>                   Defines a header cell in a table\n",
      "3         <tr>                           Defines a row in a table\n",
      "4         <td>                          Defines a cell in a table\n",
      "5    <caption>                            Defines a table caption\n",
      "6   <colgroup>  Specifies a group of one or more columns in a ...\n",
      "7        <col>  Specifies column properties for each column wi...\n",
      "8      <thead>               Groups the header content in a table\n",
      "9      <tbody>                 Groups the body content in a table\n",
      "10     <tfoot>          Groups the footer content in a table /td>\n"
     ]
    }
   ],
   "source": [
    "for i in data:\n",
    "    print i"
   ]
  },
  {
   "cell_type": "code",
   "execution_count": 9,
   "metadata": {
    "collapsed": false
   },
   "outputs": [
    {
     "data": {
      "text/html": [
       "<div>\n",
       "<table border=\"1\" class=\"dataframe\">\n",
       "  <thead>\n",
       "    <tr style=\"text-align: right;\">\n",
       "      <th></th>\n",
       "      <th>0</th>\n",
       "      <th>1</th>\n",
       "      <th>2</th>\n",
       "    </tr>\n",
       "  </thead>\n",
       "  <tbody>\n",
       "    <tr>\n",
       "      <th>0</th>\n",
       "      <td>Company</td>\n",
       "      <td>Contact</td>\n",
       "      <td>Country</td>\n",
       "    </tr>\n",
       "    <tr>\n",
       "      <th>1</th>\n",
       "      <td>Alfreds Futterkiste</td>\n",
       "      <td>Maria Anders</td>\n",
       "      <td>Germany</td>\n",
       "    </tr>\n",
       "    <tr>\n",
       "      <th>2</th>\n",
       "      <td>Centro comercial Moctezuma</td>\n",
       "      <td>Francisco Chang</td>\n",
       "      <td>Mexico</td>\n",
       "    </tr>\n",
       "    <tr>\n",
       "      <th>3</th>\n",
       "      <td>Ernst Handel</td>\n",
       "      <td>Roland Mendel</td>\n",
       "      <td>Austria</td>\n",
       "    </tr>\n",
       "    <tr>\n",
       "      <th>4</th>\n",
       "      <td>Island Trading</td>\n",
       "      <td>Helen Bennett</td>\n",
       "      <td>UK</td>\n",
       "    </tr>\n",
       "    <tr>\n",
       "      <th>5</th>\n",
       "      <td>Laughing Bacchus Winecellars</td>\n",
       "      <td>Yoshi Tannamuri</td>\n",
       "      <td>Canada</td>\n",
       "    </tr>\n",
       "    <tr>\n",
       "      <th>6</th>\n",
       "      <td>Magazzini Alimentari Riuniti</td>\n",
       "      <td>Giovanni Rovelli</td>\n",
       "      <td>Italy</td>\n",
       "    </tr>\n",
       "  </tbody>\n",
       "</table>\n",
       "</div>"
      ],
      "text/plain": [
       "                              0                 1        2\n",
       "0                       Company           Contact  Country\n",
       "1           Alfreds Futterkiste      Maria Anders  Germany\n",
       "2    Centro comercial Moctezuma   Francisco Chang   Mexico\n",
       "3                  Ernst Handel     Roland Mendel  Austria\n",
       "4                Island Trading     Helen Bennett       UK\n",
       "5  Laughing Bacchus Winecellars   Yoshi Tannamuri   Canada\n",
       "6  Magazzini Alimentari Riuniti  Giovanni Rovelli    Italy"
      ]
     },
     "execution_count": 9,
     "metadata": {},
     "output_type": "execute_result"
    }
   ],
   "source": [
    "data[0]"
   ]
  },
  {
   "cell_type": "code",
   "execution_count": 10,
   "metadata": {
    "collapsed": false
   },
   "outputs": [
    {
     "data": {
      "text/html": [
       "<div>\n",
       "<table border=\"1\" class=\"dataframe\">\n",
       "  <thead>\n",
       "    <tr style=\"text-align: right;\">\n",
       "      <th></th>\n",
       "      <th>0</th>\n",
       "      <th>1</th>\n",
       "    </tr>\n",
       "  </thead>\n",
       "  <tbody>\n",
       "    <tr>\n",
       "      <th>0</th>\n",
       "      <td>Tag</td>\n",
       "      <td>Description</td>\n",
       "    </tr>\n",
       "    <tr>\n",
       "      <th>1</th>\n",
       "      <td>&lt;table&gt;</td>\n",
       "      <td>Defines a table</td>\n",
       "    </tr>\n",
       "    <tr>\n",
       "      <th>2</th>\n",
       "      <td>&lt;th&gt;</td>\n",
       "      <td>Defines a header cell in a table</td>\n",
       "    </tr>\n",
       "    <tr>\n",
       "      <th>3</th>\n",
       "      <td>&lt;tr&gt;</td>\n",
       "      <td>Defines a row in a table</td>\n",
       "    </tr>\n",
       "    <tr>\n",
       "      <th>4</th>\n",
       "      <td>&lt;td&gt;</td>\n",
       "      <td>Defines a cell in a table</td>\n",
       "    </tr>\n",
       "    <tr>\n",
       "      <th>5</th>\n",
       "      <td>&lt;caption&gt;</td>\n",
       "      <td>Defines a table caption</td>\n",
       "    </tr>\n",
       "    <tr>\n",
       "      <th>6</th>\n",
       "      <td>&lt;colgroup&gt;</td>\n",
       "      <td>Specifies a group of one or more columns in a ...</td>\n",
       "    </tr>\n",
       "    <tr>\n",
       "      <th>7</th>\n",
       "      <td>&lt;col&gt;</td>\n",
       "      <td>Specifies column properties for each column wi...</td>\n",
       "    </tr>\n",
       "    <tr>\n",
       "      <th>8</th>\n",
       "      <td>&lt;thead&gt;</td>\n",
       "      <td>Groups the header content in a table</td>\n",
       "    </tr>\n",
       "    <tr>\n",
       "      <th>9</th>\n",
       "      <td>&lt;tbody&gt;</td>\n",
       "      <td>Groups the body content in a table</td>\n",
       "    </tr>\n",
       "    <tr>\n",
       "      <th>10</th>\n",
       "      <td>&lt;tfoot&gt;</td>\n",
       "      <td>Groups the footer content in a table /td&gt;</td>\n",
       "    </tr>\n",
       "  </tbody>\n",
       "</table>\n",
       "</div>"
      ],
      "text/plain": [
       "             0                                                  1\n",
       "0          Tag                                        Description\n",
       "1      <table>                                    Defines a table\n",
       "2         <th>                   Defines a header cell in a table\n",
       "3         <tr>                           Defines a row in a table\n",
       "4         <td>                          Defines a cell in a table\n",
       "5    <caption>                            Defines a table caption\n",
       "6   <colgroup>  Specifies a group of one or more columns in a ...\n",
       "7        <col>  Specifies column properties for each column wi...\n",
       "8      <thead>               Groups the header content in a table\n",
       "9      <tbody>                 Groups the body content in a table\n",
       "10     <tfoot>          Groups the footer content in a table /td>"
      ]
     },
     "execution_count": 10,
     "metadata": {},
     "output_type": "execute_result"
    }
   ],
   "source": [
    "data[1]"
   ]
  },
  {
   "cell_type": "code",
   "execution_count": null,
   "metadata": {
    "collapsed": true
   },
   "outputs": [],
   "source": []
  }
 ],
 "metadata": {
  "kernelspec": {
   "display_name": "Python [Root]",
   "language": "python",
   "name": "Python [Root]"
  },
  "language_info": {
   "codemirror_mode": {
    "name": "ipython",
    "version": 2
   },
   "file_extension": ".py",
   "mimetype": "text/x-python",
   "name": "python",
   "nbconvert_exporter": "python",
   "pygments_lexer": "ipython2",
   "version": "2.7.12"
  }
 },
 "nbformat": 4,
 "nbformat_minor": 0
}
